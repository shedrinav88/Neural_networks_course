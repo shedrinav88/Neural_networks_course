{
  "nbformat": 4,
  "nbformat_minor": 0,
  "metadata": {
    "colab": {
      "name": "hw_5_NN.ipynb",
      "provenance": [],
      "collapsed_sections": []
    },
    "kernelspec": {
      "name": "python3",
      "display_name": "Python 3"
    },
    "language_info": {
      "name": "python"
    }
  },
  "cells": [
    {
      "cell_type": "markdown",
      "source": [
        "## Домашнее задание\n",
        "1. Попробуйте обучить нейронную сеть RNN/LSTM/GRU на любом другом датасете (любимый временной ряд, текст на русском (другом языке) как генератор или классификатор, или прилагаемый набор airline-passengers - пасажиропоток для авиалиний). \n",
        "\n",
        "2. Опишите, какой результат вы получили? Что помогло вам улучшить ее точность?"
      ],
      "metadata": {
        "id": "UUugKWL8u_yK"
      }
    },
    {
      "cell_type": "code",
      "source": [
        "import pandas as pd\n",
        "from keras.layers import SimpleRNN, LSTM, SimpleRNNCell, Dense\n",
        "from keras.models import Sequential\n",
        "import tensorflow as tf"
      ],
      "metadata": {
        "id": "_bRVYfJAvPwJ"
      },
      "execution_count": 1,
      "outputs": []
    },
    {
      "cell_type": "code",
      "execution_count": 2,
      "metadata": {
        "colab": {
          "base_uri": "https://localhost:8080/"
        },
        "id": "_jizbGUZu-OG",
        "outputId": "ce3b2589-91f3-4e6f-e77a-c23b66d8aba4"
      },
      "outputs": [
        {
          "output_type": "stream",
          "name": "stdout",
          "text": [
            "--2022-03-12 18:26:39--  https://drive.google.com/uc?export=download&id=1xwXieDVy1RKdfiJ6am_nNWp6XhAYdhNb\n",
            "Resolving drive.google.com (drive.google.com)... 173.194.203.100, 173.194.203.113, 173.194.203.139, ...\n",
            "Connecting to drive.google.com (drive.google.com)|173.194.203.100|:443... connected.\n",
            "HTTP request sent, awaiting response... 303 See Other\n",
            "Location: https://doc-08-c0-docs.googleusercontent.com/docs/securesc/ha0ro937gcuc7l7deffksulhg5h7mbp1/j8tb7em9p3ulj3sjfe92i6tm4lil8i4p/1647109575000/14904333240138417226/*/1xwXieDVy1RKdfiJ6am_nNWp6XhAYdhNb?e=download [following]\n",
            "Warning: wildcards not supported in HTTP.\n",
            "--2022-03-12 18:26:40--  https://doc-08-c0-docs.googleusercontent.com/docs/securesc/ha0ro937gcuc7l7deffksulhg5h7mbp1/j8tb7em9p3ulj3sjfe92i6tm4lil8i4p/1647109575000/14904333240138417226/*/1xwXieDVy1RKdfiJ6am_nNWp6XhAYdhNb?e=download\n",
            "Resolving doc-08-c0-docs.googleusercontent.com (doc-08-c0-docs.googleusercontent.com)... 74.125.199.132, 2607:f8b0:400e:c02::84\n",
            "Connecting to doc-08-c0-docs.googleusercontent.com (doc-08-c0-docs.googleusercontent.com)|74.125.199.132|:443... connected.\n",
            "HTTP request sent, awaiting response... 200 OK\n",
            "Length: 2037 (2.0K) [text/csv]\n",
            "Saving to: ‘airline-passengers.csv’\n",
            "\n",
            "airline-passengers. 100%[===================>]   1.99K  --.-KB/s    in 0s      \n",
            "\n",
            "2022-03-12 18:26:40 (67.9 MB/s) - ‘airline-passengers.csv’ saved [2037/2037]\n",
            "\n"
          ]
        }
      ],
      "source": [
        "!wget 'https://drive.google.com/uc?export=download&id=1xwXieDVy1RKdfiJ6am_nNWp6XhAYdhNb' -O airline-passengers.csv"
      ]
    },
    {
      "cell_type": "code",
      "source": [
        "df = pd.read_csv('/content/airline-passengers.csv')\n",
        "df"
      ],
      "metadata": {
        "colab": {
          "base_uri": "https://localhost:8080/",
          "height": 424
        },
        "id": "0qQfGU0QvJ-c",
        "outputId": "aa295168-e936-4c9a-b5d5-03cff5d7180f"
      },
      "execution_count": 3,
      "outputs": [
        {
          "output_type": "execute_result",
          "data": {
            "text/plain": [
              "       Month  Passengers\n",
              "0    1949-01         112\n",
              "1    1949-02         118\n",
              "2    1949-03         132\n",
              "3    1949-04         129\n",
              "4    1949-05         121\n",
              "..       ...         ...\n",
              "139  1960-08         606\n",
              "140  1960-09         508\n",
              "141  1960-10         461\n",
              "142  1960-11         390\n",
              "143  1960-12         432\n",
              "\n",
              "[144 rows x 2 columns]"
            ],
            "text/html": [
              "\n",
              "  <div id=\"df-c12c8642-0e7f-4cf0-99f1-b1b2293a98e4\">\n",
              "    <div class=\"colab-df-container\">\n",
              "      <div>\n",
              "<style scoped>\n",
              "    .dataframe tbody tr th:only-of-type {\n",
              "        vertical-align: middle;\n",
              "    }\n",
              "\n",
              "    .dataframe tbody tr th {\n",
              "        vertical-align: top;\n",
              "    }\n",
              "\n",
              "    .dataframe thead th {\n",
              "        text-align: right;\n",
              "    }\n",
              "</style>\n",
              "<table border=\"1\" class=\"dataframe\">\n",
              "  <thead>\n",
              "    <tr style=\"text-align: right;\">\n",
              "      <th></th>\n",
              "      <th>Month</th>\n",
              "      <th>Passengers</th>\n",
              "    </tr>\n",
              "  </thead>\n",
              "  <tbody>\n",
              "    <tr>\n",
              "      <th>0</th>\n",
              "      <td>1949-01</td>\n",
              "      <td>112</td>\n",
              "    </tr>\n",
              "    <tr>\n",
              "      <th>1</th>\n",
              "      <td>1949-02</td>\n",
              "      <td>118</td>\n",
              "    </tr>\n",
              "    <tr>\n",
              "      <th>2</th>\n",
              "      <td>1949-03</td>\n",
              "      <td>132</td>\n",
              "    </tr>\n",
              "    <tr>\n",
              "      <th>3</th>\n",
              "      <td>1949-04</td>\n",
              "      <td>129</td>\n",
              "    </tr>\n",
              "    <tr>\n",
              "      <th>4</th>\n",
              "      <td>1949-05</td>\n",
              "      <td>121</td>\n",
              "    </tr>\n",
              "    <tr>\n",
              "      <th>...</th>\n",
              "      <td>...</td>\n",
              "      <td>...</td>\n",
              "    </tr>\n",
              "    <tr>\n",
              "      <th>139</th>\n",
              "      <td>1960-08</td>\n",
              "      <td>606</td>\n",
              "    </tr>\n",
              "    <tr>\n",
              "      <th>140</th>\n",
              "      <td>1960-09</td>\n",
              "      <td>508</td>\n",
              "    </tr>\n",
              "    <tr>\n",
              "      <th>141</th>\n",
              "      <td>1960-10</td>\n",
              "      <td>461</td>\n",
              "    </tr>\n",
              "    <tr>\n",
              "      <th>142</th>\n",
              "      <td>1960-11</td>\n",
              "      <td>390</td>\n",
              "    </tr>\n",
              "    <tr>\n",
              "      <th>143</th>\n",
              "      <td>1960-12</td>\n",
              "      <td>432</td>\n",
              "    </tr>\n",
              "  </tbody>\n",
              "</table>\n",
              "<p>144 rows × 2 columns</p>\n",
              "</div>\n",
              "      <button class=\"colab-df-convert\" onclick=\"convertToInteractive('df-c12c8642-0e7f-4cf0-99f1-b1b2293a98e4')\"\n",
              "              title=\"Convert this dataframe to an interactive table.\"\n",
              "              style=\"display:none;\">\n",
              "        \n",
              "  <svg xmlns=\"http://www.w3.org/2000/svg\" height=\"24px\"viewBox=\"0 0 24 24\"\n",
              "       width=\"24px\">\n",
              "    <path d=\"M0 0h24v24H0V0z\" fill=\"none\"/>\n",
              "    <path d=\"M18.56 5.44l.94 2.06.94-2.06 2.06-.94-2.06-.94-.94-2.06-.94 2.06-2.06.94zm-11 1L8.5 8.5l.94-2.06 2.06-.94-2.06-.94L8.5 2.5l-.94 2.06-2.06.94zm10 10l.94 2.06.94-2.06 2.06-.94-2.06-.94-.94-2.06-.94 2.06-2.06.94z\"/><path d=\"M17.41 7.96l-1.37-1.37c-.4-.4-.92-.59-1.43-.59-.52 0-1.04.2-1.43.59L10.3 9.45l-7.72 7.72c-.78.78-.78 2.05 0 2.83L4 21.41c.39.39.9.59 1.41.59.51 0 1.02-.2 1.41-.59l7.78-7.78 2.81-2.81c.8-.78.8-2.07 0-2.86zM5.41 20L4 18.59l7.72-7.72 1.47 1.35L5.41 20z\"/>\n",
              "  </svg>\n",
              "      </button>\n",
              "      \n",
              "  <style>\n",
              "    .colab-df-container {\n",
              "      display:flex;\n",
              "      flex-wrap:wrap;\n",
              "      gap: 12px;\n",
              "    }\n",
              "\n",
              "    .colab-df-convert {\n",
              "      background-color: #E8F0FE;\n",
              "      border: none;\n",
              "      border-radius: 50%;\n",
              "      cursor: pointer;\n",
              "      display: none;\n",
              "      fill: #1967D2;\n",
              "      height: 32px;\n",
              "      padding: 0 0 0 0;\n",
              "      width: 32px;\n",
              "    }\n",
              "\n",
              "    .colab-df-convert:hover {\n",
              "      background-color: #E2EBFA;\n",
              "      box-shadow: 0px 1px 2px rgba(60, 64, 67, 0.3), 0px 1px 3px 1px rgba(60, 64, 67, 0.15);\n",
              "      fill: #174EA6;\n",
              "    }\n",
              "\n",
              "    [theme=dark] .colab-df-convert {\n",
              "      background-color: #3B4455;\n",
              "      fill: #D2E3FC;\n",
              "    }\n",
              "\n",
              "    [theme=dark] .colab-df-convert:hover {\n",
              "      background-color: #434B5C;\n",
              "      box-shadow: 0px 1px 3px 1px rgba(0, 0, 0, 0.15);\n",
              "      filter: drop-shadow(0px 1px 2px rgba(0, 0, 0, 0.3));\n",
              "      fill: #FFFFFF;\n",
              "    }\n",
              "  </style>\n",
              "\n",
              "      <script>\n",
              "        const buttonEl =\n",
              "          document.querySelector('#df-c12c8642-0e7f-4cf0-99f1-b1b2293a98e4 button.colab-df-convert');\n",
              "        buttonEl.style.display =\n",
              "          google.colab.kernel.accessAllowed ? 'block' : 'none';\n",
              "\n",
              "        async function convertToInteractive(key) {\n",
              "          const element = document.querySelector('#df-c12c8642-0e7f-4cf0-99f1-b1b2293a98e4');\n",
              "          const dataTable =\n",
              "            await google.colab.kernel.invokeFunction('convertToInteractive',\n",
              "                                                     [key], {});\n",
              "          if (!dataTable) return;\n",
              "\n",
              "          const docLinkHtml = 'Like what you see? Visit the ' +\n",
              "            '<a target=\"_blank\" href=https://colab.research.google.com/notebooks/data_table.ipynb>data table notebook</a>'\n",
              "            + ' to learn more about interactive tables.';\n",
              "          element.innerHTML = '';\n",
              "          dataTable['output_type'] = 'display_data';\n",
              "          await google.colab.output.renderOutput(dataTable, element);\n",
              "          const docLink = document.createElement('div');\n",
              "          docLink.innerHTML = docLinkHtml;\n",
              "          element.appendChild(docLink);\n",
              "        }\n",
              "      </script>\n",
              "    </div>\n",
              "  </div>\n",
              "  "
            ]
          },
          "metadata": {},
          "execution_count": 3
        }
      ]
    },
    {
      "cell_type": "markdown",
      "source": [
        "## Сделаем из даты несколько признаков"
      ],
      "metadata": {
        "id": "iRIfo5QzihYQ"
      }
    },
    {
      "cell_type": "code",
      "source": [
        "from datetime import date\n",
        "from datetime import time\n",
        "from datetime import datetime\n",
        "import calendar"
      ],
      "metadata": {
        "id": "OH_mMmuRwNj8"
      },
      "execution_count": 4,
      "outputs": []
    },
    {
      "cell_type": "code",
      "source": [
        "df['year'] = df['Month'].apply(lambda x: datetime.strptime(x, \"%Y-%m\").year)\n",
        "df['month'] = df['Month'].apply(lambda x: datetime.strptime(x, \"%Y-%m\").month)\n",
        "df['days_in_month'] = df['Month'].apply(lambda x: calendar.monthrange(datetime.strptime(x, \"%Y-%m\").year, datetime.strptime(x, \"%Y-%m\").month)[1])\n",
        "df['Month'] = df['Month'].apply(lambda x: datetime.strptime(x, \"%Y-%m\"))\n",
        "df['quarter'] = df['Month'].dt.quarter\n",
        "df.drop(columns=['Month'], inplace=True)"
      ],
      "metadata": {
        "id": "uFY3YUA4zvrK"
      },
      "execution_count": 5,
      "outputs": []
    },
    {
      "cell_type": "code",
      "source": [
        "df.head()"
      ],
      "metadata": {
        "colab": {
          "base_uri": "https://localhost:8080/",
          "height": 206
        },
        "id": "WMJj1Suw0Hfh",
        "outputId": "a87e185b-b8ab-4612-e8d2-49b8e435997e"
      },
      "execution_count": 6,
      "outputs": [
        {
          "output_type": "execute_result",
          "data": {
            "text/plain": [
              "   Passengers  year  month  days_in_month  quarter\n",
              "0         112  1949      1             31        1\n",
              "1         118  1949      2             28        1\n",
              "2         132  1949      3             31        1\n",
              "3         129  1949      4             30        2\n",
              "4         121  1949      5             31        2"
            ],
            "text/html": [
              "\n",
              "  <div id=\"df-dc9908b5-4ea0-4e8d-bea9-b7862d587fda\">\n",
              "    <div class=\"colab-df-container\">\n",
              "      <div>\n",
              "<style scoped>\n",
              "    .dataframe tbody tr th:only-of-type {\n",
              "        vertical-align: middle;\n",
              "    }\n",
              "\n",
              "    .dataframe tbody tr th {\n",
              "        vertical-align: top;\n",
              "    }\n",
              "\n",
              "    .dataframe thead th {\n",
              "        text-align: right;\n",
              "    }\n",
              "</style>\n",
              "<table border=\"1\" class=\"dataframe\">\n",
              "  <thead>\n",
              "    <tr style=\"text-align: right;\">\n",
              "      <th></th>\n",
              "      <th>Passengers</th>\n",
              "      <th>year</th>\n",
              "      <th>month</th>\n",
              "      <th>days_in_month</th>\n",
              "      <th>quarter</th>\n",
              "    </tr>\n",
              "  </thead>\n",
              "  <tbody>\n",
              "    <tr>\n",
              "      <th>0</th>\n",
              "      <td>112</td>\n",
              "      <td>1949</td>\n",
              "      <td>1</td>\n",
              "      <td>31</td>\n",
              "      <td>1</td>\n",
              "    </tr>\n",
              "    <tr>\n",
              "      <th>1</th>\n",
              "      <td>118</td>\n",
              "      <td>1949</td>\n",
              "      <td>2</td>\n",
              "      <td>28</td>\n",
              "      <td>1</td>\n",
              "    </tr>\n",
              "    <tr>\n",
              "      <th>2</th>\n",
              "      <td>132</td>\n",
              "      <td>1949</td>\n",
              "      <td>3</td>\n",
              "      <td>31</td>\n",
              "      <td>1</td>\n",
              "    </tr>\n",
              "    <tr>\n",
              "      <th>3</th>\n",
              "      <td>129</td>\n",
              "      <td>1949</td>\n",
              "      <td>4</td>\n",
              "      <td>30</td>\n",
              "      <td>2</td>\n",
              "    </tr>\n",
              "    <tr>\n",
              "      <th>4</th>\n",
              "      <td>121</td>\n",
              "      <td>1949</td>\n",
              "      <td>5</td>\n",
              "      <td>31</td>\n",
              "      <td>2</td>\n",
              "    </tr>\n",
              "  </tbody>\n",
              "</table>\n",
              "</div>\n",
              "      <button class=\"colab-df-convert\" onclick=\"convertToInteractive('df-dc9908b5-4ea0-4e8d-bea9-b7862d587fda')\"\n",
              "              title=\"Convert this dataframe to an interactive table.\"\n",
              "              style=\"display:none;\">\n",
              "        \n",
              "  <svg xmlns=\"http://www.w3.org/2000/svg\" height=\"24px\"viewBox=\"0 0 24 24\"\n",
              "       width=\"24px\">\n",
              "    <path d=\"M0 0h24v24H0V0z\" fill=\"none\"/>\n",
              "    <path d=\"M18.56 5.44l.94 2.06.94-2.06 2.06-.94-2.06-.94-.94-2.06-.94 2.06-2.06.94zm-11 1L8.5 8.5l.94-2.06 2.06-.94-2.06-.94L8.5 2.5l-.94 2.06-2.06.94zm10 10l.94 2.06.94-2.06 2.06-.94-2.06-.94-.94-2.06-.94 2.06-2.06.94z\"/><path d=\"M17.41 7.96l-1.37-1.37c-.4-.4-.92-.59-1.43-.59-.52 0-1.04.2-1.43.59L10.3 9.45l-7.72 7.72c-.78.78-.78 2.05 0 2.83L4 21.41c.39.39.9.59 1.41.59.51 0 1.02-.2 1.41-.59l7.78-7.78 2.81-2.81c.8-.78.8-2.07 0-2.86zM5.41 20L4 18.59l7.72-7.72 1.47 1.35L5.41 20z\"/>\n",
              "  </svg>\n",
              "      </button>\n",
              "      \n",
              "  <style>\n",
              "    .colab-df-container {\n",
              "      display:flex;\n",
              "      flex-wrap:wrap;\n",
              "      gap: 12px;\n",
              "    }\n",
              "\n",
              "    .colab-df-convert {\n",
              "      background-color: #E8F0FE;\n",
              "      border: none;\n",
              "      border-radius: 50%;\n",
              "      cursor: pointer;\n",
              "      display: none;\n",
              "      fill: #1967D2;\n",
              "      height: 32px;\n",
              "      padding: 0 0 0 0;\n",
              "      width: 32px;\n",
              "    }\n",
              "\n",
              "    .colab-df-convert:hover {\n",
              "      background-color: #E2EBFA;\n",
              "      box-shadow: 0px 1px 2px rgba(60, 64, 67, 0.3), 0px 1px 3px 1px rgba(60, 64, 67, 0.15);\n",
              "      fill: #174EA6;\n",
              "    }\n",
              "\n",
              "    [theme=dark] .colab-df-convert {\n",
              "      background-color: #3B4455;\n",
              "      fill: #D2E3FC;\n",
              "    }\n",
              "\n",
              "    [theme=dark] .colab-df-convert:hover {\n",
              "      background-color: #434B5C;\n",
              "      box-shadow: 0px 1px 3px 1px rgba(0, 0, 0, 0.15);\n",
              "      filter: drop-shadow(0px 1px 2px rgba(0, 0, 0, 0.3));\n",
              "      fill: #FFFFFF;\n",
              "    }\n",
              "  </style>\n",
              "\n",
              "      <script>\n",
              "        const buttonEl =\n",
              "          document.querySelector('#df-dc9908b5-4ea0-4e8d-bea9-b7862d587fda button.colab-df-convert');\n",
              "        buttonEl.style.display =\n",
              "          google.colab.kernel.accessAllowed ? 'block' : 'none';\n",
              "\n",
              "        async function convertToInteractive(key) {\n",
              "          const element = document.querySelector('#df-dc9908b5-4ea0-4e8d-bea9-b7862d587fda');\n",
              "          const dataTable =\n",
              "            await google.colab.kernel.invokeFunction('convertToInteractive',\n",
              "                                                     [key], {});\n",
              "          if (!dataTable) return;\n",
              "\n",
              "          const docLinkHtml = 'Like what you see? Visit the ' +\n",
              "            '<a target=\"_blank\" href=https://colab.research.google.com/notebooks/data_table.ipynb>data table notebook</a>'\n",
              "            + ' to learn more about interactive tables.';\n",
              "          element.innerHTML = '';\n",
              "          dataTable['output_type'] = 'display_data';\n",
              "          await google.colab.output.renderOutput(dataTable, element);\n",
              "          const docLink = document.createElement('div');\n",
              "          docLink.innerHTML = docLinkHtml;\n",
              "          element.appendChild(docLink);\n",
              "        }\n",
              "      </script>\n",
              "    </div>\n",
              "  </div>\n",
              "  "
            ]
          },
          "metadata": {},
          "execution_count": 6
        }
      ]
    },
    {
      "cell_type": "markdown",
      "source": [
        "## Разделим выборку на трейн и тест"
      ],
      "metadata": {
        "id": "L0-V2gnOizz7"
      }
    },
    {
      "cell_type": "code",
      "source": [
        "train_size = 110\n",
        "\n",
        "\n",
        "# отступ теста от тренировки\n",
        "bias = 10\n",
        "\n",
        "\n",
        "# делим\n",
        "train_data = df.iloc[:train_size]\n",
        "val_data = df.iloc[train_size + bias:]\n",
        "\n",
        "train_data.shape, val_data.shape"
      ],
      "metadata": {
        "colab": {
          "base_uri": "https://localhost:8080/"
        },
        "id": "ptlKlFtcBt3o",
        "outputId": "9076f3a3-abca-4ea1-dfe8-a99bf2d65543"
      },
      "execution_count": 7,
      "outputs": [
        {
          "output_type": "execute_result",
          "data": {
            "text/plain": [
              "((110, 5), (24, 5))"
            ]
          },
          "metadata": {},
          "execution_count": 7
        }
      ]
    },
    {
      "cell_type": "code",
      "source": [
        "features = train_data.columns[1:]\n",
        "target = train_data.columns[0]"
      ],
      "metadata": {
        "id": "L8pCsMtuCdhy"
      },
      "execution_count": 8,
      "outputs": []
    },
    {
      "cell_type": "markdown",
      "source": [
        "## Стандартизируем признаки"
      ],
      "metadata": {
        "id": "0fhgHkvujCnT"
      }
    },
    {
      "cell_type": "code",
      "source": [
        "from sklearn.preprocessing import StandardScaler\n",
        "\n",
        "scaler = StandardScaler()\n",
        "\n",
        "train_data[features] = scaler.fit_transform(train_data[features])\n",
        "val_data[features] = scaler.transform(val_data[features])\n",
        "\n",
        "train_data.head()"
      ],
      "metadata": {
        "colab": {
          "base_uri": "https://localhost:8080/",
          "height": 423
        },
        "id": "9T4SOc1PCmzX",
        "outputId": "980e527b-a765-46e2-b163-28c71fe42841"
      },
      "execution_count": 9,
      "outputs": [
        {
          "output_type": "stream",
          "name": "stderr",
          "text": [
            "/usr/local/lib/python3.7/dist-packages/pandas/core/frame.py:3678: SettingWithCopyWarning: \n",
            "A value is trying to be set on a copy of a slice from a DataFrame.\n",
            "Try using .loc[row_indexer,col_indexer] = value instead\n",
            "\n",
            "See the caveats in the documentation: https://pandas.pydata.org/pandas-docs/stable/user_guide/indexing.html#returning-a-view-versus-a-copy\n",
            "  self[col] = igetitem(value, i)\n",
            "/usr/local/lib/python3.7/dist-packages/pandas/core/frame.py:3678: SettingWithCopyWarning: \n",
            "A value is trying to be set on a copy of a slice from a DataFrame.\n",
            "Try using .loc[row_indexer,col_indexer] = value instead\n",
            "\n",
            "See the caveats in the documentation: https://pandas.pydata.org/pandas-docs/stable/user_guide/indexing.html#returning-a-view-versus-a-copy\n",
            "  self[col] = igetitem(value, i)\n"
          ]
        },
        {
          "output_type": "execute_result",
          "data": {
            "text/plain": [
              "   Passengers      year     month  days_in_month   quarter\n",
              "0         112 -1.547132 -1.551749       0.687576 -1.308154\n",
              "1         118 -1.547132 -1.264871      -2.857738 -1.308154\n",
              "2         132 -1.547132 -0.977993       0.687576 -1.308154\n",
              "3         129 -1.547132 -0.691115      -0.494195 -0.419901\n",
              "4         121 -1.547132 -0.404237       0.687576 -0.419901"
            ],
            "text/html": [
              "\n",
              "  <div id=\"df-d422375e-cd16-40a0-a1fa-d80869eab6d3\">\n",
              "    <div class=\"colab-df-container\">\n",
              "      <div>\n",
              "<style scoped>\n",
              "    .dataframe tbody tr th:only-of-type {\n",
              "        vertical-align: middle;\n",
              "    }\n",
              "\n",
              "    .dataframe tbody tr th {\n",
              "        vertical-align: top;\n",
              "    }\n",
              "\n",
              "    .dataframe thead th {\n",
              "        text-align: right;\n",
              "    }\n",
              "</style>\n",
              "<table border=\"1\" class=\"dataframe\">\n",
              "  <thead>\n",
              "    <tr style=\"text-align: right;\">\n",
              "      <th></th>\n",
              "      <th>Passengers</th>\n",
              "      <th>year</th>\n",
              "      <th>month</th>\n",
              "      <th>days_in_month</th>\n",
              "      <th>quarter</th>\n",
              "    </tr>\n",
              "  </thead>\n",
              "  <tbody>\n",
              "    <tr>\n",
              "      <th>0</th>\n",
              "      <td>112</td>\n",
              "      <td>-1.547132</td>\n",
              "      <td>-1.551749</td>\n",
              "      <td>0.687576</td>\n",
              "      <td>-1.308154</td>\n",
              "    </tr>\n",
              "    <tr>\n",
              "      <th>1</th>\n",
              "      <td>118</td>\n",
              "      <td>-1.547132</td>\n",
              "      <td>-1.264871</td>\n",
              "      <td>-2.857738</td>\n",
              "      <td>-1.308154</td>\n",
              "    </tr>\n",
              "    <tr>\n",
              "      <th>2</th>\n",
              "      <td>132</td>\n",
              "      <td>-1.547132</td>\n",
              "      <td>-0.977993</td>\n",
              "      <td>0.687576</td>\n",
              "      <td>-1.308154</td>\n",
              "    </tr>\n",
              "    <tr>\n",
              "      <th>3</th>\n",
              "      <td>129</td>\n",
              "      <td>-1.547132</td>\n",
              "      <td>-0.691115</td>\n",
              "      <td>-0.494195</td>\n",
              "      <td>-0.419901</td>\n",
              "    </tr>\n",
              "    <tr>\n",
              "      <th>4</th>\n",
              "      <td>121</td>\n",
              "      <td>-1.547132</td>\n",
              "      <td>-0.404237</td>\n",
              "      <td>0.687576</td>\n",
              "      <td>-0.419901</td>\n",
              "    </tr>\n",
              "  </tbody>\n",
              "</table>\n",
              "</div>\n",
              "      <button class=\"colab-df-convert\" onclick=\"convertToInteractive('df-d422375e-cd16-40a0-a1fa-d80869eab6d3')\"\n",
              "              title=\"Convert this dataframe to an interactive table.\"\n",
              "              style=\"display:none;\">\n",
              "        \n",
              "  <svg xmlns=\"http://www.w3.org/2000/svg\" height=\"24px\"viewBox=\"0 0 24 24\"\n",
              "       width=\"24px\">\n",
              "    <path d=\"M0 0h24v24H0V0z\" fill=\"none\"/>\n",
              "    <path d=\"M18.56 5.44l.94 2.06.94-2.06 2.06-.94-2.06-.94-.94-2.06-.94 2.06-2.06.94zm-11 1L8.5 8.5l.94-2.06 2.06-.94-2.06-.94L8.5 2.5l-.94 2.06-2.06.94zm10 10l.94 2.06.94-2.06 2.06-.94-2.06-.94-.94-2.06-.94 2.06-2.06.94z\"/><path d=\"M17.41 7.96l-1.37-1.37c-.4-.4-.92-.59-1.43-.59-.52 0-1.04.2-1.43.59L10.3 9.45l-7.72 7.72c-.78.78-.78 2.05 0 2.83L4 21.41c.39.39.9.59 1.41.59.51 0 1.02-.2 1.41-.59l7.78-7.78 2.81-2.81c.8-.78.8-2.07 0-2.86zM5.41 20L4 18.59l7.72-7.72 1.47 1.35L5.41 20z\"/>\n",
              "  </svg>\n",
              "      </button>\n",
              "      \n",
              "  <style>\n",
              "    .colab-df-container {\n",
              "      display:flex;\n",
              "      flex-wrap:wrap;\n",
              "      gap: 12px;\n",
              "    }\n",
              "\n",
              "    .colab-df-convert {\n",
              "      background-color: #E8F0FE;\n",
              "      border: none;\n",
              "      border-radius: 50%;\n",
              "      cursor: pointer;\n",
              "      display: none;\n",
              "      fill: #1967D2;\n",
              "      height: 32px;\n",
              "      padding: 0 0 0 0;\n",
              "      width: 32px;\n",
              "    }\n",
              "\n",
              "    .colab-df-convert:hover {\n",
              "      background-color: #E2EBFA;\n",
              "      box-shadow: 0px 1px 2px rgba(60, 64, 67, 0.3), 0px 1px 3px 1px rgba(60, 64, 67, 0.15);\n",
              "      fill: #174EA6;\n",
              "    }\n",
              "\n",
              "    [theme=dark] .colab-df-convert {\n",
              "      background-color: #3B4455;\n",
              "      fill: #D2E3FC;\n",
              "    }\n",
              "\n",
              "    [theme=dark] .colab-df-convert:hover {\n",
              "      background-color: #434B5C;\n",
              "      box-shadow: 0px 1px 3px 1px rgba(0, 0, 0, 0.15);\n",
              "      filter: drop-shadow(0px 1px 2px rgba(0, 0, 0, 0.3));\n",
              "      fill: #FFFFFF;\n",
              "    }\n",
              "  </style>\n",
              "\n",
              "      <script>\n",
              "        const buttonEl =\n",
              "          document.querySelector('#df-d422375e-cd16-40a0-a1fa-d80869eab6d3 button.colab-df-convert');\n",
              "        buttonEl.style.display =\n",
              "          google.colab.kernel.accessAllowed ? 'block' : 'none';\n",
              "\n",
              "        async function convertToInteractive(key) {\n",
              "          const element = document.querySelector('#df-d422375e-cd16-40a0-a1fa-d80869eab6d3');\n",
              "          const dataTable =\n",
              "            await google.colab.kernel.invokeFunction('convertToInteractive',\n",
              "                                                     [key], {});\n",
              "          if (!dataTable) return;\n",
              "\n",
              "          const docLinkHtml = 'Like what you see? Visit the ' +\n",
              "            '<a target=\"_blank\" href=https://colab.research.google.com/notebooks/data_table.ipynb>data table notebook</a>'\n",
              "            + ' to learn more about interactive tables.';\n",
              "          element.innerHTML = '';\n",
              "          dataTable['output_type'] = 'display_data';\n",
              "          await google.colab.output.renderOutput(dataTable, element);\n",
              "          const docLink = document.createElement('div');\n",
              "          docLink.innerHTML = docLinkHtml;\n",
              "          element.appendChild(docLink);\n",
              "        }\n",
              "      </script>\n",
              "    </div>\n",
              "  </div>\n",
              "  "
            ]
          },
          "metadata": {},
          "execution_count": 9
        }
      ]
    },
    {
      "cell_type": "markdown",
      "source": [
        "## Зададим параметры"
      ],
      "metadata": {
        "id": "LiTNA5zdjLM3"
      }
    },
    {
      "cell_type": "code",
      "source": [
        "# длина истории\n",
        "x_len = 4\n",
        "\n",
        "# горизонт предсказания\n",
        "future = 1\n",
        "\n",
        "# параметры модели для обучения\n",
        "learning_rate = 0.01\n",
        "batch_size = 10\n",
        "epochs = 10"
      ],
      "metadata": {
        "id": "CGDgQWyIDM3p"
      },
      "execution_count": 10,
      "outputs": []
    },
    {
      "cell_type": "code",
      "source": [
        "start = x_len + future\n",
        "end = start + train_size\n",
        "\n",
        "print(start, end)\n",
        "\n",
        "X_train = train_data[features].values\n",
        "y_train = df.iloc[start:end][target].values\n",
        "\n",
        "\n",
        "x_end = len(val_data) - x_len - future\n",
        "label_start = len(train_data) + bias + x_len + future\n",
        "print(x_end, label_start)\n",
        "\n",
        "X_val = val_data.iloc[:x_end][features].values\n",
        "y_val = df.iloc[label_start:][target].values"
      ],
      "metadata": {
        "colab": {
          "base_uri": "https://localhost:8080/"
        },
        "id": "1G7Gdw3IDctW",
        "outputId": "32c47efe-7473-49bd-8b32-7f7109062535"
      },
      "execution_count": 11,
      "outputs": [
        {
          "output_type": "stream",
          "name": "stdout",
          "text": [
            "5 115\n",
            "19 125\n"
          ]
        }
      ]
    },
    {
      "cell_type": "code",
      "source": [
        "import matplotlib.pyplot as plt\n",
        "\n",
        "plt.figure(figsize=(10, 5))\n",
        "plt.plot(df.index[x_len:y_train.shape[0]+x_len],y_train[:])\n",
        "plt.plot(df.index[y_train.shape[0]+x_len+bias+future:],y_val[:])\n",
        "plt.grid('on')\n",
        "plt.xlabel('t, месяцы')\n",
        "plt.ylabel('пассажиры')\n",
        "plt.title('Изменение пассажиропотока')\n",
        "plt.show()"
      ],
      "metadata": {
        "colab": {
          "base_uri": "https://localhost:8080/",
          "height": 350
        },
        "id": "nzKv66jBDtIa",
        "outputId": "4adc6288-0830-42f3-caec-1294b5664774"
      },
      "execution_count": 149,
      "outputs": [
        {
          "output_type": "display_data",
          "data": {
            "text/plain": [
              "<Figure size 720x360 with 1 Axes>"
            ],
            "image/png": "[encoded data removed]"
          },
          "metadata": {
            "needs_background": "light"
          }
        }
      ]
    },
    {
      "cell_type": "markdown",
      "source": [
        "## Преобразуем историю в нужный формат"
      ],
      "metadata": {
        "id": "56xO3shGj3Nd"
      }
    },
    {
      "cell_type": "code",
      "source": [
        "from tensorflow.keras.preprocessing import timeseries_dataset_from_array\n",
        "\n",
        "dataset_train = timeseries_dataset_from_array(\n",
        "    X_train,\n",
        "    y_train,\n",
        "    sequence_length=x_len,\n",
        "    sampling_rate=1,\n",
        "    batch_size=batch_size,\n",
        ")\n",
        "\n",
        "dataset_val = timeseries_dataset_from_array(\n",
        "    X_val,\n",
        "    y_val,\n",
        "    sequence_length=x_len,\n",
        "    sampling_rate=1,\n",
        "    batch_size=batch_size,\n",
        ") "
      ],
      "metadata": {
        "id": "aVRwtHc6EObK"
      },
      "execution_count": 12,
      "outputs": []
    },
    {
      "cell_type": "code",
      "source": [
        "for batch in dataset_train.take(1):\n",
        "    inputs, targets = batch\n",
        "    print(\"Input shape:\", inputs.shape)\n",
        "    print(inputs[1])\n",
        "    print(\"Target shape:\", targets.shape)\n",
        "    print(targets[1])"
      ],
      "metadata": {
        "colab": {
          "base_uri": "https://localhost:8080/"
        },
        "id": "uLqXrbJOGz3f",
        "outputId": "28f054ff-ac0b-4106-cb1a-bf8a4ed75925"
      },
      "execution_count": 14,
      "outputs": [
        {
          "output_type": "stream",
          "name": "stdout",
          "text": [
            "Input shape: (10, 4, 4)\n",
            "tf.Tensor(\n",
            "[[-1.54713187 -1.26487074 -2.85773803 -1.30815427]\n",
            " [-1.54713187 -0.97799284  0.68757607 -1.30815427]\n",
            " [-1.54713187 -0.69111494 -0.4941953  -0.41990137]\n",
            " [-1.54713187 -0.40423704  0.68757607 -0.41990137]], shape=(4, 4), dtype=float64)\n",
            "Target shape: (10,)\n",
            "tf.Tensor(148, shape=(), dtype=int64)\n"
          ]
        }
      ]
    },
    {
      "cell_type": "markdown",
      "source": [
        "## Построим простую RNN-сеть"
      ],
      "metadata": {
        "id": "DfMzLhCIkEpo"
      }
    },
    {
      "cell_type": "code",
      "source": [
        "tf.random.set_seed(8)\n",
        "\n",
        "model = Sequential([\n",
        "            SimpleRNN(16, activation='relu',\n",
        "                      input_shape=(4, 4)),\n",
        "            Dense(1, activation='linear'),\n",
        "\n",
        "            ])\n",
        "\n",
        "model.compile(loss='mse', optimizer='adam', metrics=['mae'])\n",
        "     \n",
        "model.summary()"
      ],
      "metadata": {
        "colab": {
          "base_uri": "https://localhost:8080/"
        },
        "id": "w8ft7ICKvKA4",
        "outputId": "925af5cc-7fb2-4796-ec95-400fdb5f1a21"
      },
      "execution_count": 152,
      "outputs": [
        {
          "output_type": "stream",
          "name": "stdout",
          "text": [
            "Model: \"sequential_22\"\n",
            "_________________________________________________________________\n",
            " Layer (type)                Output Shape              Param #   \n",
            "=================================================================\n",
            " simple_rnn_11 (SimpleRNN)   (None, 16)                336       \n",
            "                                                                 \n",
            " dense_22 (Dense)            (None, 1)                 17        \n",
            "                                                                 \n",
            "=================================================================\n",
            "Total params: 353\n",
            "Trainable params: 353\n",
            "Non-trainable params: 0\n",
            "_________________________________________________________________\n"
          ]
        }
      ]
    },
    {
      "cell_type": "code",
      "source": [
        "history = model.fit(dataset_train,\n",
        "                    epochs=epochs,\n",
        "                    validation_data=dataset_val)"
      ],
      "metadata": {
        "colab": {
          "base_uri": "https://localhost:8080/"
        },
        "id": "laGmLEN8FZmJ",
        "outputId": "383a99f9-9f67-48d1-ef09-0aefe315d9a5"
      },
      "execution_count": 154,
      "outputs": [
        {
          "output_type": "stream",
          "name": "stdout",
          "text": [
            "Epoch 1/10\n",
            "11/11 [==============================] - 1s 25ms/step - loss: 65061.5430 - mae: 240.6896 - val_loss: 234364.4844 - val_mae: 478.1299\n",
            "Epoch 2/10\n",
            "11/11 [==============================] - 0s 10ms/step - loss: 64972.2383 - mae: 240.5073 - val_loss: 234161.4219 - val_mae: 477.9176\n",
            "Epoch 3/10\n",
            "11/11 [==============================] - 0s 10ms/step - loss: 64894.1289 - mae: 240.3517 - val_loss: 233948.9219 - val_mae: 477.6976\n",
            "Epoch 4/10\n",
            "11/11 [==============================] - 0s 10ms/step - loss: 64817.9609 - mae: 240.2022 - val_loss: 233723.3906 - val_mae: 477.4665\n",
            "Epoch 5/10\n",
            "11/11 [==============================] - 0s 10ms/step - loss: 64740.0664 - mae: 240.0497 - val_loss: 233485.3125 - val_mae: 477.2219\n",
            "Epoch 6/10\n",
            "11/11 [==============================] - 0s 9ms/step - loss: 64662.2227 - mae: 239.8979 - val_loss: 233235.9062 - val_mae: 476.9627\n",
            "Epoch 7/10\n",
            "11/11 [==============================] - 0s 10ms/step - loss: 64580.1406 - mae: 239.7387 - val_loss: 232968.0156 - val_mae: 476.6812\n",
            "Epoch 8/10\n",
            "11/11 [==============================] - 0s 11ms/step - loss: 64488.8633 - mae: 239.5610 - val_loss: 232675.7031 - val_mae: 476.3741\n",
            "Epoch 9/10\n",
            "11/11 [==============================] - 0s 11ms/step - loss: 64376.4609 - mae: 239.3446 - val_loss: 232337.8438 - val_mae: 476.0153\n",
            "Epoch 10/10\n",
            "11/11 [==============================] - 0s 10ms/step - loss: 64231.0039 - mae: 239.0687 - val_loss: 231894.3281 - val_mae: 475.5440\n"
          ]
        }
      ]
    },
    {
      "cell_type": "markdown",
      "source": [
        "Увеличим количество скрытых состояний (до 64)"
      ],
      "metadata": {
        "id": "_zo0JrY7kUd8"
      }
    },
    {
      "cell_type": "code",
      "source": [
        "tf.random.set_seed(8)\n",
        "\n",
        "model = Sequential([\n",
        "            SimpleRNN(64, activation='relu',\n",
        "                      input_shape=(4, 4)),\n",
        "            Dense(1, activation='linear'),\n",
        "\n",
        "            ])\n",
        "\n",
        "model.compile(loss='mse', optimizer='adam', metrics=['mae'])\n",
        "     \n",
        "model.summary()"
      ],
      "metadata": {
        "colab": {
          "base_uri": "https://localhost:8080/"
        },
        "id": "jyDuu1kgvKDS",
        "outputId": "2a8168ba-b299-4ce1-951c-fb56235ea3c2"
      },
      "execution_count": 155,
      "outputs": [
        {
          "output_type": "stream",
          "name": "stdout",
          "text": [
            "Model: \"sequential_24\"\n",
            "_________________________________________________________________\n",
            " Layer (type)                Output Shape              Param #   \n",
            "=================================================================\n",
            " simple_rnn_13 (SimpleRNN)   (None, 64)                4416      \n",
            "                                                                 \n",
            " dense_24 (Dense)            (None, 1)                 65        \n",
            "                                                                 \n",
            "=================================================================\n",
            "Total params: 4,481\n",
            "Trainable params: 4,481\n",
            "Non-trainable params: 0\n",
            "_________________________________________________________________\n"
          ]
        }
      ]
    },
    {
      "cell_type": "code",
      "source": [
        "history = model.fit(dataset_train,\n",
        "                    epochs=epochs,\n",
        "                    validation_data=dataset_val)"
      ],
      "metadata": {
        "colab": {
          "base_uri": "https://localhost:8080/"
        },
        "id": "5gEYCljpkhJS",
        "outputId": "e8859e36-dd02-4c52-f152-f667e9d0d230"
      },
      "execution_count": 156,
      "outputs": [
        {
          "output_type": "stream",
          "name": "stdout",
          "text": [
            "Epoch 1/10\n",
            "11/11 [==============================] - 1s 23ms/step - loss: 64508.9531 - mae: 239.5832 - val_loss: 232716.5469 - val_mae: 476.3820\n",
            "Epoch 2/10\n",
            "11/11 [==============================] - 0s 11ms/step - loss: 63894.8125 - mae: 238.3247 - val_loss: 230796.3125 - val_mae: 474.3145\n",
            "Epoch 3/10\n",
            "11/11 [==============================] - 0s 11ms/step - loss: 62605.2188 - mae: 235.7682 - val_loss: 226354.6562 - val_mae: 469.4933\n",
            "Epoch 4/10\n",
            "11/11 [==============================] - 0s 10ms/step - loss: 59413.2227 - mae: 229.4302 - val_loss: 214942.7656 - val_mae: 456.9895\n",
            "Epoch 5/10\n",
            "11/11 [==============================] - 0s 11ms/step - loss: 51887.2852 - mae: 213.7313 - val_loss: 188266.7188 - val_mae: 426.4771\n",
            "Epoch 6/10\n",
            "11/11 [==============================] - 0s 11ms/step - loss: 36896.7461 - mae: 177.9693 - val_loss: 136040.9688 - val_mae: 359.2310\n",
            "Epoch 7/10\n",
            "11/11 [==============================] - 0s 11ms/step - loss: 15725.8877 - mae: 106.8206 - val_loss: 61444.6172 - val_mae: 231.4282\n",
            "Epoch 8/10\n",
            "11/11 [==============================] - 0s 10ms/step - loss: 5344.0112 - mae: 59.3476 - val_loss: 16747.9863 - val_mae: 108.2707\n",
            "Epoch 9/10\n",
            "11/11 [==============================] - 0s 10ms/step - loss: 6162.5532 - mae: 62.5531 - val_loss: 9188.7529 - val_mae: 78.1632\n",
            "Epoch 10/10\n",
            "11/11 [==============================] - 0s 11ms/step - loss: 3764.2258 - mae: 49.3963 - val_loss: 7121.0005 - val_mae: 67.2473\n"
          ]
        }
      ]
    },
    {
      "cell_type": "markdown",
      "source": [
        "Еще увеличим количетво скрытых состояний (до 128)"
      ],
      "metadata": {
        "id": "YHoYJMW8k8yz"
      }
    },
    {
      "cell_type": "code",
      "source": [
        "tf.random.set_seed(8)\n",
        "\n",
        "model = Sequential([\n",
        "            SimpleRNN(128, activation='relu',\n",
        "                      input_shape=(4, 4)),\n",
        "            Dense(1, activation='linear'),\n",
        "\n",
        "            ])\n",
        "\n",
        "model.compile(loss='mse', optimizer='adam', metrics=['mae'])\n",
        "     \n",
        "model.summary()"
      ],
      "metadata": {
        "colab": {
          "base_uri": "https://localhost:8080/"
        },
        "id": "FDSIEOdrksiu",
        "outputId": "d35d7b97-1781-4446-c1cc-b71d30e085d9"
      },
      "execution_count": 158,
      "outputs": [
        {
          "output_type": "stream",
          "name": "stdout",
          "text": [
            "Model: \"sequential_25\"\n",
            "_________________________________________________________________\n",
            " Layer (type)                Output Shape              Param #   \n",
            "=================================================================\n",
            " simple_rnn_14 (SimpleRNN)   (None, 128)               17024     \n",
            "                                                                 \n",
            " dense_25 (Dense)            (None, 1)                 129       \n",
            "                                                                 \n",
            "=================================================================\n",
            "Total params: 17,153\n",
            "Trainable params: 17,153\n",
            "Non-trainable params: 0\n",
            "_________________________________________________________________\n"
          ]
        }
      ]
    },
    {
      "cell_type": "code",
      "source": [
        "history = model.fit(dataset_train,\n",
        "                    epochs=epochs,\n",
        "                    validation_data=dataset_val)"
      ],
      "metadata": {
        "colab": {
          "base_uri": "https://localhost:8080/"
        },
        "id": "z0aivgVVkzcM",
        "outputId": "926ec2e7-f197-4a3f-ddfe-1fbfbdddc71f"
      },
      "execution_count": 159,
      "outputs": [
        {
          "output_type": "stream",
          "name": "stdout",
          "text": [
            "Epoch 1/10\n",
            "11/11 [==============================] - 1s 23ms/step - loss: 64481.1875 - mae: 239.5781 - val_loss: 232148.7812 - val_mae: 475.7625\n",
            "Epoch 2/10\n",
            "11/11 [==============================] - 0s 10ms/step - loss: 63200.1875 - mae: 237.0954 - val_loss: 226500.5625 - val_mae: 469.8094\n",
            "Epoch 3/10\n",
            "11/11 [==============================] - 0s 10ms/step - loss: 58684.4922 - mae: 228.5799 - val_loss: 205256.4062 - val_mae: 446.7591\n",
            "Epoch 4/10\n",
            "11/11 [==============================] - 0s 9ms/step - loss: 42446.9922 - mae: 194.3132 - val_loss: 135789.0938 - val_mae: 361.4969\n",
            "Epoch 5/10\n",
            "11/11 [==============================] - 0s 10ms/step - loss: 10941.7861 - mae: 88.2420 - val_loss: 23072.9551 - val_mae: 133.9549\n",
            "Epoch 6/10\n",
            "11/11 [==============================] - 0s 11ms/step - loss: 11697.6719 - mae: 85.0287 - val_loss: 9872.1523 - val_mae: 81.4442\n",
            "Epoch 7/10\n",
            "11/11 [==============================] - 0s 11ms/step - loss: 5803.8481 - mae: 62.7089 - val_loss: 6321.8037 - val_mae: 64.2224\n",
            "Epoch 8/10\n",
            "11/11 [==============================] - 0s 10ms/step - loss: 2567.2971 - mae: 40.8446 - val_loss: 1891.5697 - val_mae: 38.5935\n",
            "Epoch 9/10\n",
            "11/11 [==============================] - 0s 9ms/step - loss: 2005.8864 - mae: 36.2848 - val_loss: 3326.5083 - val_mae: 48.9769\n",
            "Epoch 10/10\n",
            "11/11 [==============================] - 0s 10ms/step - loss: 1684.1360 - mae: 33.5562 - val_loss: 3036.9722 - val_mae: 47.2748\n"
          ]
        }
      ]
    },
    {
      "cell_type": "markdown",
      "source": [
        "## Вывод\n",
        "\n",
        "На данной задаче увеличение количества скрытых состояний простой RNN-сети ведет к увеличению качества предсказания"
      ],
      "metadata": {
        "id": "6MXlYqE-lHyh"
      }
    },
    {
      "cell_type": "markdown",
      "source": [
        "## Далее попробует LSTM"
      ],
      "metadata": {
        "id": "oQcjwdcllYZz"
      }
    },
    {
      "cell_type": "code",
      "source": [
        "from keras.callbacks import EarlyStopping\n",
        "from keras.layers import Conv1D, Flatten\n",
        "\n",
        "tf.random.set_seed(8)\n",
        "\n",
        "model = Sequential()\n",
        "\n",
        "model.add(LSTM(32, input_shape=(inputs.shape[1], inputs.shape[2]),\n",
        "               return_sequences=True))\n",
        "model.add(Dense(1, activation='linear'))\n",
        "\n",
        "model.compile(loss='mse', optimizer='adam', metrics=['mae'])\n",
        "model.summary()"
      ],
      "metadata": {
        "colab": {
          "base_uri": "https://localhost:8080/"
        },
        "id": "1lMA_mQKleG8",
        "outputId": "0c90e247-3e21-40d1-c98c-ff869afcf48a"
      },
      "execution_count": 161,
      "outputs": [
        {
          "output_type": "stream",
          "name": "stdout",
          "text": [
            "Model: \"sequential_27\"\n",
            "_________________________________________________________________\n",
            " Layer (type)                Output Shape              Param #   \n",
            "=================================================================\n",
            " lstm_28 (LSTM)              (None, 4, 32)             4736      \n",
            "                                                                 \n",
            " dense_27 (Dense)            (None, 4, 1)              33        \n",
            "                                                                 \n",
            "=================================================================\n",
            "Total params: 4,769\n",
            "Trainable params: 4,769\n",
            "Non-trainable params: 0\n",
            "_________________________________________________________________\n"
          ]
        }
      ]
    },
    {
      "cell_type": "code",
      "source": [
        "history = model.fit(dataset_train,\n",
        "                    epochs=epochs,\n",
        "                    validation_data=dataset_val)"
      ],
      "metadata": {
        "colab": {
          "base_uri": "https://localhost:8080/"
        },
        "id": "kk62vhEDlkiA",
        "outputId": "0dd2b0c6-e149-417d-974a-19d9368ffd83"
      },
      "execution_count": 162,
      "outputs": [
        {
          "output_type": "stream",
          "name": "stdout",
          "text": [
            "Epoch 1/10\n",
            "11/11 [==============================] - 2s 50ms/step - loss: 64796.1211 - mae: 240.0696 - val_loss: 234159.0938 - val_mae: 477.9297\n",
            "Epoch 2/10\n",
            "11/11 [==============================] - 0s 11ms/step - loss: 64748.8906 - mae: 239.9686 - val_loss: 234033.0938 - val_mae: 477.7981\n",
            "Epoch 3/10\n",
            "11/11 [==============================] - 0s 11ms/step - loss: 64705.3477 - mae: 239.8843 - val_loss: 233896.5312 - val_mae: 477.6554\n",
            "Epoch 4/10\n",
            "11/11 [==============================] - 0s 11ms/step - loss: 64657.0391 - mae: 239.7908 - val_loss: 233748.9375 - val_mae: 477.5012\n",
            "Epoch 5/10\n",
            "11/11 [==============================] - 0s 11ms/step - loss: 64599.7773 - mae: 239.6790 - val_loss: 233583.1562 - val_mae: 477.3279\n",
            "Epoch 6/10\n",
            "11/11 [==============================] - 0s 11ms/step - loss: 64528.1094 - mae: 239.5379 - val_loss: 233388.3906 - val_mae: 477.1240\n",
            "Epoch 7/10\n",
            "11/11 [==============================] - 0s 11ms/step - loss: 64434.3359 - mae: 239.3521 - val_loss: 233149.5469 - val_mae: 476.8737\n",
            "Epoch 8/10\n",
            "11/11 [==============================] - 0s 12ms/step - loss: 64307.4531 - mae: 239.0997 - val_loss: 232845.1875 - val_mae: 476.5538\n",
            "Epoch 9/10\n",
            "11/11 [==============================] - 0s 11ms/step - loss: 64132.9492 - mae: 238.7516 - val_loss: 232445.5781 - val_mae: 476.1325\n",
            "Epoch 10/10\n",
            "11/11 [==============================] - 0s 10ms/step - loss: 63895.8555 - mae: 238.2769 - val_loss: 231917.5000 - val_mae: 475.5742\n"
          ]
        }
      ]
    },
    {
      "cell_type": "markdown",
      "source": [
        "Увеличим количество скрытых состояний (до 128)"
      ],
      "metadata": {
        "id": "CnXP-wDRmH-l"
      }
    },
    {
      "cell_type": "code",
      "source": [
        "tf.random.set_seed(8)\n",
        "\n",
        "model = Sequential()\n",
        "\n",
        "model.add(LSTM(128, input_shape=(inputs.shape[1], inputs.shape[2]),\n",
        "               return_sequences=True))\n",
        "model.add(Dense(1, activation='linear'))\n",
        "\n",
        "model.compile(loss='mse', optimizer='adam', metrics=['mae'])\n",
        "model.summary()"
      ],
      "metadata": {
        "colab": {
          "base_uri": "https://localhost:8080/"
        },
        "id": "H9DMrn8Ylv-t",
        "outputId": "b8eab838-067d-4d89-b498-a2ed5302cd25"
      },
      "execution_count": 163,
      "outputs": [
        {
          "output_type": "stream",
          "name": "stdout",
          "text": [
            "Model: \"sequential_28\"\n",
            "_________________________________________________________________\n",
            " Layer (type)                Output Shape              Param #   \n",
            "=================================================================\n",
            " lstm_29 (LSTM)              (None, 4, 128)            68096     \n",
            "                                                                 \n",
            " dense_28 (Dense)            (None, 4, 1)              129       \n",
            "                                                                 \n",
            "=================================================================\n",
            "Total params: 68,225\n",
            "Trainable params: 68,225\n",
            "Non-trainable params: 0\n",
            "_________________________________________________________________\n"
          ]
        }
      ]
    },
    {
      "cell_type": "code",
      "source": [
        "history = model.fit(dataset_train,\n",
        "                    epochs=epochs,\n",
        "                    validation_data=dataset_val)"
      ],
      "metadata": {
        "colab": {
          "base_uri": "https://localhost:8080/"
        },
        "id": "vk20GCUil0_7",
        "outputId": "6641faad-e1b6-41a6-aa92-b1bb8573ccaa"
      },
      "execution_count": 164,
      "outputs": [
        {
          "output_type": "stream",
          "name": "stdout",
          "text": [
            "Epoch 1/10\n",
            "11/11 [==============================] - 2s 52ms/step - loss: 64809.9141 - mae: 240.1065 - val_loss: 234234.3125 - val_mae: 478.0041\n",
            "Epoch 2/10\n",
            "11/11 [==============================] - 0s 13ms/step - loss: 64720.9023 - mae: 239.9183 - val_loss: 233954.0156 - val_mae: 477.7108\n",
            "Epoch 3/10\n",
            "11/11 [==============================] - 0s 13ms/step - loss: 64612.0742 - mae: 239.7193 - val_loss: 233541.4375 - val_mae: 477.2776\n",
            "Epoch 4/10\n",
            "11/11 [==============================] - 0s 13ms/step - loss: 64399.9727 - mae: 239.3306 - val_loss: 232791.5000 - val_mae: 476.4867\n",
            "Epoch 5/10\n",
            "11/11 [==============================] - 0s 13ms/step - loss: 63901.9258 - mae: 238.4035 - val_loss: 231235.4375 - val_mae: 474.8400\n",
            "Epoch 6/10\n",
            "11/11 [==============================] - 0s 13ms/step - loss: 62907.8359 - mae: 236.4655 - val_loss: 228560.7500 - val_mae: 471.9969\n",
            "Epoch 7/10\n",
            "11/11 [==============================] - 0s 13ms/step - loss: 61521.5039 - mae: 233.6100 - val_loss: 225249.4531 - val_mae: 468.4504\n",
            "Epoch 8/10\n",
            "11/11 [==============================] - 0s 13ms/step - loss: 60069.4805 - mae: 230.4285 - val_loss: 222356.6562 - val_mae: 465.3304\n",
            "Epoch 9/10\n",
            "11/11 [==============================] - 0s 13ms/step - loss: 58850.6914 - mae: 227.6330 - val_loss: 220021.1875 - val_mae: 462.7945\n",
            "Epoch 10/10\n",
            "11/11 [==============================] - 0s 14ms/step - loss: 57844.9453 - mae: 225.3232 - val_loss: 218036.2969 - val_mae: 460.6266\n"
          ]
        }
      ]
    },
    {
      "cell_type": "markdown",
      "source": [
        "Увеличим количество скрытых состояний (до 512)"
      ],
      "metadata": {
        "id": "rj_rVd5YmTFr"
      }
    },
    {
      "cell_type": "code",
      "source": [
        "tf.random.set_seed(8)\n",
        "\n",
        "model = Sequential()\n",
        "\n",
        "model.add(LSTM(512, input_shape=(inputs.shape[1], inputs.shape[2]),\n",
        "               return_sequences=True))\n",
        "model.add(Dense(1, activation='linear'))\n",
        "\n",
        "model.compile(loss='mse', optimizer='adam', metrics=['mae'])\n",
        "model.summary()"
      ],
      "metadata": {
        "colab": {
          "base_uri": "https://localhost:8080/"
        },
        "id": "m7MgUpIml3v0",
        "outputId": "0f986fee-95f5-4000-ab22-a6f61558fe14"
      },
      "execution_count": 165,
      "outputs": [
        {
          "output_type": "stream",
          "name": "stdout",
          "text": [
            "Model: \"sequential_29\"\n",
            "_________________________________________________________________\n",
            " Layer (type)                Output Shape              Param #   \n",
            "=================================================================\n",
            " lstm_30 (LSTM)              (None, 4, 512)            1058816   \n",
            "                                                                 \n",
            " dense_29 (Dense)            (None, 4, 1)              513       \n",
            "                                                                 \n",
            "=================================================================\n",
            "Total params: 1,059,329\n",
            "Trainable params: 1,059,329\n",
            "Non-trainable params: 0\n",
            "_________________________________________________________________\n"
          ]
        }
      ]
    },
    {
      "cell_type": "code",
      "source": [
        "history = model.fit(dataset_train,\n",
        "                    epochs=epochs,\n",
        "                    validation_data=dataset_val)"
      ],
      "metadata": {
        "colab": {
          "base_uri": "https://localhost:8080/"
        },
        "id": "XPAmNst6l7_9",
        "outputId": "d7d0d858-f5b6-4d91-a4ad-58eaf2cd7e1d"
      },
      "execution_count": 166,
      "outputs": [
        {
          "output_type": "stream",
          "name": "stdout",
          "text": [
            "Epoch 1/10\n",
            "11/11 [==============================] - 3s 82ms/step - loss: 64857.4297 - mae: 240.1531 - val_loss: 234624.3125 - val_mae: 478.4128\n",
            "Epoch 2/10\n",
            "11/11 [==============================] - 0s 42ms/step - loss: 64622.9531 - mae: 239.6597 - val_loss: 233894.7188 - val_mae: 477.6501\n",
            "Epoch 3/10\n",
            "11/11 [==============================] - 0s 42ms/step - loss: 63701.7227 - mae: 237.9802 - val_loss: 230232.0625 - val_mae: 473.7881\n",
            "Epoch 4/10\n",
            "11/11 [==============================] - 0s 43ms/step - loss: 59744.8984 - mae: 229.8133 - val_loss: 219933.7031 - val_mae: 462.5852\n",
            "Epoch 5/10\n",
            "11/11 [==============================] - 0s 43ms/step - loss: 55677.6875 - mae: 220.3544 - val_loss: 211628.5625 - val_mae: 453.3230\n",
            "Epoch 6/10\n",
            "11/11 [==============================] - 0s 43ms/step - loss: 52719.8008 - mae: 213.0971 - val_loss: 205475.3125 - val_mae: 446.3298\n",
            "Epoch 7/10\n",
            "11/11 [==============================] - 0s 43ms/step - loss: 50296.3750 - mae: 207.0038 - val_loss: 199918.6250 - val_mae: 439.9215\n",
            "Epoch 8/10\n",
            "11/11 [==============================] - 0s 42ms/step - loss: 48013.2070 - mae: 201.1568 - val_loss: 194465.3281 - val_mae: 433.5333\n",
            "Epoch 9/10\n",
            "11/11 [==============================] - 0s 44ms/step - loss: 45778.9844 - mae: 195.2739 - val_loss: 189092.4688 - val_mae: 427.1342\n",
            "Epoch 10/10\n",
            "11/11 [==============================] - 0s 44ms/step - loss: 43607.8633 - mae: 189.3436 - val_loss: 183916.5938 - val_mae: 420.8586\n"
          ]
        }
      ]
    },
    {
      "cell_type": "markdown",
      "source": [
        "Добавим второй слой LSTM"
      ],
      "metadata": {
        "id": "BXGREjB6miQL"
      }
    },
    {
      "cell_type": "code",
      "source": [
        "tf.random.set_seed(8)\n",
        "\n",
        "model = Sequential()\n",
        "\n",
        "model.add(LSTM(512, input_shape=(inputs.shape[1], inputs.shape[2]),\n",
        "               return_sequences=True))\n",
        "model.add(LSTM(256, return_sequences=True))\n",
        "model.add(Dense(1, activation='linear'))\n",
        "\n",
        "model.compile(loss='mse', optimizer='adam', metrics=['mae'])\n",
        "model.summary()"
      ],
      "metadata": {
        "colab": {
          "base_uri": "https://localhost:8080/"
        },
        "id": "6J_XyPuomnmC",
        "outputId": "91c3d8fd-5e50-4161-e321-6aa6eac6dc20"
      },
      "execution_count": 167,
      "outputs": [
        {
          "output_type": "stream",
          "name": "stdout",
          "text": [
            "Model: \"sequential_30\"\n",
            "_________________________________________________________________\n",
            " Layer (type)                Output Shape              Param #   \n",
            "=================================================================\n",
            " lstm_31 (LSTM)              (None, 4, 512)            1058816   \n",
            "                                                                 \n",
            " lstm_32 (LSTM)              (None, 4, 256)            787456    \n",
            "                                                                 \n",
            " dense_30 (Dense)            (None, 4, 1)              257       \n",
            "                                                                 \n",
            "=================================================================\n",
            "Total params: 1,846,529\n",
            "Trainable params: 1,846,529\n",
            "Non-trainable params: 0\n",
            "_________________________________________________________________\n"
          ]
        }
      ]
    },
    {
      "cell_type": "code",
      "source": [
        "history = model.fit(dataset_train,\n",
        "                    epochs=epochs,\n",
        "                    validation_data=dataset_val)"
      ],
      "metadata": {
        "colab": {
          "base_uri": "https://localhost:8080/"
        },
        "id": "sXApD_N3myDO",
        "outputId": "74684dcf-0c06-4c97-9aef-d27bcedcab9f"
      },
      "execution_count": 168,
      "outputs": [
        {
          "output_type": "stream",
          "name": "stdout",
          "text": [
            "Epoch 1/10\n",
            "11/11 [==============================] - 4s 132ms/step - loss: 64884.3281 - mae: 240.1895 - val_loss: 234748.4219 - val_mae: 478.5399\n",
            "Epoch 2/10\n",
            "11/11 [==============================] - 1s 67ms/step - loss: 64498.0000 - mae: 239.3398 - val_loss: 234345.4062 - val_mae: 478.1136\n",
            "Epoch 3/10\n",
            "11/11 [==============================] - 1s 65ms/step - loss: 61418.6406 - mae: 232.9306 - val_loss: 228761.3438 - val_mae: 472.1893\n",
            "Epoch 4/10\n",
            "11/11 [==============================] - 1s 65ms/step - loss: 57723.2148 - mae: 224.8261 - val_loss: 219025.4531 - val_mae: 461.7018\n",
            "Epoch 5/10\n",
            "11/11 [==============================] - 1s 65ms/step - loss: 55416.7148 - mae: 219.6543 - val_loss: 213878.5000 - val_mae: 456.0720\n",
            "Epoch 6/10\n",
            "11/11 [==============================] - 1s 65ms/step - loss: 53659.5977 - mae: 215.5823 - val_loss: 210082.5938 - val_mae: 451.8620\n",
            "Epoch 7/10\n",
            "11/11 [==============================] - 1s 66ms/step - loss: 52172.2344 - mae: 212.0662 - val_loss: 206877.5156 - val_mae: 448.2827\n",
            "Epoch 8/10\n",
            "11/11 [==============================] - 1s 65ms/step - loss: 50751.0273 - mae: 208.6745 - val_loss: 203737.7500 - val_mae: 444.7602\n",
            "Epoch 9/10\n",
            "11/11 [==============================] - 1s 66ms/step - loss: 49304.6406 - mae: 205.2044 - val_loss: 200437.1719 - val_mae: 441.0428\n",
            "Epoch 10/10\n",
            "11/11 [==============================] - 1s 66ms/step - loss: 47790.8711 - mae: 201.5504 - val_loss: 196889.9844 - val_mae: 437.0292\n"
          ]
        }
      ]
    },
    {
      "cell_type": "markdown",
      "source": [
        "Попробуем использовать Bidirectional LSTM"
      ],
      "metadata": {
        "id": "7HW8MbrOm5ld"
      }
    },
    {
      "cell_type": "code",
      "source": [
        "tf.random.set_seed(8)\n",
        "\n",
        "model = Sequential()\n",
        "\n",
        "model.add(LSTM(512, input_shape=(inputs.shape[1], inputs.shape[2]),\n",
        "               return_sequences=True))\n",
        "model.add(Bidirectional(LSTM(256, return_sequences=True)))\n",
        "model.add(Dense(1, activation='linear'))\n",
        "\n",
        "model.compile(loss='mse', optimizer='adam', metrics=['mae'])\n",
        "model.summary()"
      ],
      "metadata": {
        "colab": {
          "base_uri": "https://localhost:8080/"
        },
        "id": "E9VDfYBRm43D",
        "outputId": "b281910b-92f9-4661-cad9-90b756405fbd"
      },
      "execution_count": 169,
      "outputs": [
        {
          "output_type": "stream",
          "name": "stdout",
          "text": [
            "Model: \"sequential_31\"\n",
            "_________________________________________________________________\n",
            " Layer (type)                Output Shape              Param #   \n",
            "=================================================================\n",
            " lstm_33 (LSTM)              (None, 4, 512)            1058816   \n",
            "                                                                 \n",
            " bidirectional_14 (Bidirecti  (None, 4, 512)           1574912   \n",
            " onal)                                                           \n",
            "                                                                 \n",
            " dense_31 (Dense)            (None, 4, 1)              513       \n",
            "                                                                 \n",
            "=================================================================\n",
            "Total params: 2,634,241\n",
            "Trainable params: 2,634,241\n",
            "Non-trainable params: 0\n",
            "_________________________________________________________________\n"
          ]
        }
      ]
    },
    {
      "cell_type": "code",
      "source": [
        "history = model.fit(dataset_train,\n",
        "                    epochs=epochs,\n",
        "                    validation_data=dataset_val)"
      ],
      "metadata": {
        "colab": {
          "base_uri": "https://localhost:8080/"
        },
        "id": "V3wLOTsImyFi",
        "outputId": "1596021f-9d3c-4e65-8103-cfb6b913a660"
      },
      "execution_count": 170,
      "outputs": [
        {
          "output_type": "stream",
          "name": "stdout",
          "text": [
            "Epoch 1/10\n",
            "11/11 [==============================] - 7s 192ms/step - loss: 64942.2578 - mae: 240.2610 - val_loss: 235056.7656 - val_mae: 478.8582\n",
            "Epoch 2/10\n",
            "11/11 [==============================] - 1s 90ms/step - loss: 64036.9258 - mae: 238.4968 - val_loss: 233523.2344 - val_mae: 477.1725\n",
            "Epoch 3/10\n",
            "11/11 [==============================] - 1s 90ms/step - loss: 58343.2656 - mae: 226.2266 - val_loss: 225922.2500 - val_mae: 468.9458\n",
            "Epoch 4/10\n",
            "11/11 [==============================] - 1s 89ms/step - loss: 51895.2305 - mae: 212.1855 - val_loss: 204655.6875 - val_mae: 445.9073\n",
            "Epoch 5/10\n",
            "11/11 [==============================] - 1s 89ms/step - loss: 47656.3047 - mae: 201.7319 - val_loss: 196118.1875 - val_mae: 436.2430\n",
            "Epoch 6/10\n",
            "11/11 [==============================] - 1s 89ms/step - loss: 44747.8008 - mae: 194.3212 - val_loss: 189705.9688 - val_mae: 428.8074\n",
            "Epoch 7/10\n",
            "11/11 [==============================] - 1s 90ms/step - loss: 42248.7461 - mae: 187.7109 - val_loss: 184204.3750 - val_mae: 422.3228\n",
            "Epoch 8/10\n",
            "11/11 [==============================] - 1s 89ms/step - loss: 39995.5664 - mae: 181.5463 - val_loss: 179148.2969 - val_mae: 416.2781\n",
            "Epoch 9/10\n",
            "11/11 [==============================] - 1s 92ms/step - loss: 37898.1406 - mae: 175.6361 - val_loss: 174285.1094 - val_mae: 410.3862\n",
            "Epoch 10/10\n",
            "11/11 [==============================] - 1s 90ms/step - loss: 35892.3789 - mae: 169.8218 - val_loss: 169489.5938 - val_mae: 404.5014\n"
          ]
        }
      ]
    },
    {
      "cell_type": "markdown",
      "source": [
        "Добавим еще один слой"
      ],
      "metadata": {
        "id": "tNOVobrZn8nR"
      }
    },
    {
      "cell_type": "code",
      "source": [
        "tf.random.set_seed(8)\n",
        "\n",
        "model = Sequential()\n",
        "\n",
        "model.add(LSTM(512, input_shape=(inputs.shape[1], inputs.shape[2]),\n",
        "               return_sequences=True))\n",
        "model.add(Bidirectional(LSTM(256, return_sequences=True)))\n",
        "model.add(Bidirectional(LSTM(128, return_sequences=True)))\n",
        "model.add(Dense(1, activation='linear'))\n",
        "\n",
        "model.compile(loss='mse', optimizer='adam', metrics=['mae'])\n",
        "model.summary()"
      ],
      "metadata": {
        "colab": {
          "base_uri": "https://localhost:8080/"
        },
        "id": "NYfZwYLToCJ0",
        "outputId": "d06abfbe-8ae7-4a2b-8504-636f8614b405"
      },
      "execution_count": 171,
      "outputs": [
        {
          "output_type": "stream",
          "name": "stdout",
          "text": [
            "Model: \"sequential_32\"\n",
            "_________________________________________________________________\n",
            " Layer (type)                Output Shape              Param #   \n",
            "=================================================================\n",
            " lstm_35 (LSTM)              (None, 4, 512)            1058816   \n",
            "                                                                 \n",
            " bidirectional_15 (Bidirecti  (None, 4, 512)           1574912   \n",
            " onal)                                                           \n",
            "                                                                 \n",
            " bidirectional_16 (Bidirecti  (None, 4, 256)           656384    \n",
            " onal)                                                           \n",
            "                                                                 \n",
            " dense_32 (Dense)            (None, 4, 1)              257       \n",
            "                                                                 \n",
            "=================================================================\n",
            "Total params: 3,290,369\n",
            "Trainable params: 3,290,369\n",
            "Non-trainable params: 0\n",
            "_________________________________________________________________\n"
          ]
        }
      ]
    },
    {
      "cell_type": "code",
      "source": [
        "history = model.fit(dataset_train,\n",
        "                    epochs=epochs,\n",
        "                    validation_data=dataset_val)"
      ],
      "metadata": {
        "colab": {
          "base_uri": "https://localhost:8080/"
        },
        "id": "_92aGxaRoCMC",
        "outputId": "81a2b168-4738-4a52-cf9c-b88ee25b6ee2"
      },
      "execution_count": 172,
      "outputs": [
        {
          "output_type": "stream",
          "name": "stdout",
          "text": [
            "Epoch 1/10\n",
            "11/11 [==============================] - 10s 255ms/step - loss: 64926.9258 - mae: 240.2471 - val_loss: 234687.4844 - val_mae: 478.4746\n",
            "Epoch 2/10\n",
            "11/11 [==============================] - 1s 99ms/step - loss: 62827.6016 - mae: 236.4364 - val_loss: 230739.4531 - val_mae: 474.1321\n",
            "Epoch 3/10\n",
            "11/11 [==============================] - 1s 98ms/step - loss: 58142.3398 - mae: 225.4645 - val_loss: 226823.1562 - val_mae: 469.9667\n",
            "Epoch 4/10\n",
            "11/11 [==============================] - 1s 102ms/step - loss: 54690.9375 - mae: 218.2780 - val_loss: 214905.0625 - val_mae: 456.9585\n",
            "Epoch 5/10\n",
            "11/11 [==============================] - 1s 101ms/step - loss: 52205.8477 - mae: 212.5810 - val_loss: 206878.5000 - val_mae: 448.4768\n",
            "Epoch 6/10\n",
            "11/11 [==============================] - 1s 102ms/step - loss: 50794.3281 - mae: 209.2199 - val_loss: 203946.8438 - val_mae: 445.1957\n",
            "Epoch 7/10\n",
            "11/11 [==============================] - 1s 102ms/step - loss: 49469.0312 - mae: 206.0096 - val_loss: 201182.5625 - val_mae: 442.0796\n",
            "Epoch 8/10\n",
            "11/11 [==============================] - 1s 100ms/step - loss: 48228.1641 - mae: 202.9591 - val_loss: 198562.0312 - val_mae: 439.1050\n",
            "Epoch 9/10\n",
            "11/11 [==============================] - 1s 100ms/step - loss: 47055.3086 - mae: 200.0353 - val_loss: 196055.8125 - val_mae: 436.2411\n",
            "Epoch 10/10\n",
            "11/11 [==============================] - 1s 101ms/step - loss: 45938.1719 - mae: 197.2119 - val_loss: 193642.5469 - val_mae: 433.4655\n"
          ]
        }
      ]
    },
    {
      "cell_type": "markdown",
      "source": [
        "Вернем к предыдущей версии сети, но увеличим количество эпох до 25"
      ],
      "metadata": {
        "id": "qoXf_puRo9wk"
      }
    },
    {
      "cell_type": "code",
      "source": [
        "tf.random.set_seed(8)\n",
        "\n",
        "model = Sequential()\n",
        "\n",
        "model.add(LSTM(512, input_shape=(inputs.shape[1], inputs.shape[2]),\n",
        "               return_sequences=True))\n",
        "model.add(Bidirectional(LSTM(256, return_sequences=True)))\n",
        "model.add(Dense(1, activation='linear'))\n",
        "\n",
        "model.compile(loss='mse', optimizer='adam', metrics=['mae'])\n",
        "model.summary()"
      ],
      "metadata": {
        "colab": {
          "base_uri": "https://localhost:8080/"
        },
        "id": "yBAQytneoCPL",
        "outputId": "3e821b34-5aae-4ac7-b140-5d772bc9bf5b"
      },
      "execution_count": 173,
      "outputs": [
        {
          "output_type": "stream",
          "name": "stdout",
          "text": [
            "Model: \"sequential_33\"\n",
            "_________________________________________________________________\n",
            " Layer (type)                Output Shape              Param #   \n",
            "=================================================================\n",
            " lstm_38 (LSTM)              (None, 4, 512)            1058816   \n",
            "                                                                 \n",
            " bidirectional_17 (Bidirecti  (None, 4, 512)           1574912   \n",
            " onal)                                                           \n",
            "                                                                 \n",
            " dense_33 (Dense)            (None, 4, 1)              513       \n",
            "                                                                 \n",
            "=================================================================\n",
            "Total params: 2,634,241\n",
            "Trainable params: 2,634,241\n",
            "Non-trainable params: 0\n",
            "_________________________________________________________________\n"
          ]
        }
      ]
    },
    {
      "cell_type": "code",
      "source": [
        "history = model.fit(dataset_train,\n",
        "                    epochs=25,\n",
        "                    validation_data=dataset_val)"
      ],
      "metadata": {
        "colab": {
          "base_uri": "https://localhost:8080/"
        },
        "id": "oBoF-PnspGoI",
        "outputId": "770194ef-49c0-44b6-dbac-5ec935a176cc"
      },
      "execution_count": 174,
      "outputs": [
        {
          "output_type": "stream",
          "name": "stdout",
          "text": [
            "Epoch 1/25\n",
            "11/11 [==============================] - 6s 187ms/step - loss: 64942.2578 - mae: 240.2610 - val_loss: 235056.7656 - val_mae: 478.8582\n",
            "Epoch 2/25\n",
            "11/11 [==============================] - 1s 90ms/step - loss: 64036.9258 - mae: 238.4968 - val_loss: 233523.2344 - val_mae: 477.1725\n",
            "Epoch 3/25\n",
            "11/11 [==============================] - 1s 92ms/step - loss: 58343.2656 - mae: 226.2266 - val_loss: 225922.2500 - val_mae: 468.9458\n",
            "Epoch 4/25\n",
            "11/11 [==============================] - 1s 89ms/step - loss: 51895.2305 - mae: 212.1855 - val_loss: 204655.6875 - val_mae: 445.9073\n",
            "Epoch 5/25\n",
            "11/11 [==============================] - 1s 91ms/step - loss: 47656.3047 - mae: 201.7319 - val_loss: 196118.1875 - val_mae: 436.2430\n",
            "Epoch 6/25\n",
            "11/11 [==============================] - 1s 91ms/step - loss: 44747.8008 - mae: 194.3212 - val_loss: 189705.9688 - val_mae: 428.8074\n",
            "Epoch 7/25\n",
            "11/11 [==============================] - 1s 91ms/step - loss: 42248.7461 - mae: 187.7109 - val_loss: 184204.3750 - val_mae: 422.3228\n",
            "Epoch 8/25\n",
            "11/11 [==============================] - 1s 92ms/step - loss: 39995.5664 - mae: 181.5463 - val_loss: 179148.2969 - val_mae: 416.2781\n",
            "Epoch 9/25\n",
            "11/11 [==============================] - 1s 90ms/step - loss: 37898.1406 - mae: 175.6361 - val_loss: 174285.1094 - val_mae: 410.3862\n",
            "Epoch 10/25\n",
            "11/11 [==============================] - 1s 91ms/step - loss: 35892.3789 - mae: 169.8218 - val_loss: 169489.5938 - val_mae: 404.5014\n",
            "Epoch 11/25\n",
            "11/11 [==============================] - 1s 91ms/step - loss: 33955.1328 - mae: 164.0440 - val_loss: 164704.9688 - val_mae: 398.5543\n",
            "Epoch 12/25\n",
            "11/11 [==============================] - 1s 90ms/step - loss: 32074.0039 - mae: 158.2670 - val_loss: 159923.0625 - val_mae: 392.5303\n",
            "Epoch 13/25\n",
            "11/11 [==============================] - 1s 88ms/step - loss: 30258.2344 - mae: 152.5039 - val_loss: 155217.1719 - val_mae: 386.5150\n",
            "Epoch 14/25\n",
            "11/11 [==============================] - 1s 90ms/step - loss: 28532.4199 - mae: 146.8161 - val_loss: 150704.7812 - val_mae: 380.6560\n",
            "Epoch 15/25\n",
            "11/11 [==============================] - 1s 90ms/step - loss: 26922.4609 - mae: 141.2905 - val_loss: 146478.5312 - val_mae: 375.0793\n",
            "Epoch 16/25\n",
            "11/11 [==============================] - 1s 91ms/step - loss: 25441.7969 - mae: 136.0231 - val_loss: 142563.4062 - val_mae: 369.8317\n",
            "Epoch 17/25\n",
            "11/11 [==============================] - 1s 92ms/step - loss: 24088.3125 - mae: 131.0128 - val_loss: 138932.4688 - val_mae: 364.8927\n",
            "Epoch 18/25\n",
            "11/11 [==============================] - 1s 91ms/step - loss: 22850.5371 - mae: 126.3499 - val_loss: 135541.6875 - val_mae: 360.2161\n",
            "Epoch 19/25\n",
            "11/11 [==============================] - 1s 90ms/step - loss: 21714.5156 - mae: 121.9727 - val_loss: 132351.0156 - val_mae: 355.7574\n",
            "Epoch 20/25\n",
            "11/11 [==============================] - 1s 91ms/step - loss: 20667.5000 - mae: 117.8774 - val_loss: 129330.1094 - val_mae: 351.4828\n",
            "Epoch 21/25\n",
            "11/11 [==============================] - 1s 90ms/step - loss: 19698.9531 - mae: 114.0168 - val_loss: 126457.1562 - val_mae: 347.3681\n",
            "Epoch 22/25\n",
            "11/11 [==============================] - 1s 91ms/step - loss: 18800.4512 - mae: 110.4338 - val_loss: 123716.4297 - val_mae: 343.3964\n",
            "Epoch 23/25\n",
            "11/11 [==============================] - 1s 94ms/step - loss: 17965.2109 - mae: 107.1091 - val_loss: 121096.2344 - val_mae: 339.5556\n",
            "Epoch 24/25\n",
            "11/11 [==============================] - 1s 93ms/step - loss: 17187.6797 - mae: 103.9944 - val_loss: 118587.5391 - val_mae: 335.8368\n",
            "Epoch 25/25\n",
            "11/11 [==============================] - 1s 90ms/step - loss: 16463.1992 - mae: 101.1206 - val_loss: 116183.0391 - val_mae: 332.2332\n"
          ]
        }
      ]
    },
    {
      "cell_type": "markdown",
      "source": [
        "## Вывод\n",
        "\n",
        "- увеличение количества скрытых состояний улучшает перформанс\n",
        "- дополнительный слой bidirectional улучшил модель\n",
        "- даже после увеличения количества эпох до 25 модель продолжала обучаться и улучшаться\n",
        "- не могу понять, почему для данной задачи метрика LSTM оказалась хуже метрик, полученных с помощью RNN"
      ],
      "metadata": {
        "id": "iVQRO1kKsAfS"
      }
    },
    {
      "cell_type": "markdown",
      "source": [
        "## Для эксперимента сделаем глубокую сеть с конолюционными слоями"
      ],
      "metadata": {
        "id": "w_UfrUAJYH4S"
      }
    },
    {
      "cell_type": "code",
      "source": [
        "from keras.callbacks import EarlyStopping\n",
        "from keras.layers import Conv1D, Flatten\n",
        "\n",
        "tf.random.set_seed(8)\n",
        "\n",
        "early_stop = EarlyStopping(monitor='val_mae', patience=5)\n",
        "\n",
        "\n",
        "model = Sequential()\n",
        "\n",
        "model.add(LSTM(32, input_shape=(inputs.shape[1], inputs.shape[2]),\n",
        "               return_sequences=True))\n",
        "model.add(LSTM(32, return_sequences=True))\n",
        "model.add(Conv1D(64, 3, activation='linear'))\n",
        "model.add(Conv1D(64, 1, activation='linear'))\n",
        "model.add(Flatten())\n",
        "model.add(Dense(3, activation='linear'))\n",
        "model.add(Dense(1, activation='linear'))\n",
        "\n",
        "model.compile(loss='mse', optimizer='adam', metrics=['mae'])\n",
        "model.summary()"
      ],
      "metadata": {
        "colab": {
          "base_uri": "https://localhost:8080/"
        },
        "id": "Orvrw8hPvKFT",
        "outputId": "06823a23-dfa3-49f8-bc78-3a20f32f8b41"
      },
      "execution_count": 18,
      "outputs": [
        {
          "output_type": "stream",
          "name": "stdout",
          "text": [
            "Model: \"sequential_2\"\n",
            "_________________________________________________________________\n",
            " Layer (type)                Output Shape              Param #   \n",
            "=================================================================\n",
            " lstm_2 (LSTM)               (None, 4, 32)             4736      \n",
            "                                                                 \n",
            " lstm_3 (LSTM)               (None, 4, 32)             8320      \n",
            "                                                                 \n",
            " conv1d_2 (Conv1D)           (None, 2, 64)             6208      \n",
            "                                                                 \n",
            " conv1d_3 (Conv1D)           (None, 2, 64)             4160      \n",
            "                                                                 \n",
            " flatten_1 (Flatten)         (None, 128)               0         \n",
            "                                                                 \n",
            " dense_2 (Dense)             (None, 3)                 387       \n",
            "                                                                 \n",
            " dense_3 (Dense)             (None, 1)                 4         \n",
            "                                                                 \n",
            "=================================================================\n",
            "Total params: 23,815\n",
            "Trainable params: 23,815\n",
            "Non-trainable params: 0\n",
            "_________________________________________________________________\n"
          ]
        }
      ]
    },
    {
      "cell_type": "code",
      "source": [
        "history = model.fit(dataset_train,\n",
        "                    epochs=epochs,\n",
        "                    validation_data=dataset_val,\n",
        "                    callbacks=[early_stop])"
      ],
      "metadata": {
        "colab": {
          "base_uri": "https://localhost:8080/"
        },
        "id": "BDWuKrtepGvN",
        "outputId": "65fd97d7-5361-4697-e582-014546730365"
      },
      "execution_count": 19,
      "outputs": [
        {
          "output_type": "stream",
          "name": "stdout",
          "text": [
            "Epoch 1/10\n",
            "11/11 [==============================] - 5s 118ms/step - loss: 64765.9688 - mae: 240.0212 - val_loss: 234064.7812 - val_mae: 477.8348\n",
            "Epoch 2/10\n",
            "11/11 [==============================] - 0s 18ms/step - loss: 64377.6445 - mae: 239.2484 - val_loss: 232785.6875 - val_mae: 476.5135\n",
            "Epoch 3/10\n",
            "11/11 [==============================] - 0s 18ms/step - loss: 63195.1211 - mae: 237.0269 - val_loss: 228115.3750 - val_mae: 471.6679\n",
            "Epoch 4/10\n",
            "11/11 [==============================] - 0s 19ms/step - loss: 58879.8516 - mae: 228.7946 - val_loss: 210660.0938 - val_mae: 453.0964\n",
            "Epoch 5/10\n",
            "11/11 [==============================] - 0s 19ms/step - loss: 44552.6445 - mae: 199.0326 - val_loss: 154130.5781 - val_mae: 386.7558\n",
            "Epoch 6/10\n",
            "11/11 [==============================] - 0s 18ms/step - loss: 12110.4131 - mae: 101.5785 - val_loss: 39222.8203 - val_mae: 189.7104\n",
            "Epoch 7/10\n",
            "11/11 [==============================] - 0s 20ms/step - loss: 5622.6499 - mae: 61.7628 - val_loss: 10819.8867 - val_mae: 89.9761\n",
            "Epoch 8/10\n",
            "11/11 [==============================] - 0s 18ms/step - loss: 2791.9414 - mae: 41.3742 - val_loss: 10997.1855 - val_mae: 89.7781\n",
            "Epoch 9/10\n",
            "11/11 [==============================] - 0s 18ms/step - loss: 749.3347 - mae: 20.4930 - val_loss: 5688.9570 - val_mae: 57.1119\n",
            "Epoch 10/10\n",
            "11/11 [==============================] - 0s 19ms/step - loss: 692.2849 - mae: 21.3814 - val_loss: 4589.8936 - val_mae: 52.1426\n"
          ]
        }
      ]
    },
    {
      "cell_type": "markdown",
      "source": [
        "## Далее попробует GRU"
      ],
      "metadata": {
        "id": "gOscBlRxZf8o"
      }
    },
    {
      "cell_type": "code",
      "source": [
        "from keras.layers import GRU\n",
        "\n",
        "model = Sequential()\n",
        "\n",
        "model.add(GRU(32, input_shape=(inputs.shape[1], inputs.shape[2]),\n",
        "               return_sequences=True))\n",
        "model.add(Dense(1, activation='linear'))\n",
        "\n",
        "model.compile(loss='mse', optimizer='adam', metrics=['mae'])\n",
        "\n",
        "model.summary()"
      ],
      "metadata": {
        "colab": {
          "base_uri": "https://localhost:8080/"
        },
        "id": "xW2ZmXBqpGyJ",
        "outputId": "cb562317-134c-4ee6-dc8f-0b9c5236368f"
      },
      "execution_count": 21,
      "outputs": [
        {
          "output_type": "stream",
          "name": "stdout",
          "text": [
            "Model: \"sequential_4\"\n",
            "_________________________________________________________________\n",
            " Layer (type)                Output Shape              Param #   \n",
            "=================================================================\n",
            " gru (GRU)                   (None, 4, 32)             3648      \n",
            "                                                                 \n",
            " dense_4 (Dense)             (None, 4, 1)              33        \n",
            "                                                                 \n",
            "=================================================================\n",
            "Total params: 3,681\n",
            "Trainable params: 3,681\n",
            "Non-trainable params: 0\n",
            "_________________________________________________________________\n"
          ]
        }
      ]
    },
    {
      "cell_type": "code",
      "source": [
        "history = model.fit(dataset_train,\n",
        "                    epochs=epochs,\n",
        "                    validation_data=dataset_val)"
      ],
      "metadata": {
        "colab": {
          "base_uri": "https://localhost:8080/"
        },
        "id": "7tlwsKe4Z6pA",
        "outputId": "8cc08817-1945-478c-a017-276ba897001f"
      },
      "execution_count": 22,
      "outputs": [
        {
          "output_type": "stream",
          "name": "stdout",
          "text": [
            "Epoch 1/10\n",
            "11/11 [==============================] - 3s 60ms/step - loss: 64794.1602 - mae: 240.1222 - val_loss: 233785.7500 - val_mae: 477.5453\n",
            "Epoch 2/10\n",
            "11/11 [==============================] - 0s 17ms/step - loss: 64726.9141 - mae: 239.9810 - val_loss: 233603.4375 - val_mae: 477.3542\n",
            "Epoch 3/10\n",
            "11/11 [==============================] - 0s 15ms/step - loss: 64665.2305 - mae: 239.8663 - val_loss: 233395.2344 - val_mae: 477.1361\n",
            "Epoch 4/10\n",
            "11/11 [==============================] - 0s 15ms/step - loss: 64597.4531 - mae: 239.7415 - val_loss: 233161.9531 - val_mae: 476.8917\n",
            "Epoch 5/10\n",
            "11/11 [==============================] - 0s 14ms/step - loss: 64518.3750 - mae: 239.5956 - val_loss: 232891.7031 - val_mae: 476.6085\n",
            "Epoch 6/10\n",
            "11/11 [==============================] - 0s 16ms/step - loss: 64420.6250 - mae: 239.4145 - val_loss: 232563.5469 - val_mae: 476.2643\n",
            "Epoch 7/10\n",
            "11/11 [==============================] - 0s 14ms/step - loss: 64292.4922 - mae: 239.1763 - val_loss: 232144.2969 - val_mae: 475.8241\n",
            "Epoch 8/10\n",
            "11/11 [==============================] - 0s 15ms/step - loss: 64114.2383 - mae: 238.8436 - val_loss: 231585.7812 - val_mae: 475.2365\n",
            "Epoch 9/10\n",
            "11/11 [==============================] - 0s 17ms/step - loss: 63854.0859 - mae: 238.3544 - val_loss: 230838.0938 - val_mae: 474.4476\n",
            "Epoch 10/10\n",
            "11/11 [==============================] - 0s 15ms/step - loss: 63477.3789 - mae: 237.6308 - val_loss: 229914.6562 - val_mae: 473.4697\n"
          ]
        }
      ]
    },
    {
      "cell_type": "markdown",
      "source": [
        "Увеличим количество скрытых состояний до 128"
      ],
      "metadata": {
        "id": "9vlgSk_qaD98"
      }
    },
    {
      "cell_type": "code",
      "source": [
        "from keras.layers import GRU\n",
        "\n",
        "model = Sequential()\n",
        "\n",
        "model.add(GRU(128, input_shape=(inputs.shape[1], inputs.shape[2]),\n",
        "               return_sequences=True))\n",
        "model.add(Dense(1, activation='linear'))\n",
        "\n",
        "model.compile(loss='mse', optimizer='adam', metrics=['mae'])\n",
        "\n",
        "model.summary()"
      ],
      "metadata": {
        "colab": {
          "base_uri": "https://localhost:8080/"
        },
        "id": "Z_1KguGgZ6rS",
        "outputId": "c21e8cd6-74ec-4e32-cc59-dde882249667"
      },
      "execution_count": 23,
      "outputs": [
        {
          "output_type": "stream",
          "name": "stdout",
          "text": [
            "Model: \"sequential_5\"\n",
            "_________________________________________________________________\n",
            " Layer (type)                Output Shape              Param #   \n",
            "=================================================================\n",
            " gru_1 (GRU)                 (None, 4, 128)            51456     \n",
            "                                                                 \n",
            " dense_5 (Dense)             (None, 4, 1)              129       \n",
            "                                                                 \n",
            "=================================================================\n",
            "Total params: 51,585\n",
            "Trainable params: 51,585\n",
            "Non-trainable params: 0\n",
            "_________________________________________________________________\n"
          ]
        }
      ]
    },
    {
      "cell_type": "code",
      "source": [
        "history = model.fit(dataset_train,\n",
        "                    epochs=epochs,\n",
        "                    validation_data=dataset_val)"
      ],
      "metadata": {
        "colab": {
          "base_uri": "https://localhost:8080/"
        },
        "id": "ZPPRjdKAZ6tZ",
        "outputId": "3c1e331e-2390-452c-8f25-1736f5d37d17"
      },
      "execution_count": 24,
      "outputs": [
        {
          "output_type": "stream",
          "name": "stdout",
          "text": [
            "Epoch 1/10\n",
            "11/11 [==============================] - 4s 65ms/step - loss: 64816.1484 - mae: 240.0974 - val_loss: 234413.1406 - val_mae: 478.1903\n",
            "Epoch 2/10\n",
            "11/11 [==============================] - 0s 18ms/step - loss: 64656.3828 - mae: 239.7594 - val_loss: 233972.6250 - val_mae: 477.7289\n",
            "Epoch 3/10\n",
            "11/11 [==============================] - 0s 18ms/step - loss: 64465.3281 - mae: 239.4045 - val_loss: 233340.9688 - val_mae: 477.0663\n",
            "Epoch 4/10\n",
            "11/11 [==============================] - 0s 16ms/step - loss: 64094.0078 - mae: 238.7107 - val_loss: 232144.0625 - val_mae: 475.8054\n",
            "Epoch 5/10\n",
            "11/11 [==============================] - 0s 17ms/step - loss: 63096.8125 - mae: 236.8302 - val_loss: 229066.7812 - val_mae: 472.5348\n",
            "Epoch 6/10\n",
            "11/11 [==============================] - 0s 18ms/step - loss: 61149.9102 - mae: 232.8112 - val_loss: 224713.2188 - val_mae: 467.8790\n",
            "Epoch 7/10\n",
            "11/11 [==============================] - 0s 19ms/step - loss: 59399.9727 - mae: 228.8497 - val_loss: 221537.7500 - val_mae: 464.4589\n",
            "Epoch 8/10\n",
            "11/11 [==============================] - 0s 18ms/step - loss: 58163.6172 - mae: 226.0046 - val_loss: 219207.2188 - val_mae: 461.9323\n",
            "Epoch 9/10\n",
            "11/11 [==============================] - 0s 17ms/step - loss: 57169.7344 - mae: 223.7419 - val_loss: 217175.0000 - val_mae: 459.7168\n",
            "Epoch 10/10\n",
            "11/11 [==============================] - 0s 17ms/step - loss: 56258.7227 - mae: 221.6793 - val_loss: 215246.0938 - val_mae: 457.6025\n"
          ]
        }
      ]
    },
    {
      "cell_type": "markdown",
      "source": [
        "Увеличим количество скрытых состояний до 512"
      ],
      "metadata": {
        "id": "-UxD_vKaadXa"
      }
    },
    {
      "cell_type": "code",
      "source": [
        "from keras.layers import GRU\n",
        "\n",
        "model = Sequential()\n",
        "\n",
        "model.add(GRU(512, input_shape=(inputs.shape[1], inputs.shape[2]),\n",
        "               return_sequences=True))\n",
        "model.add(Dense(1, activation='linear'))\n",
        "\n",
        "model.compile(loss='mse', optimizer='adam', metrics=['mae'])\n",
        "\n",
        "model.summary()"
      ],
      "metadata": {
        "colab": {
          "base_uri": "https://localhost:8080/"
        },
        "id": "Z1PmWUvdZ6v-",
        "outputId": "cea6cadc-ced6-4879-d861-fdf59c244e81"
      },
      "execution_count": 25,
      "outputs": [
        {
          "output_type": "stream",
          "name": "stdout",
          "text": [
            "Model: \"sequential_6\"\n",
            "_________________________________________________________________\n",
            " Layer (type)                Output Shape              Param #   \n",
            "=================================================================\n",
            " gru_2 (GRU)                 (None, 4, 512)            795648    \n",
            "                                                                 \n",
            " dense_6 (Dense)             (None, 4, 1)              513       \n",
            "                                                                 \n",
            "=================================================================\n",
            "Total params: 796,161\n",
            "Trainable params: 796,161\n",
            "Non-trainable params: 0\n",
            "_________________________________________________________________\n"
          ]
        }
      ]
    },
    {
      "cell_type": "code",
      "source": [
        "history = model.fit(dataset_train,\n",
        "                    epochs=epochs,\n",
        "                    validation_data=dataset_val)"
      ],
      "metadata": {
        "colab": {
          "base_uri": "https://localhost:8080/"
        },
        "id": "WH5D5ujUZ6yI",
        "outputId": "77704638-9600-47e1-9af6-c386d09f51f4"
      },
      "execution_count": 26,
      "outputs": [
        {
          "output_type": "stream",
          "name": "stdout",
          "text": [
            "Epoch 1/10\n",
            "11/11 [==============================] - 4s 93ms/step - loss: 64857.8008 - mae: 240.1364 - val_loss: 234885.7656 - val_mae: 478.6814\n",
            "Epoch 2/10\n",
            "11/11 [==============================] - 0s 41ms/step - loss: 64317.1094 - mae: 239.0298 - val_loss: 233353.2812 - val_mae: 477.0724\n",
            "Epoch 3/10\n",
            "11/11 [==============================] - 0s 40ms/step - loss: 60944.7617 - mae: 232.6082 - val_loss: 222405.9844 - val_mae: 465.2611\n",
            "Epoch 4/10\n",
            "11/11 [==============================] - 0s 45ms/step - loss: 55323.2461 - mae: 219.6581 - val_loss: 211199.1250 - val_mae: 452.8870\n",
            "Epoch 5/10\n",
            "11/11 [==============================] - 1s 56ms/step - loss: 52153.2227 - mae: 211.8920 - val_loss: 204556.7656 - val_mae: 445.4112\n",
            "Epoch 6/10\n",
            "11/11 [==============================] - 1s 60ms/step - loss: 49368.1680 - mae: 205.1133 - val_loss: 197982.6875 - val_mae: 437.8731\n",
            "Epoch 7/10\n",
            "11/11 [==============================] - 1s 64ms/step - loss: 46570.3906 - mae: 198.0466 - val_loss: 191539.5938 - val_mae: 430.3148\n",
            "Epoch 8/10\n",
            "11/11 [==============================] - 1s 61ms/step - loss: 43935.4531 - mae: 190.9812 - val_loss: 185720.2812 - val_mae: 423.3254\n",
            "Epoch 9/10\n",
            "11/11 [==============================] - 0s 40ms/step - loss: 41619.3047 - mae: 184.3444 - val_loss: 180674.8750 - val_mae: 417.1386\n",
            "Epoch 10/10\n",
            "11/11 [==============================] - 0s 41ms/step - loss: 39631.0312 - mae: 178.3202 - val_loss: 176213.2969 - val_mae: 411.5697\n"
          ]
        }
      ]
    },
    {
      "cell_type": "markdown",
      "source": [
        "Добавим второй слой"
      ],
      "metadata": {
        "id": "QK7e3ONmah19"
      }
    },
    {
      "cell_type": "code",
      "source": [
        "from keras.layers import GRU\n",
        "\n",
        "model = Sequential()\n",
        "\n",
        "model.add(GRU(512, input_shape=(inputs.shape[1], inputs.shape[2]),\n",
        "               return_sequences=True))\n",
        "model.add(GRU(256, return_sequences=True))\n",
        "model.add(Dense(1, activation='linear'))\n",
        "\n",
        "model.compile(loss='mse', optimizer='adam', metrics=['mae'])\n",
        "\n",
        "model.summary()"
      ],
      "metadata": {
        "colab": {
          "base_uri": "https://localhost:8080/"
        },
        "id": "IMzECGKIalKt",
        "outputId": "99b8ff66-9dec-44a9-aa69-89919ec6317b"
      },
      "execution_count": 27,
      "outputs": [
        {
          "output_type": "stream",
          "name": "stdout",
          "text": [
            "Model: \"sequential_7\"\n",
            "_________________________________________________________________\n",
            " Layer (type)                Output Shape              Param #   \n",
            "=================================================================\n",
            " gru_3 (GRU)                 (None, 4, 512)            795648    \n",
            "                                                                 \n",
            " gru_4 (GRU)                 (None, 4, 256)            591360    \n",
            "                                                                 \n",
            " dense_7 (Dense)             (None, 4, 1)              257       \n",
            "                                                                 \n",
            "=================================================================\n",
            "Total params: 1,387,265\n",
            "Trainable params: 1,387,265\n",
            "Non-trainable params: 0\n",
            "_________________________________________________________________\n"
          ]
        }
      ]
    },
    {
      "cell_type": "code",
      "source": [
        "history = model.fit(dataset_train,\n",
        "                    epochs=epochs,\n",
        "                    validation_data=dataset_val)"
      ],
      "metadata": {
        "colab": {
          "base_uri": "https://localhost:8080/"
        },
        "id": "VaTpWFhZalNc",
        "outputId": "5c659986-03d7-48c3-b04b-26ce86499aa9"
      },
      "execution_count": 28,
      "outputs": [
        {
          "output_type": "stream",
          "name": "stdout",
          "text": [
            "Epoch 1/10\n",
            "11/11 [==============================] - 8s 151ms/step - loss: 65022.2148 - mae: 240.3382 - val_loss: 236063.0312 - val_mae: 479.8997\n",
            "Epoch 2/10\n",
            "11/11 [==============================] - 1s 64ms/step - loss: 63652.2656 - mae: 237.5500 - val_loss: 233774.5781 - val_mae: 477.4689\n",
            "Epoch 3/10\n",
            "11/11 [==============================] - 1s 62ms/step - loss: 58738.8633 - mae: 227.3370 - val_loss: 220440.5156 - val_mae: 463.2355\n",
            "Epoch 4/10\n",
            "11/11 [==============================] - 1s 61ms/step - loss: 55601.4844 - mae: 220.2704 - val_loss: 213894.8594 - val_mae: 456.1361\n",
            "Epoch 5/10\n",
            "11/11 [==============================] - 1s 58ms/step - loss: 53775.2656 - mae: 216.0438 - val_loss: 210134.0156 - val_mae: 451.9977\n",
            "Epoch 6/10\n",
            "11/11 [==============================] - 1s 62ms/step - loss: 52116.7773 - mae: 212.1942 - val_loss: 206551.2656 - val_mae: 448.0310\n",
            "Epoch 7/10\n",
            "11/11 [==============================] - 1s 60ms/step - loss: 50405.1367 - mae: 208.1942 - val_loss: 202734.0625 - val_mae: 443.7766\n",
            "Epoch 8/10\n",
            "11/11 [==============================] - 1s 63ms/step - loss: 48619.9336 - mae: 203.9615 - val_loss: 198725.0000 - val_mae: 439.2661\n",
            "Epoch 9/10\n",
            "11/11 [==============================] - 1s 61ms/step - loss: 46849.7461 - mae: 199.6524 - val_loss: 194841.8594 - val_mae: 434.8437\n",
            "Epoch 10/10\n",
            "11/11 [==============================] - 1s 57ms/step - loss: 45214.9453 - mae: 195.5376 - val_loss: 191358.6562 - val_mae: 430.8282\n"
          ]
        }
      ]
    },
    {
      "cell_type": "markdown",
      "source": [
        "Добавим еще слой"
      ],
      "metadata": {
        "id": "Uiluu4QWbB08"
      }
    },
    {
      "cell_type": "code",
      "source": [
        "#from keras.layers import Dropout\n",
        "\n",
        "model = Sequential()\n",
        "\n",
        "model.add(GRU(512, input_shape=(inputs.shape[1], inputs.shape[2]),\n",
        "               return_sequences=True))\n",
        "model.add(GRU(256, return_sequences=True))\n",
        "model.add(GRU(64, return_sequences=True))\n",
        "model.add(Dense(1, activation='linear'))\n",
        "\n",
        "model.compile(loss='mse', optimizer='adam', metrics=['mae'])\n",
        "\n",
        "model.summary()"
      ],
      "metadata": {
        "colab": {
          "base_uri": "https://localhost:8080/"
        },
        "id": "uhLk12Y3alPn",
        "outputId": "1324cc21-8424-498e-81f5-e5c4ea23be9d"
      },
      "execution_count": 32,
      "outputs": [
        {
          "output_type": "stream",
          "name": "stdout",
          "text": [
            "Model: \"sequential_10\"\n",
            "_________________________________________________________________\n",
            " Layer (type)                Output Shape              Param #   \n",
            "=================================================================\n",
            " gru_11 (GRU)                (None, 4, 512)            795648    \n",
            "                                                                 \n",
            " gru_12 (GRU)                (None, 4, 256)            591360    \n",
            "                                                                 \n",
            " gru_13 (GRU)                (None, 4, 64)             61824     \n",
            "                                                                 \n",
            " dense_9 (Dense)             (None, 4, 1)              65        \n",
            "                                                                 \n",
            "=================================================================\n",
            "Total params: 1,448,897\n",
            "Trainable params: 1,448,897\n",
            "Non-trainable params: 0\n",
            "_________________________________________________________________\n"
          ]
        }
      ]
    },
    {
      "cell_type": "code",
      "source": [
        "history = model.fit(dataset_train,\n",
        "                    epochs=epochs,\n",
        "                    validation_data=dataset_val)"
      ],
      "metadata": {
        "colab": {
          "base_uri": "https://localhost:8080/"
        },
        "id": "6LmdODtralS8",
        "outputId": "62ad43b8-c2e3-4756-8c19-16f00e41116a"
      },
      "execution_count": 33,
      "outputs": [
        {
          "output_type": "stream",
          "name": "stdout",
          "text": [
            "Epoch 1/10\n",
            "11/11 [==============================] - 7s 180ms/step - loss: 64996.5156 - mae: 240.2856 - val_loss: 235776.1094 - val_mae: 479.6058\n",
            "Epoch 2/10\n",
            "11/11 [==============================] - 1s 55ms/step - loss: 63526.3594 - mae: 237.3010 - val_loss: 233148.4844 - val_mae: 476.8345\n",
            "Epoch 3/10\n",
            "11/11 [==============================] - 1s 55ms/step - loss: 60962.1367 - mae: 232.0623 - val_loss: 225885.0938 - val_mae: 469.1746\n",
            "Epoch 4/10\n",
            "11/11 [==============================] - 1s 82ms/step - loss: 60009.4727 - mae: 230.0042 - val_loss: 223963.8125 - val_mae: 467.1348\n",
            "Epoch 5/10\n",
            "11/11 [==============================] - 1s 94ms/step - loss: 59243.6992 - mae: 228.3396 - val_loss: 222420.2500 - val_mae: 465.4839\n",
            "Epoch 6/10\n",
            "11/11 [==============================] - 1s 101ms/step - loss: 58652.1875 - mae: 227.0218 - val_loss: 221302.0781 - val_mae: 464.2819\n",
            "Epoch 7/10\n",
            "11/11 [==============================] - 1s 90ms/step - loss: 58202.2070 - mae: 226.0169 - val_loss: 220424.9375 - val_mae: 463.3363\n",
            "Epoch 8/10\n",
            "11/11 [==============================] - 1s 91ms/step - loss: 57805.7617 - mae: 225.1333 - val_loss: 219630.5625 - val_mae: 462.4782\n",
            "Epoch 9/10\n",
            "11/11 [==============================] - 1s 78ms/step - loss: 57432.1289 - mae: 224.2991 - val_loss: 218874.0156 - val_mae: 461.6595\n",
            "Epoch 10/10\n",
            "11/11 [==============================] - 1s 59ms/step - loss: 57072.3633 - mae: 223.4937 - val_loss: 218141.3438 - val_mae: 460.8653\n"
          ]
        }
      ]
    },
    {
      "cell_type": "markdown",
      "source": [
        "Изменим подход и попробуем в каждом слое увеличивать количество скрытых состояний"
      ],
      "metadata": {
        "id": "YFq89Gjebyqt"
      }
    },
    {
      "cell_type": "code",
      "source": [
        "model = Sequential()\n",
        "\n",
        "model.add(GRU(64, input_shape=(inputs.shape[1], inputs.shape[2]),\n",
        "               return_sequences=True))\n",
        "model.add(GRU(256, return_sequences=True))\n",
        "model.add(GRU(512, return_sequences=True))\n",
        "model.add(Dense(1, activation='linear'))\n",
        "\n",
        "model.compile(loss='mse', optimizer='adam', metrics=['mae'])\n",
        "\n",
        "model.summary()"
      ],
      "metadata": {
        "colab": {
          "base_uri": "https://localhost:8080/"
        },
        "id": "u-15knCMZ60u",
        "outputId": "68a0543b-ee34-48fa-bc6b-7bdcbfd53156"
      },
      "execution_count": 34,
      "outputs": [
        {
          "output_type": "stream",
          "name": "stdout",
          "text": [
            "Model: \"sequential_11\"\n",
            "_________________________________________________________________\n",
            " Layer (type)                Output Shape              Param #   \n",
            "=================================================================\n",
            " gru_14 (GRU)                (None, 4, 64)             13440     \n",
            "                                                                 \n",
            " gru_15 (GRU)                (None, 4, 256)            247296    \n",
            "                                                                 \n",
            " gru_16 (GRU)                (None, 4, 512)            1182720   \n",
            "                                                                 \n",
            " dense_10 (Dense)            (None, 4, 1)              513       \n",
            "                                                                 \n",
            "=================================================================\n",
            "Total params: 1,443,969\n",
            "Trainable params: 1,443,969\n",
            "Non-trainable params: 0\n",
            "_________________________________________________________________\n"
          ]
        }
      ]
    },
    {
      "cell_type": "code",
      "source": [
        "history = model.fit(dataset_train,\n",
        "                    epochs=epochs,\n",
        "                    validation_data=dataset_val)"
      ],
      "metadata": {
        "colab": {
          "base_uri": "https://localhost:8080/"
        },
        "id": "0r7J5dkvbg31",
        "outputId": "640cb0e9-17be-4517-8777-b2426f834acc"
      },
      "execution_count": 35,
      "outputs": [
        {
          "output_type": "stream",
          "name": "stdout",
          "text": [
            "Epoch 1/10\n",
            "11/11 [==============================] - 9s 196ms/step - loss: 64897.7188 - mae: 240.1691 - val_loss: 234995.1562 - val_mae: 478.7939\n",
            "Epoch 2/10\n",
            "11/11 [==============================] - 1s 73ms/step - loss: 61492.6758 - mae: 233.8369 - val_loss: 221609.7656 - val_mae: 464.4402\n",
            "Epoch 3/10\n",
            "11/11 [==============================] - 1s 69ms/step - loss: 54281.5039 - mae: 217.5032 - val_loss: 207726.4062 - val_mae: 449.1924\n",
            "Epoch 4/10\n",
            "11/11 [==============================] - 1s 71ms/step - loss: 50186.1016 - mae: 207.8032 - val_loss: 200030.7344 - val_mae: 440.4840\n",
            "Epoch 5/10\n",
            "11/11 [==============================] - 1s 75ms/step - loss: 47193.2891 - mae: 200.1521 - val_loss: 193894.8438 - val_mae: 433.4592\n",
            "Epoch 6/10\n",
            "11/11 [==============================] - 1s 70ms/step - loss: 44479.4102 - mae: 193.2678 - val_loss: 187475.7656 - val_mae: 426.0421\n",
            "Epoch 7/10\n",
            "11/11 [==============================] - 1s 64ms/step - loss: 41528.5430 - mae: 185.7892 - val_loss: 180053.9531 - val_mae: 417.3687\n",
            "Epoch 8/10\n",
            "11/11 [==============================] - 1s 74ms/step - loss: 38165.7773 - mae: 177.0460 - val_loss: 172064.4688 - val_mae: 407.8015\n",
            "Epoch 9/10\n",
            "11/11 [==============================] - 1s 74ms/step - loss: 34894.8242 - mae: 167.7985 - val_loss: 165323.3125 - val_mae: 399.4780\n",
            "Epoch 10/10\n",
            "11/11 [==============================] - 1s 78ms/step - loss: 32295.2930 - mae: 159.6904 - val_loss: 160005.3281 - val_mae: 392.7640\n"
          ]
        }
      ]
    },
    {
      "cell_type": "markdown",
      "source": [
        "## Выводы\n",
        "\n",
        "- В этой задаче GRU показал себя хуже остальных (почему так?)\n",
        "- увеличение количества скрытых состояний улучшало результат\n",
        "- увеличение до 2 слоев GRU улучшило перформанс, до 3-х - уже ухудшило\n",
        "- подход увеличения скрытых состояний на каждом новом слое улучшил метрики\n"
      ],
      "metadata": {
        "id": "qncJgOtfcJg_"
      }
    }
  ]
}