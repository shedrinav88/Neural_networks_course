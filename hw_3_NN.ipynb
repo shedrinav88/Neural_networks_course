{
  "nbformat": 4,
  "nbformat_minor": 0,
  "metadata": {
    "colab": {
      "name": "hw_3_NN.ipynb",
      "provenance": [],
      "collapsed_sections": []
    },
    "kernelspec": {
      "name": "python3",
      "display_name": "Python 3"
    },
    "language_info": {
      "name": "python"
    }
  },
  "cells": [
    {
      "cell_type": "markdown",
      "source": [
        "## Домашнее задание\n",
        "\n",
        "  1. Постройте нейронную сеть (берем несложную полносвязную сеть, меняем число слоев, число нейронов, типы активации, тип оптимизатора) на датасете from sklearn.datasets import load_boston. \n",
        "  2. Постройте 10-15 вариантов разных нейронных сетей и сведите результаты их работы в таблицу.  Опишите, какого результата вы добились от нейросети? Что помогло вам улучшить ее точность?\n"
      ],
      "metadata": {
        "id": "_hR-BueVBGXz"
      }
    },
    {
      "cell_type": "markdown",
      "source": [
        "## Задание 1"
      ],
      "metadata": {
        "id": "Ou8m2vh7BMl_"
      }
    },
    {
      "cell_type": "code",
      "execution_count": 2,
      "metadata": {
        "colab": {
          "base_uri": "https://localhost:8080/"
        },
        "id": "tX_PPRrSBBin",
        "outputId": "76a9a069-6070-4c65-90dd-5c2bca91031b"
      },
      "outputs": [
        {
          "output_type": "stream",
          "name": "stdout",
          "text": [
            "2.8.0\n"
          ]
        }
      ],
      "source": [
        "import tensorflow as tf\n",
        "import pandas as pd\n",
        "import numpy as np\n",
        "from tensorflow.keras.layers import Input, Flatten, Dense\n",
        "from tensorflow.keras.models import Model\n",
        "from tensorflow.keras.models import Sequential\n",
        "from tensorflow.keras.layers import Dense\n",
        "from tensorflow.keras.utils import to_categorical\n",
        "from sklearn.datasets import load_boston\n",
        "\n",
        "print(tf.__version__)"
      ]
    },
    {
      "cell_type": "code",
      "source": [
        "boston_data = load_boston()"
      ],
      "metadata": {
        "colab": {
          "base_uri": "https://localhost:8080/"
        },
        "id": "iR3qDrpzBiai",
        "outputId": "9936be5f-0f02-4bea-df98-a1ee513016b8"
      },
      "execution_count": 3,
      "outputs": [
        {
          "output_type": "stream",
          "name": "stderr",
          "text": [
            "/usr/local/lib/python3.7/dist-packages/sklearn/utils/deprecation.py:87: FutureWarning: Function load_boston is deprecated; `load_boston` is deprecated in 1.0 and will be removed in 1.2.\n",
            "\n",
            "    The Boston housing prices dataset has an ethical problem. You can refer to\n",
            "    the documentation of this function for further details.\n",
            "\n",
            "    The scikit-learn maintainers therefore strongly discourage the use of this\n",
            "    dataset unless the purpose of the code is to study and educate about\n",
            "    ethical issues in data science and machine learning.\n",
            "\n",
            "    In this special case, you can fetch the dataset from the original\n",
            "    source::\n",
            "\n",
            "        import pandas as pd\n",
            "        import numpy as np\n",
            "\n",
            "\n",
            "        data_url = \"http://lib.stat.cmu.edu/datasets/boston\"\n",
            "        raw_df = pd.read_csv(data_url, sep=\"\\s+\", skiprows=22, header=None)\n",
            "        data = np.hstack([raw_df.values[::2, :], raw_df.values[1::2, :2]])\n",
            "        target = raw_df.values[1::2, 2]\n",
            "\n",
            "    Alternative datasets include the California housing dataset (i.e.\n",
            "    :func:`~sklearn.datasets.fetch_california_housing`) and the Ames housing\n",
            "    dataset. You can load the datasets as follows::\n",
            "\n",
            "        from sklearn.datasets import fetch_california_housing\n",
            "        housing = fetch_california_housing()\n",
            "\n",
            "    for the California housing dataset and::\n",
            "\n",
            "        from sklearn.datasets import fetch_openml\n",
            "        housing = fetch_openml(name=\"house_prices\", as_frame=True)\n",
            "\n",
            "    for the Ames housing dataset.\n",
            "    \n",
            "  warnings.warn(msg, category=FutureWarning)\n"
          ]
        }
      ]
    },
    {
      "cell_type": "markdown",
      "source": [
        "## Загрузим датасет"
      ],
      "metadata": {
        "id": "riQ6gvJ9x89_"
      }
    },
    {
      "cell_type": "code",
      "source": [
        "df = pd.DataFrame(data=boston_data.data, columns = boston_data.feature_names)"
      ],
      "metadata": {
        "id": "IsLI7c1OBifX"
      },
      "execution_count": 4,
      "outputs": []
    },
    {
      "cell_type": "code",
      "source": [
        "df['target'] = boston_data.target\n",
        "df.head()"
      ],
      "metadata": {
        "colab": {
          "base_uri": "https://localhost:8080/",
          "height": 206
        },
        "id": "2MT7pI7UBihq",
        "outputId": "2f5728d8-9695-446a-de83-bffa3f8f316e"
      },
      "execution_count": 5,
      "outputs": [
        {
          "output_type": "execute_result",
          "data": {
            "text/html": [
              "\n",
              "  <div id=\"df-0aee74e5-f137-462e-8551-b565484d208e\">\n",
              "    <div class=\"colab-df-container\">\n",
              "      <div>\n",
              "<style scoped>\n",
              "    .dataframe tbody tr th:only-of-type {\n",
              "        vertical-align: middle;\n",
              "    }\n",
              "\n",
              "    .dataframe tbody tr th {\n",
              "        vertical-align: top;\n",
              "    }\n",
              "\n",
              "    .dataframe thead th {\n",
              "        text-align: right;\n",
              "    }\n",
              "</style>\n",
              "<table border=\"1\" class=\"dataframe\">\n",
              "  <thead>\n",
              "    <tr style=\"text-align: right;\">\n",
              "      <th></th>\n",
              "      <th>CRIM</th>\n",
              "      <th>ZN</th>\n",
              "      <th>INDUS</th>\n",
              "      <th>CHAS</th>\n",
              "      <th>NOX</th>\n",
              "      <th>RM</th>\n",
              "      <th>AGE</th>\n",
              "      <th>DIS</th>\n",
              "      <th>RAD</th>\n",
              "      <th>TAX</th>\n",
              "      <th>PTRATIO</th>\n",
              "      <th>B</th>\n",
              "      <th>LSTAT</th>\n",
              "      <th>target</th>\n",
              "    </tr>\n",
              "  </thead>\n",
              "  <tbody>\n",
              "    <tr>\n",
              "      <th>0</th>\n",
              "      <td>0.00632</td>\n",
              "      <td>18.0</td>\n",
              "      <td>2.31</td>\n",
              "      <td>0.0</td>\n",
              "      <td>0.538</td>\n",
              "      <td>6.575</td>\n",
              "      <td>65.2</td>\n",
              "      <td>4.0900</td>\n",
              "      <td>1.0</td>\n",
              "      <td>296.0</td>\n",
              "      <td>15.3</td>\n",
              "      <td>396.90</td>\n",
              "      <td>4.98</td>\n",
              "      <td>24.0</td>\n",
              "    </tr>\n",
              "    <tr>\n",
              "      <th>1</th>\n",
              "      <td>0.02731</td>\n",
              "      <td>0.0</td>\n",
              "      <td>7.07</td>\n",
              "      <td>0.0</td>\n",
              "      <td>0.469</td>\n",
              "      <td>6.421</td>\n",
              "      <td>78.9</td>\n",
              "      <td>4.9671</td>\n",
              "      <td>2.0</td>\n",
              "      <td>242.0</td>\n",
              "      <td>17.8</td>\n",
              "      <td>396.90</td>\n",
              "      <td>9.14</td>\n",
              "      <td>21.6</td>\n",
              "    </tr>\n",
              "    <tr>\n",
              "      <th>2</th>\n",
              "      <td>0.02729</td>\n",
              "      <td>0.0</td>\n",
              "      <td>7.07</td>\n",
              "      <td>0.0</td>\n",
              "      <td>0.469</td>\n",
              "      <td>7.185</td>\n",
              "      <td>61.1</td>\n",
              "      <td>4.9671</td>\n",
              "      <td>2.0</td>\n",
              "      <td>242.0</td>\n",
              "      <td>17.8</td>\n",
              "      <td>392.83</td>\n",
              "      <td>4.03</td>\n",
              "      <td>34.7</td>\n",
              "    </tr>\n",
              "    <tr>\n",
              "      <th>3</th>\n",
              "      <td>0.03237</td>\n",
              "      <td>0.0</td>\n",
              "      <td>2.18</td>\n",
              "      <td>0.0</td>\n",
              "      <td>0.458</td>\n",
              "      <td>6.998</td>\n",
              "      <td>45.8</td>\n",
              "      <td>6.0622</td>\n",
              "      <td>3.0</td>\n",
              "      <td>222.0</td>\n",
              "      <td>18.7</td>\n",
              "      <td>394.63</td>\n",
              "      <td>2.94</td>\n",
              "      <td>33.4</td>\n",
              "    </tr>\n",
              "    <tr>\n",
              "      <th>4</th>\n",
              "      <td>0.06905</td>\n",
              "      <td>0.0</td>\n",
              "      <td>2.18</td>\n",
              "      <td>0.0</td>\n",
              "      <td>0.458</td>\n",
              "      <td>7.147</td>\n",
              "      <td>54.2</td>\n",
              "      <td>6.0622</td>\n",
              "      <td>3.0</td>\n",
              "      <td>222.0</td>\n",
              "      <td>18.7</td>\n",
              "      <td>396.90</td>\n",
              "      <td>5.33</td>\n",
              "      <td>36.2</td>\n",
              "    </tr>\n",
              "  </tbody>\n",
              "</table>\n",
              "</div>\n",
              "      <button class=\"colab-df-convert\" onclick=\"convertToInteractive('df-0aee74e5-f137-462e-8551-b565484d208e')\"\n",
              "              title=\"Convert this dataframe to an interactive table.\"\n",
              "              style=\"display:none;\">\n",
              "        \n",
              "  <svg xmlns=\"http://www.w3.org/2000/svg\" height=\"24px\"viewBox=\"0 0 24 24\"\n",
              "       width=\"24px\">\n",
              "    <path d=\"M0 0h24v24H0V0z\" fill=\"none\"/>\n",
              "    <path d=\"M18.56 5.44l.94 2.06.94-2.06 2.06-.94-2.06-.94-.94-2.06-.94 2.06-2.06.94zm-11 1L8.5 8.5l.94-2.06 2.06-.94-2.06-.94L8.5 2.5l-.94 2.06-2.06.94zm10 10l.94 2.06.94-2.06 2.06-.94-2.06-.94-.94-2.06-.94 2.06-2.06.94z\"/><path d=\"M17.41 7.96l-1.37-1.37c-.4-.4-.92-.59-1.43-.59-.52 0-1.04.2-1.43.59L10.3 9.45l-7.72 7.72c-.78.78-.78 2.05 0 2.83L4 21.41c.39.39.9.59 1.41.59.51 0 1.02-.2 1.41-.59l7.78-7.78 2.81-2.81c.8-.78.8-2.07 0-2.86zM5.41 20L4 18.59l7.72-7.72 1.47 1.35L5.41 20z\"/>\n",
              "  </svg>\n",
              "      </button>\n",
              "      \n",
              "  <style>\n",
              "    .colab-df-container {\n",
              "      display:flex;\n",
              "      flex-wrap:wrap;\n",
              "      gap: 12px;\n",
              "    }\n",
              "\n",
              "    .colab-df-convert {\n",
              "      background-color: #E8F0FE;\n",
              "      border: none;\n",
              "      border-radius: 50%;\n",
              "      cursor: pointer;\n",
              "      display: none;\n",
              "      fill: #1967D2;\n",
              "      height: 32px;\n",
              "      padding: 0 0 0 0;\n",
              "      width: 32px;\n",
              "    }\n",
              "\n",
              "    .colab-df-convert:hover {\n",
              "      background-color: #E2EBFA;\n",
              "      box-shadow: 0px 1px 2px rgba(60, 64, 67, 0.3), 0px 1px 3px 1px rgba(60, 64, 67, 0.15);\n",
              "      fill: #174EA6;\n",
              "    }\n",
              "\n",
              "    [theme=dark] .colab-df-convert {\n",
              "      background-color: #3B4455;\n",
              "      fill: #D2E3FC;\n",
              "    }\n",
              "\n",
              "    [theme=dark] .colab-df-convert:hover {\n",
              "      background-color: #434B5C;\n",
              "      box-shadow: 0px 1px 3px 1px rgba(0, 0, 0, 0.15);\n",
              "      filter: drop-shadow(0px 1px 2px rgba(0, 0, 0, 0.3));\n",
              "      fill: #FFFFFF;\n",
              "    }\n",
              "  </style>\n",
              "\n",
              "      <script>\n",
              "        const buttonEl =\n",
              "          document.querySelector('#df-0aee74e5-f137-462e-8551-b565484d208e button.colab-df-convert');\n",
              "        buttonEl.style.display =\n",
              "          google.colab.kernel.accessAllowed ? 'block' : 'none';\n",
              "\n",
              "        async function convertToInteractive(key) {\n",
              "          const element = document.querySelector('#df-0aee74e5-f137-462e-8551-b565484d208e');\n",
              "          const dataTable =\n",
              "            await google.colab.kernel.invokeFunction('convertToInteractive',\n",
              "                                                     [key], {});\n",
              "          if (!dataTable) return;\n",
              "\n",
              "          const docLinkHtml = 'Like what you see? Visit the ' +\n",
              "            '<a target=\"_blank\" href=https://colab.research.google.com/notebooks/data_table.ipynb>data table notebook</a>'\n",
              "            + ' to learn more about interactive tables.';\n",
              "          element.innerHTML = '';\n",
              "          dataTable['output_type'] = 'display_data';\n",
              "          await google.colab.output.renderOutput(dataTable, element);\n",
              "          const docLink = document.createElement('div');\n",
              "          docLink.innerHTML = docLinkHtml;\n",
              "          element.appendChild(docLink);\n",
              "        }\n",
              "      </script>\n",
              "    </div>\n",
              "  </div>\n",
              "  "
            ],
            "text/plain": [
              "      CRIM    ZN  INDUS  CHAS    NOX  ...    TAX  PTRATIO       B  LSTAT  target\n",
              "0  0.00632  18.0   2.31   0.0  0.538  ...  296.0     15.3  396.90   4.98    24.0\n",
              "1  0.02731   0.0   7.07   0.0  0.469  ...  242.0     17.8  396.90   9.14    21.6\n",
              "2  0.02729   0.0   7.07   0.0  0.469  ...  242.0     17.8  392.83   4.03    34.7\n",
              "3  0.03237   0.0   2.18   0.0  0.458  ...  222.0     18.7  394.63   2.94    33.4\n",
              "4  0.06905   0.0   2.18   0.0  0.458  ...  222.0     18.7  396.90   5.33    36.2\n",
              "\n",
              "[5 rows x 14 columns]"
            ]
          },
          "metadata": {},
          "execution_count": 5
        }
      ]
    },
    {
      "cell_type": "markdown",
      "source": [
        "## Нормализуем признаки"
      ],
      "metadata": {
        "id": "gKGUTvk4yEaf"
      }
    },
    {
      "cell_type": "code",
      "source": [
        "from sklearn import preprocessing\n",
        "import pandas as pd\n",
        "\n",
        "d = preprocessing.normalize(df.drop(columns='target'))\n",
        "\n",
        "scaled_df = pd.DataFrame(d, columns=boston_data.feature_names)\n",
        "scaled_df.head()"
      ],
      "metadata": {
        "colab": {
          "base_uri": "https://localhost:8080/",
          "height": 206
        },
        "id": "U1pLIYuyIBh_",
        "outputId": "c8126a70-db43-47ba-f069-9b0e42ad62b4"
      },
      "execution_count": 6,
      "outputs": [
        {
          "output_type": "execute_result",
          "data": {
            "text/html": [
              "\n",
              "  <div id=\"df-92eb04d8-f187-43cb-b7c5-aa158b3230e3\">\n",
              "    <div class=\"colab-df-container\">\n",
              "      <div>\n",
              "<style scoped>\n",
              "    .dataframe tbody tr th:only-of-type {\n",
              "        vertical-align: middle;\n",
              "    }\n",
              "\n",
              "    .dataframe tbody tr th {\n",
              "        vertical-align: top;\n",
              "    }\n",
              "\n",
              "    .dataframe thead th {\n",
              "        text-align: right;\n",
              "    }\n",
              "</style>\n",
              "<table border=\"1\" class=\"dataframe\">\n",
              "  <thead>\n",
              "    <tr style=\"text-align: right;\">\n",
              "      <th></th>\n",
              "      <th>CRIM</th>\n",
              "      <th>ZN</th>\n",
              "      <th>INDUS</th>\n",
              "      <th>CHAS</th>\n",
              "      <th>NOX</th>\n",
              "      <th>RM</th>\n",
              "      <th>AGE</th>\n",
              "      <th>DIS</th>\n",
              "      <th>RAD</th>\n",
              "      <th>TAX</th>\n",
              "      <th>PTRATIO</th>\n",
              "      <th>B</th>\n",
              "      <th>LSTAT</th>\n",
              "    </tr>\n",
              "  </thead>\n",
              "  <tbody>\n",
              "    <tr>\n",
              "      <th>0</th>\n",
              "      <td>0.000013</td>\n",
              "      <td>0.035997</td>\n",
              "      <td>0.004620</td>\n",
              "      <td>0.0</td>\n",
              "      <td>0.001076</td>\n",
              "      <td>0.013149</td>\n",
              "      <td>0.130388</td>\n",
              "      <td>0.008179</td>\n",
              "      <td>0.002000</td>\n",
              "      <td>0.591945</td>\n",
              "      <td>0.030597</td>\n",
              "      <td>0.793727</td>\n",
              "      <td>0.009959</td>\n",
              "    </tr>\n",
              "    <tr>\n",
              "      <th>1</th>\n",
              "      <td>0.000058</td>\n",
              "      <td>0.000000</td>\n",
              "      <td>0.014977</td>\n",
              "      <td>0.0</td>\n",
              "      <td>0.000994</td>\n",
              "      <td>0.013602</td>\n",
              "      <td>0.167140</td>\n",
              "      <td>0.010522</td>\n",
              "      <td>0.004237</td>\n",
              "      <td>0.512648</td>\n",
              "      <td>0.037707</td>\n",
              "      <td>0.840785</td>\n",
              "      <td>0.019362</td>\n",
              "    </tr>\n",
              "    <tr>\n",
              "      <th>2</th>\n",
              "      <td>0.000059</td>\n",
              "      <td>0.000000</td>\n",
              "      <td>0.015174</td>\n",
              "      <td>0.0</td>\n",
              "      <td>0.001007</td>\n",
              "      <td>0.015421</td>\n",
              "      <td>0.131140</td>\n",
              "      <td>0.010661</td>\n",
              "      <td>0.004293</td>\n",
              "      <td>0.519409</td>\n",
              "      <td>0.038204</td>\n",
              "      <td>0.843138</td>\n",
              "      <td>0.008650</td>\n",
              "    </tr>\n",
              "    <tr>\n",
              "      <th>3</th>\n",
              "      <td>0.000071</td>\n",
              "      <td>0.000000</td>\n",
              "      <td>0.004785</td>\n",
              "      <td>0.0</td>\n",
              "      <td>0.001005</td>\n",
              "      <td>0.015360</td>\n",
              "      <td>0.100527</td>\n",
              "      <td>0.013306</td>\n",
              "      <td>0.006585</td>\n",
              "      <td>0.487268</td>\n",
              "      <td>0.041045</td>\n",
              "      <td>0.866174</td>\n",
              "      <td>0.006453</td>\n",
              "    </tr>\n",
              "    <tr>\n",
              "      <th>4</th>\n",
              "      <td>0.000151</td>\n",
              "      <td>0.000000</td>\n",
              "      <td>0.004755</td>\n",
              "      <td>0.0</td>\n",
              "      <td>0.000999</td>\n",
              "      <td>0.015587</td>\n",
              "      <td>0.118209</td>\n",
              "      <td>0.013222</td>\n",
              "      <td>0.006543</td>\n",
              "      <td>0.484177</td>\n",
              "      <td>0.040784</td>\n",
              "      <td>0.865631</td>\n",
              "      <td>0.011625</td>\n",
              "    </tr>\n",
              "  </tbody>\n",
              "</table>\n",
              "</div>\n",
              "      <button class=\"colab-df-convert\" onclick=\"convertToInteractive('df-92eb04d8-f187-43cb-b7c5-aa158b3230e3')\"\n",
              "              title=\"Convert this dataframe to an interactive table.\"\n",
              "              style=\"display:none;\">\n",
              "        \n",
              "  <svg xmlns=\"http://www.w3.org/2000/svg\" height=\"24px\"viewBox=\"0 0 24 24\"\n",
              "       width=\"24px\">\n",
              "    <path d=\"M0 0h24v24H0V0z\" fill=\"none\"/>\n",
              "    <path d=\"M18.56 5.44l.94 2.06.94-2.06 2.06-.94-2.06-.94-.94-2.06-.94 2.06-2.06.94zm-11 1L8.5 8.5l.94-2.06 2.06-.94-2.06-.94L8.5 2.5l-.94 2.06-2.06.94zm10 10l.94 2.06.94-2.06 2.06-.94-2.06-.94-.94-2.06-.94 2.06-2.06.94z\"/><path d=\"M17.41 7.96l-1.37-1.37c-.4-.4-.92-.59-1.43-.59-.52 0-1.04.2-1.43.59L10.3 9.45l-7.72 7.72c-.78.78-.78 2.05 0 2.83L4 21.41c.39.39.9.59 1.41.59.51 0 1.02-.2 1.41-.59l7.78-7.78 2.81-2.81c.8-.78.8-2.07 0-2.86zM5.41 20L4 18.59l7.72-7.72 1.47 1.35L5.41 20z\"/>\n",
              "  </svg>\n",
              "      </button>\n",
              "      \n",
              "  <style>\n",
              "    .colab-df-container {\n",
              "      display:flex;\n",
              "      flex-wrap:wrap;\n",
              "      gap: 12px;\n",
              "    }\n",
              "\n",
              "    .colab-df-convert {\n",
              "      background-color: #E8F0FE;\n",
              "      border: none;\n",
              "      border-radius: 50%;\n",
              "      cursor: pointer;\n",
              "      display: none;\n",
              "      fill: #1967D2;\n",
              "      height: 32px;\n",
              "      padding: 0 0 0 0;\n",
              "      width: 32px;\n",
              "    }\n",
              "\n",
              "    .colab-df-convert:hover {\n",
              "      background-color: #E2EBFA;\n",
              "      box-shadow: 0px 1px 2px rgba(60, 64, 67, 0.3), 0px 1px 3px 1px rgba(60, 64, 67, 0.15);\n",
              "      fill: #174EA6;\n",
              "    }\n",
              "\n",
              "    [theme=dark] .colab-df-convert {\n",
              "      background-color: #3B4455;\n",
              "      fill: #D2E3FC;\n",
              "    }\n",
              "\n",
              "    [theme=dark] .colab-df-convert:hover {\n",
              "      background-color: #434B5C;\n",
              "      box-shadow: 0px 1px 3px 1px rgba(0, 0, 0, 0.15);\n",
              "      filter: drop-shadow(0px 1px 2px rgba(0, 0, 0, 0.3));\n",
              "      fill: #FFFFFF;\n",
              "    }\n",
              "  </style>\n",
              "\n",
              "      <script>\n",
              "        const buttonEl =\n",
              "          document.querySelector('#df-92eb04d8-f187-43cb-b7c5-aa158b3230e3 button.colab-df-convert');\n",
              "        buttonEl.style.display =\n",
              "          google.colab.kernel.accessAllowed ? 'block' : 'none';\n",
              "\n",
              "        async function convertToInteractive(key) {\n",
              "          const element = document.querySelector('#df-92eb04d8-f187-43cb-b7c5-aa158b3230e3');\n",
              "          const dataTable =\n",
              "            await google.colab.kernel.invokeFunction('convertToInteractive',\n",
              "                                                     [key], {});\n",
              "          if (!dataTable) return;\n",
              "\n",
              "          const docLinkHtml = 'Like what you see? Visit the ' +\n",
              "            '<a target=\"_blank\" href=https://colab.research.google.com/notebooks/data_table.ipynb>data table notebook</a>'\n",
              "            + ' to learn more about interactive tables.';\n",
              "          element.innerHTML = '';\n",
              "          dataTable['output_type'] = 'display_data';\n",
              "          await google.colab.output.renderOutput(dataTable, element);\n",
              "          const docLink = document.createElement('div');\n",
              "          docLink.innerHTML = docLinkHtml;\n",
              "          element.appendChild(docLink);\n",
              "        }\n",
              "      </script>\n",
              "    </div>\n",
              "  </div>\n",
              "  "
            ],
            "text/plain": [
              "       CRIM        ZN     INDUS  CHAS  ...       TAX   PTRATIO         B     LSTAT\n",
              "0  0.000013  0.035997  0.004620   0.0  ...  0.591945  0.030597  0.793727  0.009959\n",
              "1  0.000058  0.000000  0.014977   0.0  ...  0.512648  0.037707  0.840785  0.019362\n",
              "2  0.000059  0.000000  0.015174   0.0  ...  0.519409  0.038204  0.843138  0.008650\n",
              "3  0.000071  0.000000  0.004785   0.0  ...  0.487268  0.041045  0.866174  0.006453\n",
              "4  0.000151  0.000000  0.004755   0.0  ...  0.484177  0.040784  0.865631  0.011625\n",
              "\n",
              "[5 rows x 13 columns]"
            ]
          },
          "metadata": {},
          "execution_count": 6
        }
      ]
    },
    {
      "cell_type": "code",
      "source": [
        "scaled_df['target'] = df['target']\n",
        "scaled_df.head()"
      ],
      "metadata": {
        "colab": {
          "base_uri": "https://localhost:8080/",
          "height": 206
        },
        "id": "7p48F2w9LjJ4",
        "outputId": "e14a24b0-fcf6-4b51-837c-1dfacb1b0db0"
      },
      "execution_count": 7,
      "outputs": [
        {
          "output_type": "execute_result",
          "data": {
            "text/html": [
              "\n",
              "  <div id=\"df-c2dda19c-423c-4bc0-a3c3-4b429e8305cf\">\n",
              "    <div class=\"colab-df-container\">\n",
              "      <div>\n",
              "<style scoped>\n",
              "    .dataframe tbody tr th:only-of-type {\n",
              "        vertical-align: middle;\n",
              "    }\n",
              "\n",
              "    .dataframe tbody tr th {\n",
              "        vertical-align: top;\n",
              "    }\n",
              "\n",
              "    .dataframe thead th {\n",
              "        text-align: right;\n",
              "    }\n",
              "</style>\n",
              "<table border=\"1\" class=\"dataframe\">\n",
              "  <thead>\n",
              "    <tr style=\"text-align: right;\">\n",
              "      <th></th>\n",
              "      <th>CRIM</th>\n",
              "      <th>ZN</th>\n",
              "      <th>INDUS</th>\n",
              "      <th>CHAS</th>\n",
              "      <th>NOX</th>\n",
              "      <th>RM</th>\n",
              "      <th>AGE</th>\n",
              "      <th>DIS</th>\n",
              "      <th>RAD</th>\n",
              "      <th>TAX</th>\n",
              "      <th>PTRATIO</th>\n",
              "      <th>B</th>\n",
              "      <th>LSTAT</th>\n",
              "      <th>target</th>\n",
              "    </tr>\n",
              "  </thead>\n",
              "  <tbody>\n",
              "    <tr>\n",
              "      <th>0</th>\n",
              "      <td>0.000013</td>\n",
              "      <td>0.035997</td>\n",
              "      <td>0.004620</td>\n",
              "      <td>0.0</td>\n",
              "      <td>0.001076</td>\n",
              "      <td>0.013149</td>\n",
              "      <td>0.130388</td>\n",
              "      <td>0.008179</td>\n",
              "      <td>0.002000</td>\n",
              "      <td>0.591945</td>\n",
              "      <td>0.030597</td>\n",
              "      <td>0.793727</td>\n",
              "      <td>0.009959</td>\n",
              "      <td>24.0</td>\n",
              "    </tr>\n",
              "    <tr>\n",
              "      <th>1</th>\n",
              "      <td>0.000058</td>\n",
              "      <td>0.000000</td>\n",
              "      <td>0.014977</td>\n",
              "      <td>0.0</td>\n",
              "      <td>0.000994</td>\n",
              "      <td>0.013602</td>\n",
              "      <td>0.167140</td>\n",
              "      <td>0.010522</td>\n",
              "      <td>0.004237</td>\n",
              "      <td>0.512648</td>\n",
              "      <td>0.037707</td>\n",
              "      <td>0.840785</td>\n",
              "      <td>0.019362</td>\n",
              "      <td>21.6</td>\n",
              "    </tr>\n",
              "    <tr>\n",
              "      <th>2</th>\n",
              "      <td>0.000059</td>\n",
              "      <td>0.000000</td>\n",
              "      <td>0.015174</td>\n",
              "      <td>0.0</td>\n",
              "      <td>0.001007</td>\n",
              "      <td>0.015421</td>\n",
              "      <td>0.131140</td>\n",
              "      <td>0.010661</td>\n",
              "      <td>0.004293</td>\n",
              "      <td>0.519409</td>\n",
              "      <td>0.038204</td>\n",
              "      <td>0.843138</td>\n",
              "      <td>0.008650</td>\n",
              "      <td>34.7</td>\n",
              "    </tr>\n",
              "    <tr>\n",
              "      <th>3</th>\n",
              "      <td>0.000071</td>\n",
              "      <td>0.000000</td>\n",
              "      <td>0.004785</td>\n",
              "      <td>0.0</td>\n",
              "      <td>0.001005</td>\n",
              "      <td>0.015360</td>\n",
              "      <td>0.100527</td>\n",
              "      <td>0.013306</td>\n",
              "      <td>0.006585</td>\n",
              "      <td>0.487268</td>\n",
              "      <td>0.041045</td>\n",
              "      <td>0.866174</td>\n",
              "      <td>0.006453</td>\n",
              "      <td>33.4</td>\n",
              "    </tr>\n",
              "    <tr>\n",
              "      <th>4</th>\n",
              "      <td>0.000151</td>\n",
              "      <td>0.000000</td>\n",
              "      <td>0.004755</td>\n",
              "      <td>0.0</td>\n",
              "      <td>0.000999</td>\n",
              "      <td>0.015587</td>\n",
              "      <td>0.118209</td>\n",
              "      <td>0.013222</td>\n",
              "      <td>0.006543</td>\n",
              "      <td>0.484177</td>\n",
              "      <td>0.040784</td>\n",
              "      <td>0.865631</td>\n",
              "      <td>0.011625</td>\n",
              "      <td>36.2</td>\n",
              "    </tr>\n",
              "  </tbody>\n",
              "</table>\n",
              "</div>\n",
              "      <button class=\"colab-df-convert\" onclick=\"convertToInteractive('df-c2dda19c-423c-4bc0-a3c3-4b429e8305cf')\"\n",
              "              title=\"Convert this dataframe to an interactive table.\"\n",
              "              style=\"display:none;\">\n",
              "        \n",
              "  <svg xmlns=\"http://www.w3.org/2000/svg\" height=\"24px\"viewBox=\"0 0 24 24\"\n",
              "       width=\"24px\">\n",
              "    <path d=\"M0 0h24v24H0V0z\" fill=\"none\"/>\n",
              "    <path d=\"M18.56 5.44l.94 2.06.94-2.06 2.06-.94-2.06-.94-.94-2.06-.94 2.06-2.06.94zm-11 1L8.5 8.5l.94-2.06 2.06-.94-2.06-.94L8.5 2.5l-.94 2.06-2.06.94zm10 10l.94 2.06.94-2.06 2.06-.94-2.06-.94-.94-2.06-.94 2.06-2.06.94z\"/><path d=\"M17.41 7.96l-1.37-1.37c-.4-.4-.92-.59-1.43-.59-.52 0-1.04.2-1.43.59L10.3 9.45l-7.72 7.72c-.78.78-.78 2.05 0 2.83L4 21.41c.39.39.9.59 1.41.59.51 0 1.02-.2 1.41-.59l7.78-7.78 2.81-2.81c.8-.78.8-2.07 0-2.86zM5.41 20L4 18.59l7.72-7.72 1.47 1.35L5.41 20z\"/>\n",
              "  </svg>\n",
              "      </button>\n",
              "      \n",
              "  <style>\n",
              "    .colab-df-container {\n",
              "      display:flex;\n",
              "      flex-wrap:wrap;\n",
              "      gap: 12px;\n",
              "    }\n",
              "\n",
              "    .colab-df-convert {\n",
              "      background-color: #E8F0FE;\n",
              "      border: none;\n",
              "      border-radius: 50%;\n",
              "      cursor: pointer;\n",
              "      display: none;\n",
              "      fill: #1967D2;\n",
              "      height: 32px;\n",
              "      padding: 0 0 0 0;\n",
              "      width: 32px;\n",
              "    }\n",
              "\n",
              "    .colab-df-convert:hover {\n",
              "      background-color: #E2EBFA;\n",
              "      box-shadow: 0px 1px 2px rgba(60, 64, 67, 0.3), 0px 1px 3px 1px rgba(60, 64, 67, 0.15);\n",
              "      fill: #174EA6;\n",
              "    }\n",
              "\n",
              "    [theme=dark] .colab-df-convert {\n",
              "      background-color: #3B4455;\n",
              "      fill: #D2E3FC;\n",
              "    }\n",
              "\n",
              "    [theme=dark] .colab-df-convert:hover {\n",
              "      background-color: #434B5C;\n",
              "      box-shadow: 0px 1px 3px 1px rgba(0, 0, 0, 0.15);\n",
              "      filter: drop-shadow(0px 1px 2px rgba(0, 0, 0, 0.3));\n",
              "      fill: #FFFFFF;\n",
              "    }\n",
              "  </style>\n",
              "\n",
              "      <script>\n",
              "        const buttonEl =\n",
              "          document.querySelector('#df-c2dda19c-423c-4bc0-a3c3-4b429e8305cf button.colab-df-convert');\n",
              "        buttonEl.style.display =\n",
              "          google.colab.kernel.accessAllowed ? 'block' : 'none';\n",
              "\n",
              "        async function convertToInteractive(key) {\n",
              "          const element = document.querySelector('#df-c2dda19c-423c-4bc0-a3c3-4b429e8305cf');\n",
              "          const dataTable =\n",
              "            await google.colab.kernel.invokeFunction('convertToInteractive',\n",
              "                                                     [key], {});\n",
              "          if (!dataTable) return;\n",
              "\n",
              "          const docLinkHtml = 'Like what you see? Visit the ' +\n",
              "            '<a target=\"_blank\" href=https://colab.research.google.com/notebooks/data_table.ipynb>data table notebook</a>'\n",
              "            + ' to learn more about interactive tables.';\n",
              "          element.innerHTML = '';\n",
              "          dataTable['output_type'] = 'display_data';\n",
              "          await google.colab.output.renderOutput(dataTable, element);\n",
              "          const docLink = document.createElement('div');\n",
              "          docLink.innerHTML = docLinkHtml;\n",
              "          element.appendChild(docLink);\n",
              "        }\n",
              "      </script>\n",
              "    </div>\n",
              "  </div>\n",
              "  "
            ],
            "text/plain": [
              "       CRIM        ZN     INDUS  CHAS  ...   PTRATIO         B     LSTAT  target\n",
              "0  0.000013  0.035997  0.004620   0.0  ...  0.030597  0.793727  0.009959    24.0\n",
              "1  0.000058  0.000000  0.014977   0.0  ...  0.037707  0.840785  0.019362    21.6\n",
              "2  0.000059  0.000000  0.015174   0.0  ...  0.038204  0.843138  0.008650    34.7\n",
              "3  0.000071  0.000000  0.004785   0.0  ...  0.041045  0.866174  0.006453    33.4\n",
              "4  0.000151  0.000000  0.004755   0.0  ...  0.040784  0.865631  0.011625    36.2\n",
              "\n",
              "[5 rows x 14 columns]"
            ]
          },
          "metadata": {},
          "execution_count": 7
        }
      ]
    },
    {
      "cell_type": "markdown",
      "source": [
        "## Бьем датасет на train, test"
      ],
      "metadata": {
        "id": "WFSSSLYUyVNr"
      }
    },
    {
      "cell_type": "code",
      "source": [
        "from sklearn.model_selection import train_test_split\n",
        "X_train, X_test, y_train, y_test = train_test_split(scaled_df.drop(columns='target'), scaled_df['target'], test_size=0.3, random_state=42)"
      ],
      "metadata": {
        "id": "O2QzuaIcFrNN"
      },
      "execution_count": 8,
      "outputs": []
    },
    {
      "cell_type": "code",
      "source": [
        "X_train.shape, X_test.shape, y_train.shape, y_test.shape "
      ],
      "metadata": {
        "colab": {
          "base_uri": "https://localhost:8080/"
        },
        "id": "HpkoNd5vIsm9",
        "outputId": "834f8793-48ab-4f3f-f89b-0af062786672"
      },
      "execution_count": 9,
      "outputs": [
        {
          "output_type": "execute_result",
          "data": {
            "text/plain": [
              "((354, 13), (152, 13), (354,), (152,))"
            ]
          },
          "metadata": {},
          "execution_count": 9
        }
      ]
    },
    {
      "cell_type": "markdown",
      "source": [
        "## Переводим данные в векторное представление"
      ],
      "metadata": {
        "id": "YvcJUuu5ygRv"
      }
    },
    {
      "cell_type": "code",
      "source": [
        "X_train = np.array(X_train)\n",
        "X_test = np.array(X_test)\n",
        "y_train = np.array(y_train)\n",
        "y_test = np.array(y_test)"
      ],
      "metadata": {
        "id": "YRPNH8PnMSOX"
      },
      "execution_count": 10,
      "outputs": []
    },
    {
      "cell_type": "markdown",
      "source": [
        "Строим 1-ю модель из 3-х слоев"
      ],
      "metadata": {
        "id": "sxtXjAm9zHu3"
      }
    },
    {
      "cell_type": "code",
      "source": [
        "model_1 = Sequential([\n",
        "    Dense(64, activation='relu', input_shape=(13,)),\n",
        "    Dense(32, activation='linear'),\n",
        "    Dense(1, activation='relu')\n",
        "])\n",
        "\n",
        "model_1.compile(optimizer='adam',\n",
        "              loss='mse',\n",
        "              metrics=['mse'])\n",
        "\n",
        "model_1.summary()"
      ],
      "metadata": {
        "colab": {
          "base_uri": "https://localhost:8080/"
        },
        "id": "mWJqnqkSBij-",
        "outputId": "fe4c1d25-52ec-4b84-c167-04560b0f1c3a"
      },
      "execution_count": 11,
      "outputs": [
        {
          "output_type": "stream",
          "name": "stdout",
          "text": [
            "Model: \"sequential\"\n",
            "_________________________________________________________________\n",
            " Layer (type)                Output Shape              Param #   \n",
            "=================================================================\n",
            " dense (Dense)               (None, 64)                896       \n",
            "                                                                 \n",
            " dense_1 (Dense)             (None, 32)                2080      \n",
            "                                                                 \n",
            " dense_2 (Dense)             (None, 1)                 33        \n",
            "                                                                 \n",
            "=================================================================\n",
            "Total params: 3,009\n",
            "Trainable params: 3,009\n",
            "Non-trainable params: 0\n",
            "_________________________________________________________________\n"
          ]
        }
      ]
    },
    {
      "cell_type": "markdown",
      "source": [
        "## Обучаем и контролируем метрики"
      ],
      "metadata": {
        "id": "ZUNZBKx_zTiS"
      }
    },
    {
      "cell_type": "code",
      "source": [
        "history = model_1.fit(X_train, y_train,\n",
        "                    epochs=25,\n",
        "                    #batch_size=24,\n",
        "                    validation_data=(X_test, y_test))"
      ],
      "metadata": {
        "colab": {
          "base_uri": "https://localhost:8080/"
        },
        "id": "vN9FTc9DJHBe",
        "outputId": "3404cc37-e372-4fad-a784-73fe023fad31"
      },
      "execution_count": 12,
      "outputs": [
        {
          "output_type": "stream",
          "name": "stdout",
          "text": [
            "Epoch 1/25\n",
            "12/12 [==============================] - 1s 42ms/step - loss: 600.6252 - mse: 600.6252 - val_loss: 501.5468 - val_mse: 501.5468\n",
            "Epoch 2/25\n",
            "12/12 [==============================] - 0s 15ms/step - loss: 570.3975 - mse: 570.3975 - val_loss: 471.1134 - val_mse: 471.1134\n",
            "Epoch 3/25\n",
            "12/12 [==============================] - 0s 14ms/step - loss: 534.4468 - mse: 534.4468 - val_loss: 431.3537 - val_mse: 431.3537\n",
            "Epoch 4/25\n",
            "12/12 [==============================] - 0s 15ms/step - loss: 485.1467 - mse: 485.1467 - val_loss: 378.2390 - val_mse: 378.2390\n",
            "Epoch 5/25\n",
            "12/12 [==============================] - 0s 13ms/step - loss: 420.2080 - mse: 420.2080 - val_loss: 310.9377 - val_mse: 310.9377\n",
            "Epoch 6/25\n",
            "12/12 [==============================] - 0s 13ms/step - loss: 339.2350 - mse: 339.2350 - val_loss: 232.2977 - val_mse: 232.2977\n",
            "Epoch 7/25\n",
            "12/12 [==============================] - 0s 10ms/step - loss: 250.0675 - mse: 250.0675 - val_loss: 156.4886 - val_mse: 156.4886\n",
            "Epoch 8/25\n",
            "12/12 [==============================] - 0s 11ms/step - loss: 169.6688 - mse: 169.6688 - val_loss: 100.5056 - val_mse: 100.5056\n",
            "Epoch 9/25\n",
            "12/12 [==============================] - 0s 12ms/step - loss: 114.5545 - mse: 114.5545 - val_loss: 74.9547 - val_mse: 74.9547\n",
            "Epoch 10/25\n",
            "12/12 [==============================] - 0s 20ms/step - loss: 89.7655 - mse: 89.7655 - val_loss: 72.4572 - val_mse: 72.4572\n",
            "Epoch 11/25\n",
            "12/12 [==============================] - 0s 15ms/step - loss: 85.0652 - mse: 85.0652 - val_loss: 74.5465 - val_mse: 74.5465\n",
            "Epoch 12/25\n",
            "12/12 [==============================] - 0s 17ms/step - loss: 84.1594 - mse: 84.1594 - val_loss: 73.8147 - val_mse: 73.8147\n",
            "Epoch 13/25\n",
            "12/12 [==============================] - 0s 12ms/step - loss: 83.1965 - mse: 83.1965 - val_loss: 71.3138 - val_mse: 71.3138\n",
            "Epoch 14/25\n",
            "12/12 [==============================] - 0s 12ms/step - loss: 82.2803 - mse: 82.2803 - val_loss: 70.2278 - val_mse: 70.2278\n",
            "Epoch 15/25\n",
            "12/12 [==============================] - 0s 15ms/step - loss: 81.7047 - mse: 81.7047 - val_loss: 68.7111 - val_mse: 68.7111\n",
            "Epoch 16/25\n",
            "12/12 [==============================] - 0s 12ms/step - loss: 80.7898 - mse: 80.7898 - val_loss: 68.4181 - val_mse: 68.4181\n",
            "Epoch 17/25\n",
            "12/12 [==============================] - 0s 12ms/step - loss: 79.9372 - mse: 79.9372 - val_loss: 67.0276 - val_mse: 67.0276\n",
            "Epoch 18/25\n",
            "12/12 [==============================] - 0s 22ms/step - loss: 79.4210 - mse: 79.4210 - val_loss: 68.5022 - val_mse: 68.5022\n",
            "Epoch 19/25\n",
            "12/12 [==============================] - 0s 11ms/step - loss: 78.1452 - mse: 78.1452 - val_loss: 65.7818 - val_mse: 65.7818\n",
            "Epoch 20/25\n",
            "12/12 [==============================] - 0s 10ms/step - loss: 77.3911 - mse: 77.3911 - val_loss: 64.2240 - val_mse: 64.2240\n",
            "Epoch 21/25\n",
            "12/12 [==============================] - 0s 13ms/step - loss: 76.5156 - mse: 76.5156 - val_loss: 63.9712 - val_mse: 63.9712\n",
            "Epoch 22/25\n",
            "12/12 [==============================] - 0s 19ms/step - loss: 75.6586 - mse: 75.6586 - val_loss: 62.8466 - val_mse: 62.8466\n",
            "Epoch 23/25\n",
            "12/12 [==============================] - 0s 19ms/step - loss: 74.8209 - mse: 74.8209 - val_loss: 62.5604 - val_mse: 62.5604\n",
            "Epoch 24/25\n",
            "12/12 [==============================] - 0s 19ms/step - loss: 74.1021 - mse: 74.1021 - val_loss: 61.5853 - val_mse: 61.5853\n",
            "Epoch 25/25\n",
            "12/12 [==============================] - 0s 11ms/step - loss: 73.6195 - mse: 73.6195 - val_loss: 61.5761 - val_mse: 61.5761\n"
          ]
        }
      ]
    },
    {
      "cell_type": "markdown",
      "source": [
        "## Строим 2-ю модель, те же параметры только увеличиваем количество нейронов на слоях"
      ],
      "metadata": {
        "id": "u14YkNfOzehT"
      }
    },
    {
      "cell_type": "code",
      "source": [
        "model_2 = Sequential([\n",
        "    Dense(128, activation='relu', input_shape=(13,)),\n",
        "    Dense(64, activation='linear'),\n",
        "    Dense(1, activation='relu')\n",
        "])\n",
        "\n",
        "model_2.compile(optimizer='adam',\n",
        "              loss='mse',\n",
        "              metrics=['mse'])\n",
        "\n",
        "model_2.summary()"
      ],
      "metadata": {
        "colab": {
          "base_uri": "https://localhost:8080/"
        },
        "id": "R9_qyr8xU8tC",
        "outputId": "efb2c2ed-30f4-4de5-ecdd-799229bcc7c7"
      },
      "execution_count": 17,
      "outputs": [
        {
          "output_type": "stream",
          "name": "stdout",
          "text": [
            "Model: \"sequential_3\"\n",
            "_________________________________________________________________\n",
            " Layer (type)                Output Shape              Param #   \n",
            "=================================================================\n",
            " dense_9 (Dense)             (None, 128)               1792      \n",
            "                                                                 \n",
            " dense_10 (Dense)            (None, 64)                8256      \n",
            "                                                                 \n",
            " dense_11 (Dense)            (None, 1)                 65        \n",
            "                                                                 \n",
            "=================================================================\n",
            "Total params: 10,113\n",
            "Trainable params: 10,113\n",
            "Non-trainable params: 0\n",
            "_________________________________________________________________\n"
          ]
        }
      ]
    },
    {
      "cell_type": "code",
      "source": [
        "history = model_2.fit(X_train, y_train,\n",
        "                    epochs=25,\n",
        "                    #batch_size=24,\n",
        "                    validation_data=(X_test, y_test))"
      ],
      "metadata": {
        "colab": {
          "base_uri": "https://localhost:8080/"
        },
        "id": "Qij881I8VPPC",
        "outputId": "ed2c3a6b-160e-4d4d-f559-eaf153bf79b0"
      },
      "execution_count": 18,
      "outputs": [
        {
          "output_type": "stream",
          "name": "stdout",
          "text": [
            "Epoch 1/25\n",
            "12/12 [==============================] - 1s 15ms/step - loss: 598.5253 - mse: 598.5253 - val_loss: 487.1610 - val_mse: 487.1610\n",
            "Epoch 2/25\n",
            "12/12 [==============================] - 0s 6ms/step - loss: 542.7996 - mse: 542.7996 - val_loss: 424.2988 - val_mse: 424.2988\n",
            "Epoch 3/25\n",
            "12/12 [==============================] - 0s 6ms/step - loss: 462.2775 - mse: 462.2775 - val_loss: 333.7557 - val_mse: 333.7557\n",
            "Epoch 4/25\n",
            "12/12 [==============================] - 0s 5ms/step - loss: 350.3703 - mse: 350.3703 - val_loss: 219.7393 - val_mse: 219.7393\n",
            "Epoch 5/25\n",
            "12/12 [==============================] - 0s 6ms/step - loss: 218.1107 - mse: 218.1107 - val_loss: 114.5458 - val_mse: 114.5458\n",
            "Epoch 6/25\n",
            "12/12 [==============================] - 0s 4ms/step - loss: 117.2469 - mse: 117.2469 - val_loss: 77.0684 - val_mse: 77.0684\n",
            "Epoch 7/25\n",
            "12/12 [==============================] - 0s 5ms/step - loss: 90.7583 - mse: 90.7583 - val_loss: 86.3231 - val_mse: 86.3231\n",
            "Epoch 8/25\n",
            "12/12 [==============================] - 0s 5ms/step - loss: 92.3704 - mse: 92.3704 - val_loss: 84.8933 - val_mse: 84.8933\n",
            "Epoch 9/25\n",
            "12/12 [==============================] - 0s 6ms/step - loss: 88.5764 - mse: 88.5764 - val_loss: 77.0838 - val_mse: 77.0838\n",
            "Epoch 10/25\n",
            "12/12 [==============================] - 0s 5ms/step - loss: 84.3543 - mse: 84.3543 - val_loss: 70.3595 - val_mse: 70.3595\n",
            "Epoch 11/25\n",
            "12/12 [==============================] - 0s 5ms/step - loss: 82.7379 - mse: 82.7379 - val_loss: 68.7305 - val_mse: 68.7305\n",
            "Epoch 12/25\n",
            "12/12 [==============================] - 0s 5ms/step - loss: 81.1978 - mse: 81.1978 - val_loss: 68.7283 - val_mse: 68.7283\n",
            "Epoch 13/25\n",
            "12/12 [==============================] - 0s 5ms/step - loss: 79.7781 - mse: 79.7781 - val_loss: 68.7358 - val_mse: 68.7358\n",
            "Epoch 14/25\n",
            "12/12 [==============================] - 0s 5ms/step - loss: 78.1349 - mse: 78.1349 - val_loss: 64.4972 - val_mse: 64.4972\n",
            "Epoch 15/25\n",
            "12/12 [==============================] - 0s 6ms/step - loss: 76.0310 - mse: 76.0310 - val_loss: 64.8336 - val_mse: 64.8336\n",
            "Epoch 16/25\n",
            "12/12 [==============================] - 0s 6ms/step - loss: 75.3973 - mse: 75.3973 - val_loss: 65.5849 - val_mse: 65.5849\n",
            "Epoch 17/25\n",
            "12/12 [==============================] - 0s 6ms/step - loss: 73.9867 - mse: 73.9867 - val_loss: 59.9012 - val_mse: 59.9012\n",
            "Epoch 18/25\n",
            "12/12 [==============================] - 0s 6ms/step - loss: 72.3517 - mse: 72.3517 - val_loss: 58.0874 - val_mse: 58.0874\n",
            "Epoch 19/25\n",
            "12/12 [==============================] - 0s 4ms/step - loss: 71.1781 - mse: 71.1781 - val_loss: 57.9980 - val_mse: 57.9980\n",
            "Epoch 20/25\n",
            "12/12 [==============================] - 0s 6ms/step - loss: 70.0141 - mse: 70.0141 - val_loss: 56.9644 - val_mse: 56.9644\n",
            "Epoch 21/25\n",
            "12/12 [==============================] - 0s 6ms/step - loss: 69.0126 - mse: 69.0126 - val_loss: 57.3710 - val_mse: 57.3710\n",
            "Epoch 22/25\n",
            "12/12 [==============================] - 0s 4ms/step - loss: 68.4468 - mse: 68.4468 - val_loss: 56.7570 - val_mse: 56.7570\n",
            "Epoch 23/25\n",
            "12/12 [==============================] - 0s 6ms/step - loss: 67.2042 - mse: 67.2042 - val_loss: 53.4724 - val_mse: 53.4724\n",
            "Epoch 24/25\n",
            "12/12 [==============================] - 0s 4ms/step - loss: 66.5824 - mse: 66.5824 - val_loss: 52.9166 - val_mse: 52.9166\n",
            "Epoch 25/25\n",
            "12/12 [==============================] - 0s 5ms/step - loss: 66.3688 - mse: 66.3688 - val_loss: 55.3461 - val_mse: 55.3461\n"
          ]
        }
      ]
    },
    {
      "cell_type": "markdown",
      "source": [
        "## Строим 3-ю модель из 5 слоев, формируя граф передачи тензоров"
      ],
      "metadata": {
        "id": "3lDCmbe20HDV"
      }
    },
    {
      "cell_type": "code",
      "source": [
        "inputs = Input(shape=(13,))\n",
        "x_1 = Dense(92, activation='relu')(inputs)\n",
        "x_2 = Dense(64, activation='linear')(x_1)\n",
        "x_3 = Dense(32, activation='relu')(x_2)\n",
        "x_4 = Dense(24, activation='linear')(x_3)\n",
        "outputs = Dense(1, activation='relu')(x_4)\n",
        "\n",
        "model_3 = Model(inputs, outputs)\n",
        "\n",
        "model_3.compile(optimizer='adam',\n",
        "              loss=['mse'],\n",
        "              metrics=['mse'])\n",
        "\n",
        "model_3.summary()"
      ],
      "metadata": {
        "colab": {
          "base_uri": "https://localhost:8080/"
        },
        "id": "VblEDXOJ0okq",
        "outputId": "05bfe268-32ef-4ffd-fbf7-ef7a41c14a8d"
      },
      "execution_count": 23,
      "outputs": [
        {
          "output_type": "stream",
          "name": "stdout",
          "text": [
            "Model: \"model_2\"\n",
            "_________________________________________________________________\n",
            " Layer (type)                Output Shape              Param #   \n",
            "=================================================================\n",
            " input_3 (InputLayer)        [(None, 13)]              0         \n",
            "                                                                 \n",
            " dense_22 (Dense)            (None, 92)                1288      \n",
            "                                                                 \n",
            " dense_23 (Dense)            (None, 64)                5952      \n",
            "                                                                 \n",
            " dense_24 (Dense)            (None, 32)                2080      \n",
            "                                                                 \n",
            " dense_25 (Dense)            (None, 24)                792       \n",
            "                                                                 \n",
            " dense_26 (Dense)            (None, 1)                 25        \n",
            "                                                                 \n",
            "=================================================================\n",
            "Total params: 10,137\n",
            "Trainable params: 10,137\n",
            "Non-trainable params: 0\n",
            "_________________________________________________________________\n"
          ]
        }
      ]
    },
    {
      "cell_type": "code",
      "source": [
        "history = model_3.fit(X_train, y_train,\n",
        "                    epochs=25,\n",
        "                    #batch_size=24,\n",
        "                    validation_data=(X_test, y_test))"
      ],
      "metadata": {
        "colab": {
          "base_uri": "https://localhost:8080/"
        },
        "id": "pwkr3xxPWs5d",
        "outputId": "4fd0b45e-69c4-4875-fde1-1c714dc5c67a"
      },
      "execution_count": 24,
      "outputs": [
        {
          "output_type": "stream",
          "name": "stdout",
          "text": [
            "Epoch 1/25\n",
            "12/12 [==============================] - 1s 17ms/step - loss: 582.0063 - mse: 582.0063 - val_loss: 452.3112 - val_mse: 452.3112\n",
            "Epoch 2/25\n",
            "12/12 [==============================] - 0s 5ms/step - loss: 472.9918 - mse: 472.9918 - val_loss: 301.1872 - val_mse: 301.1872\n",
            "Epoch 3/25\n",
            "12/12 [==============================] - 0s 6ms/step - loss: 254.3372 - mse: 254.3372 - val_loss: 86.4402 - val_mse: 86.4402\n",
            "Epoch 4/25\n",
            "12/12 [==============================] - 0s 5ms/step - loss: 99.6766 - mse: 99.6766 - val_loss: 111.7750 - val_mse: 111.7750\n",
            "Epoch 5/25\n",
            "12/12 [==============================] - 0s 5ms/step - loss: 87.6779 - mse: 87.6779 - val_loss: 66.1294 - val_mse: 66.1294\n",
            "Epoch 6/25\n",
            "12/12 [==============================] - 0s 6ms/step - loss: 79.5839 - mse: 79.5839 - val_loss: 66.0240 - val_mse: 66.0240\n",
            "Epoch 7/25\n",
            "12/12 [==============================] - 0s 5ms/step - loss: 76.0805 - mse: 76.0805 - val_loss: 63.5631 - val_mse: 63.5631\n",
            "Epoch 8/25\n",
            "12/12 [==============================] - 0s 5ms/step - loss: 74.4592 - mse: 74.4592 - val_loss: 58.7455 - val_mse: 58.7455\n",
            "Epoch 9/25\n",
            "12/12 [==============================] - 0s 6ms/step - loss: 71.7047 - mse: 71.7047 - val_loss: 60.2453 - val_mse: 60.2453\n",
            "Epoch 10/25\n",
            "12/12 [==============================] - 0s 5ms/step - loss: 71.2027 - mse: 71.2027 - val_loss: 57.6930 - val_mse: 57.6930\n",
            "Epoch 11/25\n",
            "12/12 [==============================] - 0s 5ms/step - loss: 69.3659 - mse: 69.3659 - val_loss: 54.1703 - val_mse: 54.1703\n",
            "Epoch 12/25\n",
            "12/12 [==============================] - 0s 5ms/step - loss: 68.3115 - mse: 68.3115 - val_loss: 54.5209 - val_mse: 54.5209\n",
            "Epoch 13/25\n",
            "12/12 [==============================] - 0s 6ms/step - loss: 66.7055 - mse: 66.7055 - val_loss: 52.9890 - val_mse: 52.9890\n",
            "Epoch 14/25\n",
            "12/12 [==============================] - 0s 6ms/step - loss: 65.7797 - mse: 65.7797 - val_loss: 52.9968 - val_mse: 52.9968\n",
            "Epoch 15/25\n",
            "12/12 [==============================] - 0s 6ms/step - loss: 65.1832 - mse: 65.1832 - val_loss: 54.7162 - val_mse: 54.7162\n",
            "Epoch 16/25\n",
            "12/12 [==============================] - 0s 5ms/step - loss: 66.2458 - mse: 66.2458 - val_loss: 51.4474 - val_mse: 51.4474\n",
            "Epoch 17/25\n",
            "12/12 [==============================] - 0s 6ms/step - loss: 66.3541 - mse: 66.3541 - val_loss: 50.8389 - val_mse: 50.8389\n",
            "Epoch 18/25\n",
            "12/12 [==============================] - 0s 4ms/step - loss: 64.4277 - mse: 64.4277 - val_loss: 52.7908 - val_mse: 52.7908\n",
            "Epoch 19/25\n",
            "12/12 [==============================] - 0s 6ms/step - loss: 63.9291 - mse: 63.9291 - val_loss: 53.0375 - val_mse: 53.0375\n",
            "Epoch 20/25\n",
            "12/12 [==============================] - 0s 6ms/step - loss: 63.4070 - mse: 63.4070 - val_loss: 51.6792 - val_mse: 51.6792\n",
            "Epoch 21/25\n",
            "12/12 [==============================] - 0s 6ms/step - loss: 62.9732 - mse: 62.9732 - val_loss: 50.8962 - val_mse: 50.8962\n",
            "Epoch 22/25\n",
            "12/12 [==============================] - 0s 7ms/step - loss: 62.9682 - mse: 62.9682 - val_loss: 49.7683 - val_mse: 49.7683\n",
            "Epoch 23/25\n",
            "12/12 [==============================] - 0s 6ms/step - loss: 62.7565 - mse: 62.7565 - val_loss: 50.4183 - val_mse: 50.4183\n",
            "Epoch 24/25\n",
            "12/12 [==============================] - 0s 6ms/step - loss: 63.5286 - mse: 63.5286 - val_loss: 49.9824 - val_mse: 49.9824\n",
            "Epoch 25/25\n",
            "12/12 [==============================] - 0s 6ms/step - loss: 63.0573 - mse: 63.0573 - val_loss: 47.9928 - val_mse: 47.9928\n"
          ]
        }
      ]
    },
    {
      "cell_type": "markdown",
      "source": [
        "## Строим 4-ю модель, добавляя слои последовательно. Заменим все relu на linear"
      ],
      "metadata": {
        "id": "86vxeTBa2234"
      }
    },
    {
      "cell_type": "code",
      "source": [
        "model_4 = Sequential()\n",
        "model_4.add(Dense(92, activation='linear', input_shape=(13,)),)\n",
        "model_4.add(Dense(64, activation='linear')),\n",
        "model_4.add(Dense(32, activation='linear')),\n",
        "model_4.add(Dense(24, activation='linear')),\n",
        "model_4.add(Dense(1, activation='linear'))\n",
        "\n",
        "model_4.compile(optimizer='adam',\n",
        "              loss='mse',\n",
        "              metrics=['mse'])\n",
        "\n",
        "model_4.summary()"
      ],
      "metadata": {
        "colab": {
          "base_uri": "https://localhost:8080/"
        },
        "id": "3Mhy4F7y4rGn",
        "outputId": "734c283e-6176-487f-a208-eea76d90cc26"
      },
      "execution_count": 25,
      "outputs": [
        {
          "output_type": "stream",
          "name": "stdout",
          "text": [
            "Model: \"sequential_4\"\n",
            "_________________________________________________________________\n",
            " Layer (type)                Output Shape              Param #   \n",
            "=================================================================\n",
            " dense_27 (Dense)            (None, 92)                1288      \n",
            "                                                                 \n",
            " dense_28 (Dense)            (None, 64)                5952      \n",
            "                                                                 \n",
            " dense_29 (Dense)            (None, 32)                2080      \n",
            "                                                                 \n",
            " dense_30 (Dense)            (None, 24)                792       \n",
            "                                                                 \n",
            " dense_31 (Dense)            (None, 1)                 25        \n",
            "                                                                 \n",
            "=================================================================\n",
            "Total params: 10,137\n",
            "Trainable params: 10,137\n",
            "Non-trainable params: 0\n",
            "_________________________________________________________________\n"
          ]
        }
      ]
    },
    {
      "cell_type": "code",
      "source": [
        "history = model_4.fit(X_train, y_train,\n",
        "                    epochs=25,\n",
        "                    #batch_size=24,\n",
        "                    validation_data=(X_test, y_test))"
      ],
      "metadata": {
        "colab": {
          "base_uri": "https://localhost:8080/"
        },
        "id": "hA-HmDvJXar6",
        "outputId": "73486e72-2a50-48fd-fad7-4972deda87cd"
      },
      "execution_count": 26,
      "outputs": [
        {
          "output_type": "stream",
          "name": "stdout",
          "text": [
            "Epoch 1/25\n",
            "12/12 [==============================] - 1s 16ms/step - loss: 549.2931 - mse: 549.2931 - val_loss: 385.1621 - val_mse: 385.1621\n",
            "Epoch 2/25\n",
            "12/12 [==============================] - 0s 6ms/step - loss: 353.9974 - mse: 353.9974 - val_loss: 149.7345 - val_mse: 149.7345\n",
            "Epoch 3/25\n",
            "12/12 [==============================] - 0s 5ms/step - loss: 124.0523 - mse: 124.0523 - val_loss: 107.7773 - val_mse: 107.7773\n",
            "Epoch 4/25\n",
            "12/12 [==============================] - 0s 6ms/step - loss: 97.5568 - mse: 97.5568 - val_loss: 65.7281 - val_mse: 65.7281\n",
            "Epoch 5/25\n",
            "12/12 [==============================] - 0s 4ms/step - loss: 80.8156 - mse: 80.8156 - val_loss: 62.8460 - val_mse: 62.8460\n",
            "Epoch 6/25\n",
            "12/12 [==============================] - 0s 6ms/step - loss: 75.8492 - mse: 75.8492 - val_loss: 65.1458 - val_mse: 65.1458\n",
            "Epoch 7/25\n",
            "12/12 [==============================] - 0s 4ms/step - loss: 74.1987 - mse: 74.1987 - val_loss: 62.2443 - val_mse: 62.2443\n",
            "Epoch 8/25\n",
            "12/12 [==============================] - 0s 6ms/step - loss: 71.7965 - mse: 71.7965 - val_loss: 60.3298 - val_mse: 60.3298\n",
            "Epoch 9/25\n",
            "12/12 [==============================] - 0s 5ms/step - loss: 70.2477 - mse: 70.2477 - val_loss: 56.1033 - val_mse: 56.1033\n",
            "Epoch 10/25\n",
            "12/12 [==============================] - 0s 6ms/step - loss: 68.8053 - mse: 68.8053 - val_loss: 60.2673 - val_mse: 60.2673\n",
            "Epoch 11/25\n",
            "12/12 [==============================] - 0s 5ms/step - loss: 70.8238 - mse: 70.8238 - val_loss: 56.1531 - val_mse: 56.1531\n",
            "Epoch 12/25\n",
            "12/12 [==============================] - 0s 5ms/step - loss: 69.8446 - mse: 69.8446 - val_loss: 53.8456 - val_mse: 53.8456\n",
            "Epoch 13/25\n",
            "12/12 [==============================] - 0s 5ms/step - loss: 66.9473 - mse: 66.9473 - val_loss: 57.0439 - val_mse: 57.0439\n",
            "Epoch 14/25\n",
            "12/12 [==============================] - 0s 4ms/step - loss: 66.1399 - mse: 66.1399 - val_loss: 52.5392 - val_mse: 52.5392\n",
            "Epoch 15/25\n",
            "12/12 [==============================] - 0s 5ms/step - loss: 66.1029 - mse: 66.1029 - val_loss: 53.9629 - val_mse: 53.9629\n",
            "Epoch 16/25\n",
            "12/12 [==============================] - 0s 6ms/step - loss: 65.8155 - mse: 65.8155 - val_loss: 52.0224 - val_mse: 52.0224\n",
            "Epoch 17/25\n",
            "12/12 [==============================] - 0s 5ms/step - loss: 65.5213 - mse: 65.5213 - val_loss: 55.5421 - val_mse: 55.5421\n",
            "Epoch 18/25\n",
            "12/12 [==============================] - 0s 4ms/step - loss: 66.5639 - mse: 66.5639 - val_loss: 52.8115 - val_mse: 52.8115\n",
            "Epoch 19/25\n",
            "12/12 [==============================] - 0s 4ms/step - loss: 63.5550 - mse: 63.5550 - val_loss: 51.9570 - val_mse: 51.9570\n",
            "Epoch 20/25\n",
            "12/12 [==============================] - 0s 5ms/step - loss: 63.6905 - mse: 63.6905 - val_loss: 54.4093 - val_mse: 54.4093\n",
            "Epoch 21/25\n",
            "12/12 [==============================] - 0s 5ms/step - loss: 67.9224 - mse: 67.9224 - val_loss: 51.0191 - val_mse: 51.0191\n",
            "Epoch 22/25\n",
            "12/12 [==============================] - 0s 6ms/step - loss: 65.3118 - mse: 65.3118 - val_loss: 50.9999 - val_mse: 50.9999\n",
            "Epoch 23/25\n",
            "12/12 [==============================] - 0s 4ms/step - loss: 63.2309 - mse: 63.2309 - val_loss: 51.8251 - val_mse: 51.8251\n",
            "Epoch 24/25\n",
            "12/12 [==============================] - 0s 6ms/step - loss: 62.7366 - mse: 62.7366 - val_loss: 52.1648 - val_mse: 52.1648\n",
            "Epoch 25/25\n",
            "12/12 [==============================] - 0s 4ms/step - loss: 62.5084 - mse: 62.5084 - val_loss: 50.3932 - val_mse: 50.3932\n"
          ]
        }
      ]
    },
    {
      "cell_type": "markdown",
      "source": [
        "## Строим 5-ю модель, используем оптимизатор RMSprop"
      ],
      "metadata": {
        "id": "8OJwedEb5yLH"
      }
    },
    {
      "cell_type": "code",
      "source": [
        "model_5 = Sequential([\n",
        "    Dense(256, activation='relu', input_shape=(13,)),\n",
        "    Dense(128, activation='linear'),\n",
        "    Dense(64, activation='relu'),\n",
        "    Dense(32, activation='linear'),\n",
        "    Dense(1, activation='relu')\n",
        "])\n",
        "\n",
        "model_5.compile(optimizer='RMSprop',\n",
        "              loss='mse',\n",
        "              metrics=['mse'])\n",
        "\n",
        "model_5.summary()"
      ],
      "metadata": {
        "colab": {
          "base_uri": "https://localhost:8080/"
        },
        "id": "W5cEzggYZVvU",
        "outputId": "af368e83-dc32-48bd-bdd1-b47e8005e210"
      },
      "execution_count": 27,
      "outputs": [
        {
          "output_type": "stream",
          "name": "stdout",
          "text": [
            "Model: \"sequential_5\"\n",
            "_________________________________________________________________\n",
            " Layer (type)                Output Shape              Param #   \n",
            "=================================================================\n",
            " dense_32 (Dense)            (None, 256)               3584      \n",
            "                                                                 \n",
            " dense_33 (Dense)            (None, 128)               32896     \n",
            "                                                                 \n",
            " dense_34 (Dense)            (None, 64)                8256      \n",
            "                                                                 \n",
            " dense_35 (Dense)            (None, 32)                2080      \n",
            "                                                                 \n",
            " dense_36 (Dense)            (None, 1)                 33        \n",
            "                                                                 \n",
            "=================================================================\n",
            "Total params: 46,849\n",
            "Trainable params: 46,849\n",
            "Non-trainable params: 0\n",
            "_________________________________________________________________\n"
          ]
        }
      ]
    },
    {
      "cell_type": "code",
      "source": [
        "history = model_5.fit(X_train, y_train,\n",
        "                    epochs=25,\n",
        "                    #batch_size=24,\n",
        "                    validation_data=(X_test, y_test))"
      ],
      "metadata": {
        "colab": {
          "base_uri": "https://localhost:8080/"
        },
        "id": "a0z6Jv-lZlRv",
        "outputId": "93996f3f-5e8d-4d07-f0aa-b189de8aa45c"
      },
      "execution_count": 28,
      "outputs": [
        {
          "output_type": "stream",
          "name": "stdout",
          "text": [
            "Epoch 1/25\n",
            "12/12 [==============================] - 1s 17ms/step - loss: 354.4552 - mse: 354.4552 - val_loss: 104.3086 - val_mse: 104.3086\n",
            "Epoch 2/25\n",
            "12/12 [==============================] - 0s 6ms/step - loss: 86.1149 - mse: 86.1149 - val_loss: 74.3518 - val_mse: 74.3518\n",
            "Epoch 3/25\n",
            "12/12 [==============================] - 0s 5ms/step - loss: 79.5342 - mse: 79.5342 - val_loss: 72.8561 - val_mse: 72.8561\n",
            "Epoch 4/25\n",
            "12/12 [==============================] - 0s 5ms/step - loss: 77.4881 - mse: 77.4881 - val_loss: 74.4519 - val_mse: 74.4519\n",
            "Epoch 5/25\n",
            "12/12 [==============================] - 0s 7ms/step - loss: 73.4659 - mse: 73.4659 - val_loss: 102.8693 - val_mse: 102.8693\n",
            "Epoch 6/25\n",
            "12/12 [==============================] - 0s 5ms/step - loss: 68.2549 - mse: 68.2549 - val_loss: 67.9971 - val_mse: 67.9971\n",
            "Epoch 7/25\n",
            "12/12 [==============================] - 0s 5ms/step - loss: 72.3253 - mse: 72.3253 - val_loss: 72.2208 - val_mse: 72.2208\n",
            "Epoch 8/25\n",
            "12/12 [==============================] - 0s 5ms/step - loss: 69.5695 - mse: 69.5695 - val_loss: 50.1170 - val_mse: 50.1170\n",
            "Epoch 9/25\n",
            "12/12 [==============================] - 0s 5ms/step - loss: 65.3562 - mse: 65.3562 - val_loss: 71.4491 - val_mse: 71.4491\n",
            "Epoch 10/25\n",
            "12/12 [==============================] - 0s 5ms/step - loss: 68.4526 - mse: 68.4526 - val_loss: 49.4537 - val_mse: 49.4537\n",
            "Epoch 11/25\n",
            "12/12 [==============================] - 0s 6ms/step - loss: 65.3592 - mse: 65.3592 - val_loss: 50.9965 - val_mse: 50.9965\n",
            "Epoch 12/25\n",
            "12/12 [==============================] - 0s 7ms/step - loss: 65.2440 - mse: 65.2440 - val_loss: 47.6054 - val_mse: 47.6054\n",
            "Epoch 13/25\n",
            "12/12 [==============================] - 0s 6ms/step - loss: 64.3728 - mse: 64.3728 - val_loss: 98.4896 - val_mse: 98.4896\n",
            "Epoch 14/25\n",
            "12/12 [==============================] - 0s 7ms/step - loss: 65.0282 - mse: 65.0282 - val_loss: 60.1691 - val_mse: 60.1691\n",
            "Epoch 15/25\n",
            "12/12 [==============================] - 0s 5ms/step - loss: 67.6436 - mse: 67.6436 - val_loss: 46.6017 - val_mse: 46.6017\n",
            "Epoch 16/25\n",
            "12/12 [==============================] - 0s 7ms/step - loss: 63.7984 - mse: 63.7984 - val_loss: 46.4860 - val_mse: 46.4860\n",
            "Epoch 17/25\n",
            "12/12 [==============================] - 0s 6ms/step - loss: 62.5460 - mse: 62.5460 - val_loss: 194.1349 - val_mse: 194.1349\n",
            "Epoch 18/25\n",
            "12/12 [==============================] - 0s 7ms/step - loss: 72.8584 - mse: 72.8584 - val_loss: 46.2021 - val_mse: 46.2021\n",
            "Epoch 19/25\n",
            "12/12 [==============================] - 0s 6ms/step - loss: 61.7364 - mse: 61.7364 - val_loss: 60.0694 - val_mse: 60.0694\n",
            "Epoch 20/25\n",
            "12/12 [==============================] - 0s 5ms/step - loss: 65.2149 - mse: 65.2149 - val_loss: 47.2819 - val_mse: 47.2819\n",
            "Epoch 21/25\n",
            "12/12 [==============================] - 0s 5ms/step - loss: 60.6698 - mse: 60.6698 - val_loss: 51.5005 - val_mse: 51.5005\n",
            "Epoch 22/25\n",
            "12/12 [==============================] - 0s 5ms/step - loss: 60.7434 - mse: 60.7434 - val_loss: 44.7092 - val_mse: 44.7092\n",
            "Epoch 23/25\n",
            "12/12 [==============================] - 0s 6ms/step - loss: 60.8860 - mse: 60.8860 - val_loss: 43.1001 - val_mse: 43.1001\n",
            "Epoch 24/25\n",
            "12/12 [==============================] - 0s 5ms/step - loss: 60.5055 - mse: 60.5055 - val_loss: 128.0438 - val_mse: 128.0438\n",
            "Epoch 25/25\n",
            "12/12 [==============================] - 0s 7ms/step - loss: 63.9306 - mse: 63.9306 - val_loss: 48.7042 - val_mse: 48.7042\n"
          ]
        }
      ]
    },
    {
      "cell_type": "markdown",
      "source": [
        "## Строим 6-ю модель, используем оптимизатор AdaGrad"
      ],
      "metadata": {
        "id": "kFuXh7u86h9T"
      }
    },
    {
      "cell_type": "code",
      "source": [
        "model_6 = Sequential([\n",
        "    Dense(256, activation='relu', input_shape=(13,)),\n",
        "    Dense(128, activation='linear'),\n",
        "    Dense(64, activation='relu'),\n",
        "    Dense(32, activation='linear'),\n",
        "    Dense(1, activation='relu')\n",
        "])\n",
        "\n",
        "model_6.compile(optimizer='AdaGrad',\n",
        "              loss='mse',\n",
        "              metrics=['mse'])\n",
        "\n",
        "model_6.summary()"
      ],
      "metadata": {
        "colab": {
          "base_uri": "https://localhost:8080/"
        },
        "id": "77veWSVxZ15G",
        "outputId": "2652dcb9-bda8-41ba-9790-e92810b40b2a"
      },
      "execution_count": 29,
      "outputs": [
        {
          "output_type": "stream",
          "name": "stdout",
          "text": [
            "Model: \"sequential_6\"\n",
            "_________________________________________________________________\n",
            " Layer (type)                Output Shape              Param #   \n",
            "=================================================================\n",
            " dense_37 (Dense)            (None, 256)               3584      \n",
            "                                                                 \n",
            " dense_38 (Dense)            (None, 128)               32896     \n",
            "                                                                 \n",
            " dense_39 (Dense)            (None, 64)                8256      \n",
            "                                                                 \n",
            " dense_40 (Dense)            (None, 32)                2080      \n",
            "                                                                 \n",
            " dense_41 (Dense)            (None, 1)                 33        \n",
            "                                                                 \n",
            "=================================================================\n",
            "Total params: 46,849\n",
            "Trainable params: 46,849\n",
            "Non-trainable params: 0\n",
            "_________________________________________________________________\n"
          ]
        }
      ]
    },
    {
      "cell_type": "code",
      "source": [
        "history = model_6.fit(X_train, y_train,\n",
        "                    epochs=25,\n",
        "                    #batch_size=12,\n",
        "                    validation_data=(X_test, y_test))"
      ],
      "metadata": {
        "colab": {
          "base_uri": "https://localhost:8080/"
        },
        "id": "Dg_KZoCEZ_WL",
        "outputId": "162e24db-0950-454b-b207-b0900b9adfa5"
      },
      "execution_count": 30,
      "outputs": [
        {
          "output_type": "stream",
          "name": "stdout",
          "text": [
            "Epoch 1/25\n",
            "12/12 [==============================] - 1s 16ms/step - loss: 599.1077 - mse: 599.1077 - val_loss: 489.3349 - val_mse: 489.3349\n",
            "Epoch 2/25\n",
            "12/12 [==============================] - 0s 6ms/step - loss: 548.1917 - mse: 548.1917 - val_loss: 438.2709 - val_mse: 438.2709\n",
            "Epoch 3/25\n",
            "12/12 [==============================] - 0s 7ms/step - loss: 489.1309 - mse: 489.1309 - val_loss: 379.8123 - val_mse: 379.8123\n",
            "Epoch 4/25\n",
            "12/12 [==============================] - 0s 5ms/step - loss: 422.3381 - mse: 422.3381 - val_loss: 317.4755 - val_mse: 317.4755\n",
            "Epoch 5/25\n",
            "12/12 [==============================] - 0s 6ms/step - loss: 352.3459 - mse: 352.3459 - val_loss: 247.4063 - val_mse: 247.4063\n",
            "Epoch 6/25\n",
            "12/12 [==============================] - 0s 5ms/step - loss: 277.4615 - mse: 277.4615 - val_loss: 192.3030 - val_mse: 192.3030\n",
            "Epoch 7/25\n",
            "12/12 [==============================] - 0s 6ms/step - loss: 218.3283 - mse: 218.3283 - val_loss: 148.4544 - val_mse: 148.4544\n",
            "Epoch 8/25\n",
            "12/12 [==============================] - 0s 4ms/step - loss: 172.5134 - mse: 172.5134 - val_loss: 115.1271 - val_mse: 115.1271\n",
            "Epoch 9/25\n",
            "12/12 [==============================] - 0s 4ms/step - loss: 137.3223 - mse: 137.3223 - val_loss: 93.8331 - val_mse: 93.8331\n",
            "Epoch 10/25\n",
            "12/12 [==============================] - 0s 4ms/step - loss: 114.5432 - mse: 114.5432 - val_loss: 80.3508 - val_mse: 80.3508\n",
            "Epoch 11/25\n",
            "12/12 [==============================] - 0s 4ms/step - loss: 99.2372 - mse: 99.2372 - val_loss: 74.3584 - val_mse: 74.3584\n",
            "Epoch 12/25\n",
            "12/12 [==============================] - 0s 5ms/step - loss: 91.5012 - mse: 91.5012 - val_loss: 71.9066 - val_mse: 71.9066\n",
            "Epoch 13/25\n",
            "12/12 [==============================] - 0s 6ms/step - loss: 86.9668 - mse: 86.9668 - val_loss: 71.2922 - val_mse: 71.2922\n",
            "Epoch 14/25\n",
            "12/12 [==============================] - 0s 4ms/step - loss: 85.5453 - mse: 85.5453 - val_loss: 70.9967 - val_mse: 70.9967\n",
            "Epoch 15/25\n",
            "12/12 [==============================] - 0s 6ms/step - loss: 84.3422 - mse: 84.3422 - val_loss: 71.4849 - val_mse: 71.4849\n",
            "Epoch 16/25\n",
            "12/12 [==============================] - 0s 5ms/step - loss: 83.0354 - mse: 83.0354 - val_loss: 70.6173 - val_mse: 70.6173\n",
            "Epoch 17/25\n",
            "12/12 [==============================] - 0s 6ms/step - loss: 82.3811 - mse: 82.3811 - val_loss: 70.7672 - val_mse: 70.7672\n",
            "Epoch 18/25\n",
            "12/12 [==============================] - 0s 7ms/step - loss: 81.8137 - mse: 81.8137 - val_loss: 69.5839 - val_mse: 69.5839\n",
            "Epoch 19/25\n",
            "12/12 [==============================] - 0s 5ms/step - loss: 81.4085 - mse: 81.4085 - val_loss: 68.9832 - val_mse: 68.9832\n",
            "Epoch 20/25\n",
            "12/12 [==============================] - 0s 6ms/step - loss: 80.7447 - mse: 80.7447 - val_loss: 68.7813 - val_mse: 68.7813\n",
            "Epoch 21/25\n",
            "12/12 [==============================] - 0s 6ms/step - loss: 80.2363 - mse: 80.2363 - val_loss: 68.6659 - val_mse: 68.6659\n",
            "Epoch 22/25\n",
            "12/12 [==============================] - 0s 6ms/step - loss: 79.8294 - mse: 79.8294 - val_loss: 67.9291 - val_mse: 67.9291\n",
            "Epoch 23/25\n",
            "12/12 [==============================] - 0s 5ms/step - loss: 79.3636 - mse: 79.3636 - val_loss: 66.6573 - val_mse: 66.6573\n",
            "Epoch 24/25\n",
            "12/12 [==============================] - 0s 5ms/step - loss: 78.7490 - mse: 78.7490 - val_loss: 66.3822 - val_mse: 66.3822\n",
            "Epoch 25/25\n",
            "12/12 [==============================] - 0s 6ms/step - loss: 78.3085 - mse: 78.3085 - val_loss: 65.5643 - val_mse: 65.5643\n"
          ]
        }
      ]
    },
    {
      "cell_type": "markdown",
      "source": [
        "## Строим 7-ю модель, используем оптимизатор Adam"
      ],
      "metadata": {
        "id": "y_wL1NBE7fDQ"
      }
    },
    {
      "cell_type": "code",
      "source": [
        "model_7 = Sequential([\n",
        "    Dense(256, activation='relu', input_shape=(13,)),\n",
        "    Dense(128, activation='linear'),\n",
        "    Dense(64, activation='relu'),\n",
        "    Dense(32, activation='linear'),\n",
        "    Dense(1, activation='relu')\n",
        "])\n",
        "\n",
        "model_7.compile(optimizer='adam',\n",
        "              loss='mse',\n",
        "              metrics=['mse'])\n",
        "\n",
        "model_7.summary()"
      ],
      "metadata": {
        "colab": {
          "base_uri": "https://localhost:8080/"
        },
        "id": "k3eAzPCya14I",
        "outputId": "65d176ea-62f6-4460-c851-7a9e98b1fafe"
      },
      "execution_count": 31,
      "outputs": [
        {
          "output_type": "stream",
          "name": "stdout",
          "text": [
            "Model: \"sequential_7\"\n",
            "_________________________________________________________________\n",
            " Layer (type)                Output Shape              Param #   \n",
            "=================================================================\n",
            " dense_42 (Dense)            (None, 256)               3584      \n",
            "                                                                 \n",
            " dense_43 (Dense)            (None, 128)               32896     \n",
            "                                                                 \n",
            " dense_44 (Dense)            (None, 64)                8256      \n",
            "                                                                 \n",
            " dense_45 (Dense)            (None, 32)                2080      \n",
            "                                                                 \n",
            " dense_46 (Dense)            (None, 1)                 33        \n",
            "                                                                 \n",
            "=================================================================\n",
            "Total params: 46,849\n",
            "Trainable params: 46,849\n",
            "Non-trainable params: 0\n",
            "_________________________________________________________________\n"
          ]
        }
      ]
    },
    {
      "cell_type": "markdown",
      "source": [
        "#### воспользуемся при обучении гиперпараметром batch_size=12"
      ],
      "metadata": {
        "id": "myp3ZY-R7wfb"
      }
    },
    {
      "cell_type": "code",
      "source": [
        "history = model_7.fit(X_train, y_train,\n",
        "                    epochs=25,\n",
        "                    batch_size=12,\n",
        "                    validation_data=(X_test, y_test))"
      ],
      "metadata": {
        "colab": {
          "base_uri": "https://localhost:8080/"
        },
        "id": "ZBIYUOIZa6q6",
        "outputId": "1b124015-41fa-440c-e9c7-0e81660d990f"
      },
      "execution_count": 32,
      "outputs": [
        {
          "output_type": "stream",
          "name": "stdout",
          "text": [
            "Epoch 1/25\n",
            "30/30 [==============================] - 1s 10ms/step - loss: 361.8401 - mse: 361.8401 - val_loss: 139.3035 - val_mse: 139.3035\n",
            "Epoch 2/25\n",
            "30/30 [==============================] - 0s 5ms/step - loss: 90.2990 - mse: 90.2990 - val_loss: 62.4805 - val_mse: 62.4805\n",
            "Epoch 3/25\n",
            "30/30 [==============================] - 0s 4ms/step - loss: 72.1378 - mse: 72.1378 - val_loss: 56.2895 - val_mse: 56.2895\n",
            "Epoch 4/25\n",
            "30/30 [==============================] - 0s 4ms/step - loss: 67.1762 - mse: 67.1762 - val_loss: 53.7804 - val_mse: 53.7804\n",
            "Epoch 5/25\n",
            "30/30 [==============================] - 0s 4ms/step - loss: 65.7442 - mse: 65.7442 - val_loss: 49.0070 - val_mse: 49.0070\n",
            "Epoch 6/25\n",
            "30/30 [==============================] - 0s 4ms/step - loss: 65.4793 - mse: 65.4793 - val_loss: 48.7617 - val_mse: 48.7617\n",
            "Epoch 7/25\n",
            "30/30 [==============================] - 0s 4ms/step - loss: 65.2487 - mse: 65.2487 - val_loss: 48.0850 - val_mse: 48.0850\n",
            "Epoch 8/25\n",
            "30/30 [==============================] - 0s 4ms/step - loss: 63.4403 - mse: 63.4403 - val_loss: 58.3962 - val_mse: 58.3962\n",
            "Epoch 9/25\n",
            "30/30 [==============================] - 0s 4ms/step - loss: 63.1091 - mse: 63.1091 - val_loss: 51.9208 - val_mse: 51.9208\n",
            "Epoch 10/25\n",
            "30/30 [==============================] - 0s 4ms/step - loss: 60.8363 - mse: 60.8363 - val_loss: 47.3637 - val_mse: 47.3637\n",
            "Epoch 11/25\n",
            "30/30 [==============================] - 0s 4ms/step - loss: 62.2623 - mse: 62.2623 - val_loss: 55.0128 - val_mse: 55.0128\n",
            "Epoch 12/25\n",
            "30/30 [==============================] - 0s 4ms/step - loss: 62.0979 - mse: 62.0979 - val_loss: 43.3636 - val_mse: 43.3636\n",
            "Epoch 13/25\n",
            "30/30 [==============================] - 0s 4ms/step - loss: 62.4317 - mse: 62.4317 - val_loss: 58.6578 - val_mse: 58.6578\n",
            "Epoch 14/25\n",
            "30/30 [==============================] - 0s 4ms/step - loss: 60.2353 - mse: 60.2353 - val_loss: 42.2860 - val_mse: 42.2860\n",
            "Epoch 15/25\n",
            "30/30 [==============================] - 0s 6ms/step - loss: 57.3465 - mse: 57.3465 - val_loss: 41.0463 - val_mse: 41.0463\n",
            "Epoch 16/25\n",
            "30/30 [==============================] - 0s 4ms/step - loss: 58.0389 - mse: 58.0389 - val_loss: 41.7561 - val_mse: 41.7561\n",
            "Epoch 17/25\n",
            "30/30 [==============================] - 0s 4ms/step - loss: 58.1686 - mse: 58.1686 - val_loss: 40.1487 - val_mse: 40.1487\n",
            "Epoch 18/25\n",
            "30/30 [==============================] - 0s 5ms/step - loss: 57.0259 - mse: 57.0259 - val_loss: 42.2338 - val_mse: 42.2338\n",
            "Epoch 19/25\n",
            "30/30 [==============================] - 0s 4ms/step - loss: 55.5273 - mse: 55.5273 - val_loss: 40.9054 - val_mse: 40.9054\n",
            "Epoch 20/25\n",
            "30/30 [==============================] - 0s 4ms/step - loss: 53.5319 - mse: 53.5319 - val_loss: 38.2043 - val_mse: 38.2043\n",
            "Epoch 21/25\n",
            "30/30 [==============================] - 0s 4ms/step - loss: 52.6935 - mse: 52.6935 - val_loss: 37.5009 - val_mse: 37.5009\n",
            "Epoch 22/25\n",
            "30/30 [==============================] - 0s 4ms/step - loss: 50.0086 - mse: 50.0086 - val_loss: 35.8503 - val_mse: 35.8503\n",
            "Epoch 23/25\n",
            "30/30 [==============================] - 0s 4ms/step - loss: 48.8203 - mse: 48.8203 - val_loss: 45.4395 - val_mse: 45.4395\n",
            "Epoch 24/25\n",
            "30/30 [==============================] - 0s 4ms/step - loss: 48.0559 - mse: 48.0559 - val_loss: 42.2660 - val_mse: 42.2660\n",
            "Epoch 25/25\n",
            "30/30 [==============================] - 0s 4ms/step - loss: 47.9356 - mse: 47.9356 - val_loss: 31.8019 - val_mse: 31.8019\n"
          ]
        }
      ]
    },
    {
      "cell_type": "markdown",
      "source": [
        "## Строим 8-ю модель, используем оптимизатор Adam и воспользуемся при обучении гиперпараметром batch_size=24"
      ],
      "metadata": {
        "id": "RwY3C39W8Fba"
      }
    },
    {
      "cell_type": "code",
      "source": [
        "model_8 = Sequential([\n",
        "    Dense(256, activation='relu', input_shape=(13,)),\n",
        "    Dense(128, activation='linear'),\n",
        "    Dense(64, activation='relu'),\n",
        "    Dense(32, activation='linear'),\n",
        "    Dense(1, activation='relu')\n",
        "])\n",
        "\n",
        "model_8.compile(optimizer='adam',\n",
        "              loss='mse',\n",
        "              metrics=['mse'])\n",
        "\n",
        "model_8.summary()"
      ],
      "metadata": {
        "colab": {
          "base_uri": "https://localhost:8080/"
        },
        "id": "pn9NXuiC8OaN",
        "outputId": "97d83851-3eb5-4706-eaf4-dd253f525b37"
      },
      "execution_count": 33,
      "outputs": [
        {
          "output_type": "stream",
          "name": "stdout",
          "text": [
            "Model: \"sequential_8\"\n",
            "_________________________________________________________________\n",
            " Layer (type)                Output Shape              Param #   \n",
            "=================================================================\n",
            " dense_47 (Dense)            (None, 256)               3584      \n",
            "                                                                 \n",
            " dense_48 (Dense)            (None, 128)               32896     \n",
            "                                                                 \n",
            " dense_49 (Dense)            (None, 64)                8256      \n",
            "                                                                 \n",
            " dense_50 (Dense)            (None, 32)                2080      \n",
            "                                                                 \n",
            " dense_51 (Dense)            (None, 1)                 33        \n",
            "                                                                 \n",
            "=================================================================\n",
            "Total params: 46,849\n",
            "Trainable params: 46,849\n",
            "Non-trainable params: 0\n",
            "_________________________________________________________________\n"
          ]
        }
      ]
    },
    {
      "cell_type": "code",
      "source": [
        "history = model_8.fit(X_train, y_train,\n",
        "                    epochs=25,\n",
        "                    batch_size=24,\n",
        "                    validation_data=(X_test, y_test))"
      ],
      "metadata": {
        "colab": {
          "base_uri": "https://localhost:8080/"
        },
        "id": "tYc8AMSi8XIW",
        "outputId": "4c5c8592-92de-4e87-f550-3c4a5911a02b"
      },
      "execution_count": 34,
      "outputs": [
        {
          "output_type": "stream",
          "name": "stdout",
          "text": [
            "Epoch 1/25\n",
            "15/15 [==============================] - 1s 15ms/step - loss: 526.4169 - mse: 526.4169 - val_loss: 293.6754 - val_mse: 293.6754\n",
            "Epoch 2/25\n",
            "15/15 [==============================] - 0s 5ms/step - loss: 190.0712 - mse: 190.0712 - val_loss: 120.0235 - val_mse: 120.0235\n",
            "Epoch 3/25\n",
            "15/15 [==============================] - 0s 5ms/step - loss: 89.2665 - mse: 89.2665 - val_loss: 63.8126 - val_mse: 63.8126\n",
            "Epoch 4/25\n",
            "15/15 [==============================] - 0s 5ms/step - loss: 76.7864 - mse: 76.7864 - val_loss: 63.1080 - val_mse: 63.1080\n",
            "Epoch 5/25\n",
            "15/15 [==============================] - 0s 6ms/step - loss: 70.9317 - mse: 70.9317 - val_loss: 56.3557 - val_mse: 56.3557\n",
            "Epoch 6/25\n",
            "15/15 [==============================] - 0s 5ms/step - loss: 68.1796 - mse: 68.1796 - val_loss: 55.6745 - val_mse: 55.6745\n",
            "Epoch 7/25\n",
            "15/15 [==============================] - 0s 5ms/step - loss: 66.5414 - mse: 66.5414 - val_loss: 51.8284 - val_mse: 51.8284\n",
            "Epoch 8/25\n",
            "15/15 [==============================] - 0s 5ms/step - loss: 64.7318 - mse: 64.7318 - val_loss: 51.3284 - val_mse: 51.3284\n",
            "Epoch 9/25\n",
            "15/15 [==============================] - 0s 5ms/step - loss: 64.1796 - mse: 64.1796 - val_loss: 49.9620 - val_mse: 49.9620\n",
            "Epoch 10/25\n",
            "15/15 [==============================] - 0s 5ms/step - loss: 63.4792 - mse: 63.4792 - val_loss: 49.9164 - val_mse: 49.9164\n",
            "Epoch 11/25\n",
            "15/15 [==============================] - 0s 5ms/step - loss: 62.7269 - mse: 62.7269 - val_loss: 47.5747 - val_mse: 47.5747\n",
            "Epoch 12/25\n",
            "15/15 [==============================] - 0s 5ms/step - loss: 63.3009 - mse: 63.3009 - val_loss: 47.0144 - val_mse: 47.0144\n",
            "Epoch 13/25\n",
            "15/15 [==============================] - 0s 5ms/step - loss: 66.0057 - mse: 66.0057 - val_loss: 50.1718 - val_mse: 50.1718\n",
            "Epoch 14/25\n",
            "15/15 [==============================] - 0s 5ms/step - loss: 61.4911 - mse: 61.4911 - val_loss: 48.3064 - val_mse: 48.3064\n",
            "Epoch 15/25\n",
            "15/15 [==============================] - 0s 5ms/step - loss: 61.8133 - mse: 61.8133 - val_loss: 49.2031 - val_mse: 49.2031\n",
            "Epoch 16/25\n",
            "15/15 [==============================] - 0s 6ms/step - loss: 61.0169 - mse: 61.0169 - val_loss: 45.2454 - val_mse: 45.2454\n",
            "Epoch 17/25\n",
            "15/15 [==============================] - 0s 4ms/step - loss: 59.9600 - mse: 59.9600 - val_loss: 44.5173 - val_mse: 44.5173\n",
            "Epoch 18/25\n",
            "15/15 [==============================] - 0s 5ms/step - loss: 61.3974 - mse: 61.3974 - val_loss: 46.3683 - val_mse: 46.3683\n",
            "Epoch 19/25\n",
            "15/15 [==============================] - 0s 6ms/step - loss: 59.0520 - mse: 59.0520 - val_loss: 44.0604 - val_mse: 44.0604\n",
            "Epoch 20/25\n",
            "15/15 [==============================] - 0s 5ms/step - loss: 58.8393 - mse: 58.8393 - val_loss: 42.6774 - val_mse: 42.6774\n",
            "Epoch 21/25\n",
            "15/15 [==============================] - 0s 4ms/step - loss: 60.9453 - mse: 60.9453 - val_loss: 42.8134 - val_mse: 42.8134\n",
            "Epoch 22/25\n",
            "15/15 [==============================] - 0s 5ms/step - loss: 57.5393 - mse: 57.5393 - val_loss: 42.5702 - val_mse: 42.5702\n",
            "Epoch 23/25\n",
            "15/15 [==============================] - 0s 5ms/step - loss: 61.2554 - mse: 61.2554 - val_loss: 49.2684 - val_mse: 49.2684\n",
            "Epoch 24/25\n",
            "15/15 [==============================] - 0s 6ms/step - loss: 57.9749 - mse: 57.9749 - val_loss: 47.0398 - val_mse: 47.0398\n",
            "Epoch 25/25\n",
            "15/15 [==============================] - 0s 5ms/step - loss: 57.2398 - mse: 57.2398 - val_loss: 44.2091 - val_mse: 44.2091\n"
          ]
        }
      ]
    },
    {
      "cell_type": "markdown",
      "source": [
        "## Строим 9-ю модель из 4-х слоев, воспользуемся при обучении гиперпараметром batch_size=12"
      ],
      "metadata": {
        "id": "78_-OFu-8hen"
      }
    },
    {
      "cell_type": "code",
      "source": [
        "model_9 = Sequential([\n",
        "    Dense(256, activation='relu', input_shape=(13,)),\n",
        "    Dense(128, activation='linear'),\n",
        "    Dense(64, activation='relu'),\n",
        "    Dense(1, activation='relu')\n",
        "])\n",
        "\n",
        "model_9.compile(optimizer='adam',\n",
        "              loss='mse',\n",
        "              metrics=['mse'])\n",
        "\n",
        "model_9.summary()"
      ],
      "metadata": {
        "colab": {
          "base_uri": "https://localhost:8080/"
        },
        "id": "SJxeFd4H8swu",
        "outputId": "68576c19-aa5b-4044-c5af-9a4e0ebf92f9"
      },
      "execution_count": 35,
      "outputs": [
        {
          "output_type": "stream",
          "name": "stdout",
          "text": [
            "Model: \"sequential_9\"\n",
            "_________________________________________________________________\n",
            " Layer (type)                Output Shape              Param #   \n",
            "=================================================================\n",
            " dense_52 (Dense)            (None, 256)               3584      \n",
            "                                                                 \n",
            " dense_53 (Dense)            (None, 128)               32896     \n",
            "                                                                 \n",
            " dense_54 (Dense)            (None, 64)                8256      \n",
            "                                                                 \n",
            " dense_55 (Dense)            (None, 1)                 65        \n",
            "                                                                 \n",
            "=================================================================\n",
            "Total params: 44,801\n",
            "Trainable params: 44,801\n",
            "Non-trainable params: 0\n",
            "_________________________________________________________________\n"
          ]
        }
      ]
    },
    {
      "cell_type": "code",
      "source": [
        "history = model_9.fit(X_train, y_train,\n",
        "                    epochs=25,\n",
        "                    batch_size=12,\n",
        "                    validation_data=(X_test, y_test))"
      ],
      "metadata": {
        "colab": {
          "base_uri": "https://localhost:8080/"
        },
        "id": "t55_vtM_8x0k",
        "outputId": "a6a92f8d-0f8a-4203-9736-08d318f30f0c"
      },
      "execution_count": 36,
      "outputs": [
        {
          "output_type": "stream",
          "name": "stdout",
          "text": [
            "Epoch 1/25\n",
            "30/30 [==============================] - 1s 9ms/step - loss: 472.6851 - mse: 472.6851 - val_loss: 140.3131 - val_mse: 140.3131\n",
            "Epoch 2/25\n",
            "30/30 [==============================] - 0s 4ms/step - loss: 97.5559 - mse: 97.5559 - val_loss: 66.4894 - val_mse: 66.4894\n",
            "Epoch 3/25\n",
            "30/30 [==============================] - 0s 4ms/step - loss: 76.4204 - mse: 76.4204 - val_loss: 59.2989 - val_mse: 59.2989\n",
            "Epoch 4/25\n",
            "30/30 [==============================] - 0s 4ms/step - loss: 71.2861 - mse: 71.2861 - val_loss: 54.4356 - val_mse: 54.4356\n",
            "Epoch 5/25\n",
            "30/30 [==============================] - 0s 4ms/step - loss: 69.7582 - mse: 69.7582 - val_loss: 52.1245 - val_mse: 52.1245\n",
            "Epoch 6/25\n",
            "30/30 [==============================] - 0s 4ms/step - loss: 66.4347 - mse: 66.4347 - val_loss: 49.9026 - val_mse: 49.9026\n",
            "Epoch 7/25\n",
            "30/30 [==============================] - 0s 4ms/step - loss: 64.6155 - mse: 64.6155 - val_loss: 58.2144 - val_mse: 58.2144\n",
            "Epoch 8/25\n",
            "30/30 [==============================] - 0s 4ms/step - loss: 64.9754 - mse: 64.9754 - val_loss: 52.8436 - val_mse: 52.8436\n",
            "Epoch 9/25\n",
            "30/30 [==============================] - 0s 4ms/step - loss: 62.6903 - mse: 62.6903 - val_loss: 46.9754 - val_mse: 46.9754\n",
            "Epoch 10/25\n",
            "30/30 [==============================] - 0s 4ms/step - loss: 61.7803 - mse: 61.7803 - val_loss: 48.5903 - val_mse: 48.5903\n",
            "Epoch 11/25\n",
            "30/30 [==============================] - 0s 4ms/step - loss: 61.5733 - mse: 61.5733 - val_loss: 46.2654 - val_mse: 46.2654\n",
            "Epoch 12/25\n",
            "30/30 [==============================] - 0s 4ms/step - loss: 63.6290 - mse: 63.6290 - val_loss: 51.0579 - val_mse: 51.0579\n",
            "Epoch 13/25\n",
            "30/30 [==============================] - 0s 4ms/step - loss: 60.3481 - mse: 60.3481 - val_loss: 46.3727 - val_mse: 46.3727\n",
            "Epoch 14/25\n",
            "30/30 [==============================] - 0s 4ms/step - loss: 61.4350 - mse: 61.4350 - val_loss: 43.7731 - val_mse: 43.7731\n",
            "Epoch 15/25\n",
            "30/30 [==============================] - 0s 4ms/step - loss: 59.6107 - mse: 59.6107 - val_loss: 46.1294 - val_mse: 46.1294\n",
            "Epoch 16/25\n",
            "30/30 [==============================] - 0s 4ms/step - loss: 59.4580 - mse: 59.4580 - val_loss: 47.4978 - val_mse: 47.4978\n",
            "Epoch 17/25\n",
            "30/30 [==============================] - 0s 3ms/step - loss: 58.5198 - mse: 58.5198 - val_loss: 43.6706 - val_mse: 43.6706\n",
            "Epoch 18/25\n",
            "30/30 [==============================] - 0s 4ms/step - loss: 55.8029 - mse: 55.8029 - val_loss: 42.4168 - val_mse: 42.4168\n",
            "Epoch 19/25\n",
            "30/30 [==============================] - 0s 4ms/step - loss: 58.8179 - mse: 58.8179 - val_loss: 40.8733 - val_mse: 40.8733\n",
            "Epoch 20/25\n",
            "30/30 [==============================] - 0s 4ms/step - loss: 54.8899 - mse: 54.8899 - val_loss: 40.3874 - val_mse: 40.3874\n",
            "Epoch 21/25\n",
            "30/30 [==============================] - 0s 4ms/step - loss: 54.5247 - mse: 54.5247 - val_loss: 39.3164 - val_mse: 39.3164\n",
            "Epoch 22/25\n",
            "30/30 [==============================] - 0s 4ms/step - loss: 54.3039 - mse: 54.3039 - val_loss: 40.8395 - val_mse: 40.8395\n",
            "Epoch 23/25\n",
            "30/30 [==============================] - 0s 4ms/step - loss: 54.6500 - mse: 54.6500 - val_loss: 39.5027 - val_mse: 39.5027\n",
            "Epoch 24/25\n",
            "30/30 [==============================] - 0s 4ms/step - loss: 52.2930 - mse: 52.2930 - val_loss: 47.9990 - val_mse: 47.9990\n",
            "Epoch 25/25\n",
            "30/30 [==============================] - 0s 4ms/step - loss: 51.8412 - mse: 51.8412 - val_loss: 36.9403 - val_mse: 36.9403\n"
          ]
        }
      ]
    },
    {
      "cell_type": "markdown",
      "source": [
        "## Строим 10-ю модель из 10 слоев, воспользуемся при обучении гиперпараметром batch_size=12"
      ],
      "metadata": {
        "id": "Ex0B-ODn9Co1"
      }
    },
    {
      "cell_type": "code",
      "source": [
        "model_10 = Sequential([\n",
        "    Dense(1024, activation='relu', input_shape=(13,)),\n",
        "    Dense(512, activation='linear'),\n",
        "    Dense(394, activation='relu'),\n",
        "    Dense(316, activation='linear'),\n",
        "    Dense(288, activation='relu'),\n",
        "    Dense(256, activation='linear'),\n",
        "    Dense(128, activation='relu'),\n",
        "    Dense(64, activation='linear'),\n",
        "    Dense(32, activation='relu'),\n",
        "    Dense(1, activation='relu')\n",
        "])\n",
        "\n",
        "model_10.compile(optimizer='adam',\n",
        "              loss='mse',\n",
        "              metrics=['mse'])\n",
        "\n",
        "model_10.summary()"
      ],
      "metadata": {
        "colab": {
          "base_uri": "https://localhost:8080/"
        },
        "id": "Gof9Y5jg9Mtq",
        "outputId": "14ce69a9-16fa-4c59-fd76-e745b1b2188a"
      },
      "execution_count": 37,
      "outputs": [
        {
          "output_type": "stream",
          "name": "stdout",
          "text": [
            "Model: \"sequential_10\"\n",
            "_________________________________________________________________\n",
            " Layer (type)                Output Shape              Param #   \n",
            "=================================================================\n",
            " dense_56 (Dense)            (None, 1024)              14336     \n",
            "                                                                 \n",
            " dense_57 (Dense)            (None, 512)               524800    \n",
            "                                                                 \n",
            " dense_58 (Dense)            (None, 394)               202122    \n",
            "                                                                 \n",
            " dense_59 (Dense)            (None, 316)               124820    \n",
            "                                                                 \n",
            " dense_60 (Dense)            (None, 288)               91296     \n",
            "                                                                 \n",
            " dense_61 (Dense)            (None, 256)               73984     \n",
            "                                                                 \n",
            " dense_62 (Dense)            (None, 128)               32896     \n",
            "                                                                 \n",
            " dense_63 (Dense)            (None, 64)                8256      \n",
            "                                                                 \n",
            " dense_64 (Dense)            (None, 32)                2080      \n",
            "                                                                 \n",
            " dense_65 (Dense)            (None, 1)                 33        \n",
            "                                                                 \n",
            "=================================================================\n",
            "Total params: 1,074,623\n",
            "Trainable params: 1,074,623\n",
            "Non-trainable params: 0\n",
            "_________________________________________________________________\n"
          ]
        }
      ]
    },
    {
      "cell_type": "code",
      "source": [
        "history = model_10.fit(X_train, y_train,\n",
        "                    epochs=25,\n",
        "                    batch_size=12,\n",
        "                    validation_data=(X_test, y_test))"
      ],
      "metadata": {
        "colab": {
          "base_uri": "https://localhost:8080/"
        },
        "id": "QpwIozi39qmk",
        "outputId": "402b92be-7b5f-4795-8d9f-28dd379bdd0b"
      },
      "execution_count": 38,
      "outputs": [
        {
          "output_type": "stream",
          "name": "stdout",
          "text": [
            "Epoch 1/25\n",
            "30/30 [==============================] - 2s 22ms/step - loss: 168.8727 - mse: 168.8727 - val_loss: 100.3450 - val_mse: 100.3450\n",
            "Epoch 2/25\n",
            "30/30 [==============================] - 0s 15ms/step - loss: 70.4274 - mse: 70.4274 - val_loss: 51.7197 - val_mse: 51.7197\n",
            "Epoch 3/25\n",
            "30/30 [==============================] - 0s 15ms/step - loss: 70.2282 - mse: 70.2282 - val_loss: 64.0170 - val_mse: 64.0170\n",
            "Epoch 4/25\n",
            "30/30 [==============================] - 0s 15ms/step - loss: 87.6432 - mse: 87.6432 - val_loss: 54.7320 - val_mse: 54.7320\n",
            "Epoch 5/25\n",
            "30/30 [==============================] - 0s 14ms/step - loss: 74.2757 - mse: 74.2757 - val_loss: 88.6901 - val_mse: 88.6901\n",
            "Epoch 6/25\n",
            "30/30 [==============================] - 0s 15ms/step - loss: 68.1117 - mse: 68.1117 - val_loss: 57.2796 - val_mse: 57.2796\n",
            "Epoch 7/25\n",
            "30/30 [==============================] - 0s 16ms/step - loss: 63.1214 - mse: 63.1214 - val_loss: 60.6752 - val_mse: 60.6752\n",
            "Epoch 8/25\n",
            "30/30 [==============================] - 0s 15ms/step - loss: 61.0282 - mse: 61.0282 - val_loss: 64.7294 - val_mse: 64.7294\n",
            "Epoch 9/25\n",
            "30/30 [==============================] - 0s 15ms/step - loss: 68.4593 - mse: 68.4593 - val_loss: 44.2379 - val_mse: 44.2379\n",
            "Epoch 10/25\n",
            "30/30 [==============================] - 0s 16ms/step - loss: 55.6428 - mse: 55.6428 - val_loss: 41.6439 - val_mse: 41.6439\n",
            "Epoch 11/25\n",
            "30/30 [==============================] - 0s 16ms/step - loss: 54.1616 - mse: 54.1616 - val_loss: 36.6041 - val_mse: 36.6041\n",
            "Epoch 12/25\n",
            "30/30 [==============================] - 1s 17ms/step - loss: 49.6503 - mse: 49.6503 - val_loss: 32.1755 - val_mse: 32.1755\n",
            "Epoch 13/25\n",
            "30/30 [==============================] - 0s 15ms/step - loss: 51.1290 - mse: 51.1290 - val_loss: 88.0465 - val_mse: 88.0465\n",
            "Epoch 14/25\n",
            "30/30 [==============================] - 0s 15ms/step - loss: 56.2829 - mse: 56.2829 - val_loss: 35.9512 - val_mse: 35.9512\n",
            "Epoch 15/25\n",
            "30/30 [==============================] - 0s 15ms/step - loss: 54.1744 - mse: 54.1744 - val_loss: 39.6759 - val_mse: 39.6759\n",
            "Epoch 16/25\n",
            "30/30 [==============================] - 0s 16ms/step - loss: 45.9631 - mse: 45.9631 - val_loss: 72.0550 - val_mse: 72.0550\n",
            "Epoch 17/25\n",
            "30/30 [==============================] - 0s 15ms/step - loss: 39.4208 - mse: 39.4208 - val_loss: 24.7690 - val_mse: 24.7690\n",
            "Epoch 18/25\n",
            "30/30 [==============================] - 0s 15ms/step - loss: 32.0137 - mse: 32.0137 - val_loss: 24.0741 - val_mse: 24.0741\n",
            "Epoch 19/25\n",
            "30/30 [==============================] - 0s 15ms/step - loss: 36.1551 - mse: 36.1551 - val_loss: 83.8473 - val_mse: 83.8473\n",
            "Epoch 20/25\n",
            "30/30 [==============================] - 0s 15ms/step - loss: 45.6991 - mse: 45.6991 - val_loss: 23.4493 - val_mse: 23.4493\n",
            "Epoch 21/25\n",
            "30/30 [==============================] - 0s 15ms/step - loss: 35.3025 - mse: 35.3025 - val_loss: 38.7291 - val_mse: 38.7291\n",
            "Epoch 22/25\n",
            "30/30 [==============================] - 0s 16ms/step - loss: 28.6883 - mse: 28.6883 - val_loss: 30.7592 - val_mse: 30.7592\n",
            "Epoch 23/25\n",
            "30/30 [==============================] - 0s 15ms/step - loss: 28.7699 - mse: 28.7699 - val_loss: 28.7869 - val_mse: 28.7869\n",
            "Epoch 24/25\n",
            "30/30 [==============================] - 0s 15ms/step - loss: 34.0069 - mse: 34.0069 - val_loss: 48.6009 - val_mse: 48.6009\n",
            "Epoch 25/25\n",
            "30/30 [==============================] - 0s 16ms/step - loss: 36.0955 - mse: 36.0955 - val_loss: 19.8034 - val_mse: 19.8034\n"
          ]
        }
      ]
    },
    {
      "cell_type": "markdown",
      "source": [
        "## Задание 2"
      ],
      "metadata": {
        "id": "GPnkwZD28ho6"
      }
    },
    {
      "cell_type": "code",
      "source": [
        "model_eval_dict = {\n",
        "    'model_1': model_1,\n",
        "    'model_2': model_2,\n",
        "    'model_3': model_3,\n",
        "    'model_4': model_4,\n",
        "    'model_5': model_5,\n",
        "    'model_6': model_6,\n",
        "    'model_7': model_7,\n",
        "    'model_8': model_8,\n",
        "    'model_9': model_9,\n",
        "    'model_10': model_10,\n",
        "    }\n",
        "\n",
        "for model in model_eval_dict.keys():\n",
        "    test_loss, test_mse = model_eval_dict[model].evaluate(X_test, y_test, verbose=False)\n",
        "    model_eval_dict[model] = test_mse"
      ],
      "metadata": {
        "id": "ZwlCxlim-oKh"
      },
      "execution_count": 47,
      "outputs": []
    },
    {
      "cell_type": "code",
      "source": [
        "df = pd.DataFrame.from_dict(model_eval_dict, orient='index', columns = ['test_mse'])\n",
        "df"
      ],
      "metadata": {
        "colab": {
          "base_uri": "https://localhost:8080/",
          "height": 363
        },
        "id": "5kOxKeRpEYoH",
        "outputId": "c08a8b34-e8b7-4970-ecdb-f3969c760831"
      },
      "execution_count": 50,
      "outputs": [
        {
          "output_type": "execute_result",
          "data": {
            "text/html": [
              "\n",
              "  <div id=\"df-b2a675ba-69e3-4f05-94a8-2cac1b4d2871\">\n",
              "    <div class=\"colab-df-container\">\n",
              "      <div>\n",
              "<style scoped>\n",
              "    .dataframe tbody tr th:only-of-type {\n",
              "        vertical-align: middle;\n",
              "    }\n",
              "\n",
              "    .dataframe tbody tr th {\n",
              "        vertical-align: top;\n",
              "    }\n",
              "\n",
              "    .dataframe thead th {\n",
              "        text-align: right;\n",
              "    }\n",
              "</style>\n",
              "<table border=\"1\" class=\"dataframe\">\n",
              "  <thead>\n",
              "    <tr style=\"text-align: right;\">\n",
              "      <th></th>\n",
              "      <th>test_mse</th>\n",
              "    </tr>\n",
              "  </thead>\n",
              "  <tbody>\n",
              "    <tr>\n",
              "      <th>model_1</th>\n",
              "      <td>61.576080</td>\n",
              "    </tr>\n",
              "    <tr>\n",
              "      <th>model_2</th>\n",
              "      <td>55.346096</td>\n",
              "    </tr>\n",
              "    <tr>\n",
              "      <th>model_3</th>\n",
              "      <td>47.992832</td>\n",
              "    </tr>\n",
              "    <tr>\n",
              "      <th>model_4</th>\n",
              "      <td>50.393246</td>\n",
              "    </tr>\n",
              "    <tr>\n",
              "      <th>model_5</th>\n",
              "      <td>48.704182</td>\n",
              "    </tr>\n",
              "    <tr>\n",
              "      <th>model_6</th>\n",
              "      <td>65.564339</td>\n",
              "    </tr>\n",
              "    <tr>\n",
              "      <th>model_7</th>\n",
              "      <td>31.801876</td>\n",
              "    </tr>\n",
              "    <tr>\n",
              "      <th>model_8</th>\n",
              "      <td>44.209057</td>\n",
              "    </tr>\n",
              "    <tr>\n",
              "      <th>model_9</th>\n",
              "      <td>36.940308</td>\n",
              "    </tr>\n",
              "    <tr>\n",
              "      <th>model_10</th>\n",
              "      <td>19.803391</td>\n",
              "    </tr>\n",
              "  </tbody>\n",
              "</table>\n",
              "</div>\n",
              "      <button class=\"colab-df-convert\" onclick=\"convertToInteractive('df-b2a675ba-69e3-4f05-94a8-2cac1b4d2871')\"\n",
              "              title=\"Convert this dataframe to an interactive table.\"\n",
              "              style=\"display:none;\">\n",
              "        \n",
              "  <svg xmlns=\"http://www.w3.org/2000/svg\" height=\"24px\"viewBox=\"0 0 24 24\"\n",
              "       width=\"24px\">\n",
              "    <path d=\"M0 0h24v24H0V0z\" fill=\"none\"/>\n",
              "    <path d=\"M18.56 5.44l.94 2.06.94-2.06 2.06-.94-2.06-.94-.94-2.06-.94 2.06-2.06.94zm-11 1L8.5 8.5l.94-2.06 2.06-.94-2.06-.94L8.5 2.5l-.94 2.06-2.06.94zm10 10l.94 2.06.94-2.06 2.06-.94-2.06-.94-.94-2.06-.94 2.06-2.06.94z\"/><path d=\"M17.41 7.96l-1.37-1.37c-.4-.4-.92-.59-1.43-.59-.52 0-1.04.2-1.43.59L10.3 9.45l-7.72 7.72c-.78.78-.78 2.05 0 2.83L4 21.41c.39.39.9.59 1.41.59.51 0 1.02-.2 1.41-.59l7.78-7.78 2.81-2.81c.8-.78.8-2.07 0-2.86zM5.41 20L4 18.59l7.72-7.72 1.47 1.35L5.41 20z\"/>\n",
              "  </svg>\n",
              "      </button>\n",
              "      \n",
              "  <style>\n",
              "    .colab-df-container {\n",
              "      display:flex;\n",
              "      flex-wrap:wrap;\n",
              "      gap: 12px;\n",
              "    }\n",
              "\n",
              "    .colab-df-convert {\n",
              "      background-color: #E8F0FE;\n",
              "      border: none;\n",
              "      border-radius: 50%;\n",
              "      cursor: pointer;\n",
              "      display: none;\n",
              "      fill: #1967D2;\n",
              "      height: 32px;\n",
              "      padding: 0 0 0 0;\n",
              "      width: 32px;\n",
              "    }\n",
              "\n",
              "    .colab-df-convert:hover {\n",
              "      background-color: #E2EBFA;\n",
              "      box-shadow: 0px 1px 2px rgba(60, 64, 67, 0.3), 0px 1px 3px 1px rgba(60, 64, 67, 0.15);\n",
              "      fill: #174EA6;\n",
              "    }\n",
              "\n",
              "    [theme=dark] .colab-df-convert {\n",
              "      background-color: #3B4455;\n",
              "      fill: #D2E3FC;\n",
              "    }\n",
              "\n",
              "    [theme=dark] .colab-df-convert:hover {\n",
              "      background-color: #434B5C;\n",
              "      box-shadow: 0px 1px 3px 1px rgba(0, 0, 0, 0.15);\n",
              "      filter: drop-shadow(0px 1px 2px rgba(0, 0, 0, 0.3));\n",
              "      fill: #FFFFFF;\n",
              "    }\n",
              "  </style>\n",
              "\n",
              "      <script>\n",
              "        const buttonEl =\n",
              "          document.querySelector('#df-b2a675ba-69e3-4f05-94a8-2cac1b4d2871 button.colab-df-convert');\n",
              "        buttonEl.style.display =\n",
              "          google.colab.kernel.accessAllowed ? 'block' : 'none';\n",
              "\n",
              "        async function convertToInteractive(key) {\n",
              "          const element = document.querySelector('#df-b2a675ba-69e3-4f05-94a8-2cac1b4d2871');\n",
              "          const dataTable =\n",
              "            await google.colab.kernel.invokeFunction('convertToInteractive',\n",
              "                                                     [key], {});\n",
              "          if (!dataTable) return;\n",
              "\n",
              "          const docLinkHtml = 'Like what you see? Visit the ' +\n",
              "            '<a target=\"_blank\" href=https://colab.research.google.com/notebooks/data_table.ipynb>data table notebook</a>'\n",
              "            + ' to learn more about interactive tables.';\n",
              "          element.innerHTML = '';\n",
              "          dataTable['output_type'] = 'display_data';\n",
              "          await google.colab.output.renderOutput(dataTable, element);\n",
              "          const docLink = document.createElement('div');\n",
              "          docLink.innerHTML = docLinkHtml;\n",
              "          element.appendChild(docLink);\n",
              "        }\n",
              "      </script>\n",
              "    </div>\n",
              "  </div>\n",
              "  "
            ],
            "text/plain": [
              "           test_mse\n",
              "model_1   61.576080\n",
              "model_2   55.346096\n",
              "model_3   47.992832\n",
              "model_4   50.393246\n",
              "model_5   48.704182\n",
              "model_6   65.564339\n",
              "model_7   31.801876\n",
              "model_8   44.209057\n",
              "model_9   36.940308\n",
              "model_10  19.803391"
            ]
          },
          "metadata": {},
          "execution_count": 50
        }
      ]
    },
    {
      "cell_type": "markdown",
      "source": [
        "## Выводы\n",
        "\n",
        "Лучшая модель model_10 показала на трейне MSE=36.09, на тесте MSE=19.8\n",
        "\n",
        "В положительную сторону сработали следующиие действия:\n",
        "1.   Увеличение числа нейронов в слоях\n",
        "2.   Увеличение количества слоев (думаю, это связано с тем, что тут задача регрессии и нет проблемы сигмоид и тангенсов с затуханием градиентов)\n",
        "3.   Оптимизаторы Adam и RMSProp\n",
        "4.   Введение определенного batch_size при обучении"
      ],
      "metadata": {
        "id": "iRagVVwmE0Mo"
      }
    }
  ]
}